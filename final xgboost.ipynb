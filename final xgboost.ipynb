{
 "cells": [
  {
   "cell_type": "code",
   "execution_count": 75,
   "metadata": {},
   "outputs": [],
   "source": [
    "import numpy as np\n",
    "import pandas as pd\n",
    "import random\n",
    "import networkx as nx\n",
    "from networkx.algorithms.shortest_paths.generic import shortest_path_length as pathwalk\n",
    "from sklearn.preprocessing import StandardScaler\n",
    "from sklearn.preprocessing import MinMaxScaler\n",
    "from sklearn.preprocessing import RobustScaler\n",
    "from matplotlib import pyplot as plt"
   ]
  },
  {
   "cell_type": "code",
   "execution_count": 252,
   "metadata": {},
   "outputs": [],
   "source": [
    "Data = pd.read_csv('/Users/mac/Desktop/Project1/partial.csv')\n",
    "Test = pd.read_csv('/Users/mac/Desktop/Project1/test.csv')\n",
    "Train = pd.read_csv('/Users/mac/Desktop/Project1/train_sample.csv')"
   ]
  },
  {
   "cell_type": "code",
   "execution_count": 253,
   "metadata": {},
   "outputs": [
    {
     "name": "stdout",
     "output_type": "stream",
     "text": [
      "           node_1   node_2\n",
      "0          540762  1912140\n",
      "1          540762  1537559\n",
      "2          540762  3091331\n",
      "3          540762  2757277\n",
      "4          540762  3237295\n",
      "...           ...      ...\n",
      "24002356  3547024  1075576\n",
      "24002357  3547024  4549841\n",
      "24002358  3547024  1135647\n",
      "24002359  3547024   807274\n",
      "24002360  3547024  3897045\n",
      "\n",
      "[24002361 rows x 2 columns]\n",
      "        Id   source     sink\n",
      "0        1  3563811  3600160\n",
      "1        2  2052043  1401960\n",
      "2        3  4517994  1690636\n",
      "3        4  1660006  4349447\n",
      "4        5   581111  1882617\n",
      "...    ...      ...      ...\n",
      "1995  1996  1461386  2341683\n",
      "1996  1997  4057755  1871227\n",
      "1997  1998  4242514  1413468\n",
      "1998  1999   555531  1290080\n",
      "1999  2000  1707829  2373045\n",
      "\n",
      "[2000 rows x 3 columns]\n",
      "         from       in  label\n",
      "0     2893327  4331696      1\n",
      "1      455376  4697286      1\n",
      "2      544230   521586      1\n",
      "3     4238001  1870577      1\n",
      "4     1249227  1024872      1\n",
      "...       ...      ...    ...\n",
      "4495  4086455  2011407      0\n",
      "4496  3464362  3048234      0\n",
      "4497  3795799  1714468      0\n",
      "4498  3595427  3381548      0\n",
      "4499   455376  4137646      0\n",
      "\n",
      "[4500 rows x 3 columns]\n"
     ]
    }
   ],
   "source": [
    "print(Data) #24002361 rows x 2 columns\n",
    "print(Test) #2000 rows x 3 columns\n",
    "print(Train) #4000 rows x 3 columns"
   ]
  },
  {
   "cell_type": "code",
   "execution_count": 254,
   "metadata": {},
   "outputs": [
    {
     "data": {
      "text/plain": [
       "array([[2893327, 4331696],\n",
       "       [ 455376, 4697286],\n",
       "       [ 544230,  521586],\n",
       "       ...,\n",
       "       [3795799, 1714468],\n",
       "       [3595427, 3381548],\n",
       "       [ 455376, 4137646]])"
      ]
     },
     "execution_count": 254,
     "metadata": {},
     "output_type": "execute_result"
    }
   ],
   "source": [
    "#source = list(Test.source)\n",
    "#source\n",
    "#sink = list(Test.sink)\n",
    "#node_test = (source,sink)\n",
    "#node_test = np.array((source,sink)))\n",
    "node_test = np.array(Test[['source','sink']])\n",
    "node_test\n",
    "\n",
    "node_train = np.array(Train[['from','in']])\n",
    "node_train"
   ]
  },
  {
   "cell_type": "code",
   "execution_count": 6,
   "metadata": {},
   "outputs": [],
   "source": [
    "DG = nx.from_pandas_edgelist(Data, \"node_1\", \"node_2\", create_using=nx.DiGraph())"
   ]
  },
  {
   "cell_type": "code",
   "execution_count": 7,
   "metadata": {},
   "outputs": [],
   "source": [
    "NG = nx.from_pandas_edgelist(Data, \"node_1\", \"node_2\", create_using=nx.Graph())"
   ]
  },
  {
   "cell_type": "code",
   "execution_count": 135,
   "metadata": {},
   "outputs": [],
   "source": [
    "#all kinds of common nodes and resource alocate\n",
    "\n",
    "def CaculateSim_1 (node_a, node_b):\n",
    "    a_in_set = set(DG.predecessors(node_a))  \n",
    "    b_in_set = set(DG.predecessors(node_b))\n",
    "    common = a_in_set & b_in_set\n",
    "    cn1 = len(common)\n",
    "    \n",
    "    ra1 = 0\n",
    "    for node in common:\n",
    "        temp = DG.in_degree(node)+DG.out_degree(node)\n",
    "        ra1 = ra1 + 1/np.log(temp)\n",
    "    \n",
    "    return cn1, ra1\n",
    "\n",
    "\n",
    "def CaculateSim_2 (node_a, node_b):\n",
    "    a_out_set = set(DG.successors(node_a))\n",
    "    b_out_set = set(DG.successors(node_b))\n",
    "    common = a_out_set & b_out_set\n",
    "    cn2 = len(common)\n",
    "\n",
    "    ra2 = 0\n",
    "    for node in common:\n",
    "        temp = DG.in_degree(node)+DG.out_degree(node)\n",
    "        ra2 = ra2 + 1/np.log(temp)\n",
    "        \n",
    "    return cn2, ra2\n",
    "    \n",
    "\n",
    "def CaculateSim_3 (node_a, node_b):\n",
    "    a_in_set = set(DG.predecessors(node_a))\n",
    "    b_out_set = set(DG.successors(node_b))\n",
    "    common = a_in_set & b_out_set\n",
    "    cn3 = len(common)\n",
    "    \n",
    "    ra3 = 0\n",
    "    for node in common:\n",
    "        temp = DG.in_degree(node)+DG.out_degree(node)\n",
    "        ra3 = ra3 + 1/np.log(temp)\n",
    "\n",
    "    return cn3, ra3\n",
    "\n",
    "  \n",
    "def CaculateSim_4 (node_a, node_b):\n",
    "    a_out_set = set(DG.successors(node_a))\n",
    "    b_in_set = set(DG.predecessors(node_b))\n",
    "    common = a_out_set & b_in_set\n",
    "    cn4 = len(common)\n",
    "    \n",
    "    ra4 = 0\n",
    "    for node in common:\n",
    "        temp = DG.in_degree(node)+DG.out_degree(node)\n",
    "        ra4 = ra4 + 1/np.log(temp)\n",
    "    \n",
    "    return cn4, ra4"
   ]
  },
  {
   "cell_type": "code",
   "execution_count": 136,
   "metadata": {},
   "outputs": [],
   "source": [
    "cn1_test = []\n",
    "cn2_test = []\n",
    "cn3_test = []\n",
    "cn4_test = []\n",
    "ra1_test = []\n",
    "ra2_test = []\n",
    "ra3_test = []\n",
    "ra4_test = []\n",
    "\n",
    "for node in node_test:\n",
    "    node_a = node[0]\n",
    "    node_b = node[1]\n",
    "    a1, b1 = CaculateSim_1(node_a,node_b)\n",
    "    a2, b2 = CaculateSim_2(node_a,node_b)\n",
    "    a3, b3 = CaculateSim_3(node_a,node_b)\n",
    "    a4, b4 = CaculateSim_4(node_a,node_b)\n",
    "    \n",
    "    cn1_test.append(a1)\n",
    "    cn2_test.append(a2)\n",
    "    cn3_test.append(a3)\n",
    "    cn4_test.append(a4)\n",
    "    \n",
    "    ra1_test.append(b1) \n",
    "    ra2_test.append(b2) \n",
    "    ra3_test.append(b3) \n",
    "    ra4_test.append(b4)   "
   ]
  },
  {
   "cell_type": "code",
   "execution_count": 137,
   "metadata": {},
   "outputs": [
    {
     "data": {
      "image/png": "[encoded data removed]",
      "text/plain": [
       "<Figure size 432x288 with 1 Axes>"
      ]
     },
     "metadata": {
      "needs_background": "light"
     },
     "output_type": "display_data"
    }
   ],
   "source": [
    "plt.hist(ra1_test)\n",
    "plt.show()\n",
    "#print(max(cn4_test), min(cn4_test))"
   ]
  },
  {
   "cell_type": "code",
   "execution_count": 255,
   "metadata": {},
   "outputs": [],
   "source": [
    "cn1_train = []\n",
    "ra1_train = []\n",
    "for node in node_train:\n",
    "    node_a = node[0]\n",
    "    node_b = node[1]\n",
    "    a, b = CaculateSim_1(node_a,node_b)\n",
    "    cn1_train.append(a)\n",
    "    ra1_train.append(b)"
   ]
  },
  {
   "cell_type": "code",
   "execution_count": 256,
   "metadata": {},
   "outputs": [],
   "source": [
    "cn2_train = []\n",
    "ra2_train = []\n",
    "for node in node_train:\n",
    "    node_a = node[0]\n",
    "    node_b = node[1]\n",
    "    a, b = CaculateSim_1(node_a,node_b)\n",
    "    cn2_train.append(a)\n",
    "    ra2_train.append(b)"
   ]
  },
  {
   "cell_type": "code",
   "execution_count": 257,
   "metadata": {},
   "outputs": [],
   "source": [
    "cn3_train = []\n",
    "ra3_train = []\n",
    "for node in node_train:\n",
    "    node_a = node[0]\n",
    "    node_b = node[1]\n",
    "    a, b = CaculateSim_1(node_a,node_b)\n",
    "    cn3_train.append(a)\n",
    "    ra3_train.append(b)"
   ]
  },
  {
   "cell_type": "code",
   "execution_count": 258,
   "metadata": {},
   "outputs": [],
   "source": [
    "cn4_train = []\n",
    "ra4_train = []\n",
    "for node in node_train:\n",
    "    node_a = node[0]\n",
    "    node_b = node[1]\n",
    "    a, b = CaculateSim_1(node_a,node_b)\n",
    "    cn4_train.append(a)\n",
    "    ra4_train.append(b)"
   ]
  },
  {
   "cell_type": "code",
   "execution_count": 259,
   "metadata": {},
   "outputs": [
    {
     "data": {
      "image/png": "[encoded data removed]",
      "text/plain": [
       "<Figure size 432x288 with 1 Axes>"
      ]
     },
     "metadata": {
      "needs_background": "light"
     },
     "output_type": "display_data"
    }
   ],
   "source": [
    "plt.hist(ra4_train)\n",
    "plt.show()"
   ]
  },
  {
   "cell_type": "code",
   "execution_count": 16,
   "metadata": {},
   "outputs": [],
   "source": [
    "#randomwalk\n",
    "walk_test = []\n",
    "\n",
    "for node in node_test:\n",
    "    node_a = node[0]\n",
    "    node_b = node[1]\n",
    "    walk = pathwalk(NG, source=node_a, target=node_b, weight=None, method='dijkstra')\n",
    "    walk_test.append(walk)"
   ]
  },
  {
   "cell_type": "code",
   "execution_count": 17,
   "metadata": {},
   "outputs": [
    {
     "data": {
      "image/png": "[encoded data removed]",
      "text/plain": [
       "<Figure size 432x288 with 1 Axes>"
      ]
     },
     "metadata": {
      "needs_background": "light"
     },
     "output_type": "display_data"
    }
   ],
   "source": [
    "plt.hist(walk_test)\n",
    "plt.show()  #一定要被归一化才行"
   ]
  },
  {
   "cell_type": "code",
   "execution_count": 260,
   "metadata": {},
   "outputs": [],
   "source": [
    "walk_train = []\n",
    "\n",
    "for node in node_train:\n",
    "    node_a = node[0]\n",
    "    node_b = node[1]\n",
    "    walk = pathwalk(NG, source=node_a, target=node_b, weight=None, method='dijkstra')\n",
    "    walk_train.append(walk)"
   ]
  },
  {
   "cell_type": "code",
   "execution_count": 261,
   "metadata": {},
   "outputs": [
    {
     "data": {
      "image/png": "[encoded data removed]",
      "text/plain": [
       "<Figure size 432x288 with 1 Axes>"
      ]
     },
     "metadata": {
      "needs_background": "light"
     },
     "output_type": "display_data"
    }
   ],
   "source": [
    "plt.hist(walk_train)\n",
    "plt.show() "
   ]
  },
  {
   "cell_type": "code",
   "execution_count": 262,
   "metadata": {},
   "outputs": [
    {
     "name": "stdout",
     "output_type": "stream",
     "text": [
      "         from       in  cn1  cn2  cn3  cn4       ra1  ra2  ra3      ra4  walk\n",
      "0     3563811  3600160    0    0    0    0  0.000000  0.0  0.0  0.00000     3\n",
      "1     2052043  1401960    0    0    0    0  0.000000  0.0  0.0  0.00000     3\n",
      "2     4517994  1690636    2    0    0    2  0.304319  0.0  0.0  0.30346     2\n",
      "3     1660006  4349447    2    0    0    2  0.178380  0.0  0.0  0.17838     2\n",
      "4      581111  1882617    0    0    0    0  0.000000  0.0  0.0  0.00000     3\n",
      "...       ...      ...  ...  ...  ...  ...       ...  ...  ...      ...   ...\n",
      "1995  1461386  2341683    0    0    0    0  0.000000  0.0  0.0  0.00000     3\n",
      "1996  4057755  1871227    1    0    0    0  0.100384  0.0  0.0  0.00000     2\n",
      "1997  4242514  1413468    0    0    0    0  0.000000  0.0  0.0  0.00000     3\n",
      "1998   555531  1290080    0    0    0    0  0.000000  0.0  0.0  0.00000     3\n",
      "1999  1707829  2373045    0    0    0    0  0.000000  0.0  0.0  0.00000     3\n",
      "\n",
      "[2000 rows x 11 columns]\n",
      "         from       in  cn1  cn2  cn3  cn4        ra1        ra2        ra3  \\\n",
      "0     2893327  4331696   10   10   10   10   0.953508   0.953508   0.953508   \n",
      "1      455376  4697286    0    0    0    0   0.000000   0.000000   0.000000   \n",
      "2      544230   521586  564  564  564  564  68.655422  68.655422  68.655422   \n",
      "3     4238001  1870577   50   50   50   50   4.793656   4.793656   4.793656   \n",
      "4     1249227  1024872   31   31   31   31   2.886381   2.886381   2.886381   \n",
      "...       ...      ...  ...  ...  ...  ...        ...        ...        ...   \n",
      "4495  4086455  2011407    0    0    0    0   0.000000   0.000000   0.000000   \n",
      "4496  3464362  3048234    0    0    0    0   0.000000   0.000000   0.000000   \n",
      "4497  3795799  1714468    0    0    0    0   0.000000   0.000000   0.000000   \n",
      "4498  3595427  3381548    0    0    0    0   0.000000   0.000000   0.000000   \n",
      "4499   455376  4137646    0    0    0    0   0.000000   0.000000   0.000000   \n",
      "\n",
      "            ra4  walk  label  \n",
      "0      0.953508     2      1  \n",
      "1      0.000000     3      1  \n",
      "2     68.655422     1      1  \n",
      "3      4.793656     2      1  \n",
      "4      2.886381     2      1  \n",
      "...         ...   ...    ...  \n",
      "4495   0.000000     3      0  \n",
      "4496   0.000000     2      0  \n",
      "4497   0.000000     4      0  \n",
      "4498   0.000000     3      0  \n",
      "4499   0.000000     3      0  \n",
      "\n",
      "[4500 rows x 12 columns]\n"
     ]
    }
   ],
   "source": [
    "train_all = pd.DataFrame({'from':Train['from'] ,'in':Train['in'] ,\\\n",
    "                          'cn1':cn1_train,'cn2':cn2_train,'cn3':cn3_train,'cn4':cn4_train,\\\n",
    "                          'ra1':ra1_train,'ra2':ra2_train,'ra3':ra3_train,'ra4':ra4_train, \\\n",
    "                          'walk':walk_train, 'label':Train['label']})\n",
    "test_df = pd.DataFrame({'from':Test['source'] ,'in':Test['sink'] ,\\\n",
    "                        'cn1':cn1_test,'cn2':cn2_test,'cn3':cn3_test,'cn4':cn4_test,\\\n",
    "                        'ra1':ra1_test,'ra2':ra2_test,'ra3':ra3_test,'ra4':ra4_test,\\\n",
    "                       'walk':walk_test})\n",
    "print(test_df)\n",
    "print(train_all)"
   ]
  },
  {
   "cell_type": "code",
   "execution_count": 263,
   "metadata": {},
   "outputs": [],
   "source": [
    "from sklearn.model_selection import train_test_split\n",
    "train_df, valid_df = train_test_split(train_all, test_size=0.2, random_state=1)"
   ]
  },
  {
   "cell_type": "code",
   "execution_count": 264,
   "metadata": {},
   "outputs": [
    {
     "data": {
      "text/plain": [
       "Index(['from', 'in', 'cn1', 'cn2', 'cn3', 'cn4', 'ra1', 'ra2', 'ra3', 'ra4',\n",
       "       'walk'],\n",
       "      dtype='object')"
      ]
     },
     "execution_count": 264,
     "metadata": {},
     "output_type": "execute_result"
    }
   ],
   "source": [
    "X_train = train_df.drop(\"label\", axis=1)\n",
    "Y_train = train_df[\"label\"]\n",
    "X_valid = valid_df.drop(\"label\", axis=1)\n",
    "Y_valid = valid_df[\"label\"]\n",
    "X_valid.columns"
   ]
  },
  {
   "cell_type": "code",
   "execution_count": 265,
   "metadata": {},
   "outputs": [],
   "source": [
    "sc = MinMaxScaler()\n",
    "\n",
    "features = ['cn1', 'cn2', 'cn3', 'cn4', 'ra1', 'ra2', 'ra3', 'ra4','walk']\n",
    "\n",
    "X_train = sc.fit_transform(train_df[features]) \n",
    "\n",
    "X_valid = sc.fit_transform(valid_df[features])"
   ]
  },
  {
   "cell_type": "code",
   "execution_count": 266,
   "metadata": {},
   "outputs": [
    {
     "data": {
      "text/plain": [
       "array([[0.01310044, 0.01310044, 0.01310044, ..., 0.01152537, 0.01152537,\n",
       "        0.25      ],\n",
       "       [0.        , 0.        , 0.        , ..., 0.        , 0.        ,\n",
       "        0.5       ],\n",
       "       [0.52110626, 0.52110626, 0.52110626, ..., 0.49960308, 0.49960308,\n",
       "        0.25      ],\n",
       "       ...,\n",
       "       [0.01746725, 0.01746725, 0.01746725, ..., 0.01331841, 0.01331841,\n",
       "        0.25      ],\n",
       "       [0.        , 0.        , 0.        , ..., 0.        , 0.        ,\n",
       "        0.5       ],\n",
       "       [0.0363901 , 0.0363901 , 0.0363901 , ..., 0.02966355, 0.02966355,\n",
       "        0.25      ]])"
      ]
     },
     "execution_count": 266,
     "metadata": {},
     "output_type": "execute_result"
    }
   ],
   "source": [
    "X_train"
   ]
  },
  {
   "cell_type": "code",
   "execution_count": 267,
   "metadata": {},
   "outputs": [
    {
     "name": "stderr",
     "output_type": "stream",
     "text": [
      "/opt/anaconda3/lib/python3.7/site-packages/sklearn/svm/base.py:193: FutureWarning: The default value of gamma will change from 'auto' to 'scale' in version 0.22 to account better for unscaled features. Set gamma explicitly to 'auto' or 'scale' to avoid this warning.\n",
      "  \"avoid this warning.\", FutureWarning)\n"
     ]
    },
    {
     "data": {
      "text/plain": [
       "89.86"
      ]
     },
     "execution_count": 267,
     "metadata": {},
     "output_type": "execute_result"
    }
   ],
   "source": [
    "from sklearn.svm import SVC\n",
    "classifier = SVC(kernel = 'rbf', random_state = 0,probability = True)\n",
    "classifier.fit(X_train, Y_train)\n",
    "Y_pred = classifier.predict_proba(X_valid)\n",
    "\n",
    "from sklearn.metrics import roc_auc_score as score\n",
    "classifier.score(X_train, Y_train)\n",
    "classifier = round(classifier.score(X_train, Y_train) * 100, 2)\n",
    "classifier"
   ]
  },
  {
   "cell_type": "code",
   "execution_count": 268,
   "metadata": {},
   "outputs": [
    {
     "data": {
      "text/plain": [
       "89.86"
      ]
     },
     "execution_count": 268,
     "metadata": {},
     "output_type": "execute_result"
    }
   ],
   "source": [
    "from sklearn.svm import SVC\n",
    "classifier = SVC(kernel = 'linear', random_state = 0,probability = True)\n",
    "classifier.fit(X_train, Y_train)\n",
    "Y_pred = classifier.predict_proba(X_valid)\n",
    "\n",
    "from sklearn.metrics import roc_auc_score as score\n",
    "classifier.score(X_train, Y_train)\n",
    "classifier = round(classifier.score(X_train, Y_train) * 100, 2)\n",
    "classifier"
   ]
  },
  {
   "cell_type": "code",
   "execution_count": 269,
   "metadata": {},
   "outputs": [
    {
     "data": {
      "text/plain": [
       "94.33"
      ]
     },
     "execution_count": 269,
     "metadata": {},
     "output_type": "execute_result"
    }
   ],
   "source": [
    "from sklearn.neighbors import KNeighborsClassifier\n",
    "classifier = KNeighborsClassifier(n_neighbors = 5, metric = 'minkowski', p = 2)\n",
    "classifier.fit(X_train, Y_train)\n",
    "Y_pred = classifier.predict(X_valid)\n",
    "\n",
    "from sklearn.metrics import roc_auc_score as score\n",
    "classifier.score(X_train, Y_train)\n",
    "classifier = round(classifier.score(X_train, Y_train) * 100, 2)\n",
    "classifier #99.84"
   ]
  },
  {
   "cell_type": "code",
   "execution_count": 270,
   "metadata": {},
   "outputs": [
    {
     "data": {
      "text/plain": [
       "96.19"
      ]
     },
     "execution_count": 270,
     "metadata": {},
     "output_type": "execute_result"
    }
   ],
   "source": [
    "from sklearn.ensemble import RandomForestClassifier\n",
    "classifier = RandomForestClassifier(n_estimators = 10, criterion = 'entropy', random_state = 0)\n",
    "classifier.fit(X_train, Y_train)\n",
    "Y_pred = classifier.predict(X_valid)\n",
    "\n",
    "from sklearn.metrics import roc_auc_score as score\n",
    "classifier.score(X_train, Y_train)\n",
    "classifier = round(classifier.score(X_train, Y_train) * 100, 2)\n",
    "classifier #100"
   ]
  },
  {
   "cell_type": "code",
   "execution_count": 271,
   "metadata": {},
   "outputs": [
    {
     "data": {
      "text/plain": [
       "96.47"
      ]
     },
     "execution_count": 271,
     "metadata": {},
     "output_type": "execute_result"
    }
   ],
   "source": [
    "from sklearn.tree import DecisionTreeClassifier\n",
    "classifier = DecisionTreeClassifier(criterion = 'entropy', random_state = 0)\n",
    "classifier.fit(X_train, Y_train)\n",
    "Y_pred = classifier.predict(X_valid)\n",
    "\n",
    "from sklearn.metrics import roc_auc_score as score\n",
    "classifier.score(X_train, Y_train)\n",
    "classifier = round(classifier.score(X_train, Y_train) * 100, 2)\n",
    "classifier #100"
   ]
  },
  {
   "cell_type": "code",
   "execution_count": 272,
   "metadata": {},
   "outputs": [
    {
     "name": "stderr",
     "output_type": "stream",
     "text": [
      "/opt/anaconda3/lib/python3.7/site-packages/sklearn/linear_model/logistic.py:432: FutureWarning: Default solver will be changed to 'lbfgs' in 0.22. Specify a solver to silence this warning.\n",
      "  FutureWarning)\n"
     ]
    },
    {
     "data": {
      "text/plain": [
       "89.86"
      ]
     },
     "execution_count": 272,
     "metadata": {},
     "output_type": "execute_result"
    }
   ],
   "source": [
    "from sklearn.linear_model import LogisticRegression\n",
    "classifier = LogisticRegression(random_state = 0)\n",
    "classifier.fit(X_train, Y_train)\n",
    "Y_pred = classifier.predict(X_valid)\n",
    "\n",
    "from sklearn.metrics import roc_auc_score as score\n",
    "classifier.score(X_train, Y_train)\n",
    "classifier = round(classifier.score(X_train, Y_train) * 100, 2)\n",
    "classifier "
   ]
  },
  {
   "cell_type": "code",
   "execution_count": 274,
   "metadata": {},
   "outputs": [
    {
     "name": "stdout",
     "output_type": "stream",
     "text": [
      "[15:05:18] WARNING: /Users/travis/build/dmlc/xgboost/src/learner.cc:516: \n",
      "Parameters: { probability } might not be used.\n",
      "\n",
      "  This may not be accurate due to some parameters are only used in language bindings but\n",
      "  passed down to XGBoost core.  Or some parameters are not used but slip through this\n",
      "  verification. Please open an issue if you find above cases.\n",
      "\n",
      "\n"
     ]
    },
    {
     "data": {
      "text/plain": [
       "95.31"
      ]
     },
     "execution_count": 274,
     "metadata": {},
     "output_type": "execute_result"
    }
   ],
   "source": [
    "from xgboost import XGBClassifier\n",
    "classifier = XGBClassifier(probability = True)\n",
    "classifier.fit(X_train, Y_train)\n",
    "Y_pred = classifier.predict_proba(X_valid)\n",
    "\n",
    "from sklearn.metrics import roc_auc_score as score\n",
    "classifier.score(X_train, Y_train)\n",
    "classifier = round(classifier.score(X_train, Y_train) * 100, 2)\n",
    "classifier "
   ]
  },
  {
   "cell_type": "code",
   "execution_count": 275,
   "metadata": {},
   "outputs": [
    {
     "data": {
      "text/plain": [
       "4500"
      ]
     },
     "execution_count": 275,
     "metadata": {},
     "output_type": "execute_result"
    }
   ],
   "source": [
    "X = train_all.drop(\"label\", axis=1)\n",
    "Y = train_all[\"label\"]\n",
    "\n",
    "features = ['cn1', 'cn2', 'cn3', 'cn4', 'ra1', 'ra2', 'ra3', 'ra4','walk']\n",
    "\n",
    "sc = MinMaxScaler()\n",
    "\n",
    "X = sc.fit_transform(X[features]) \n",
    "X_test = sc.fit_transform(test_df[features]) \n",
    "len(X)"
   ]
  },
  {
   "cell_type": "code",
   "execution_count": 276,
   "metadata": {},
   "outputs": [
    {
     "name": "stdout",
     "output_type": "stream",
     "text": [
      "[15:05:25] WARNING: /Users/travis/build/dmlc/xgboost/src/learner.cc:516: \n",
      "Parameters: { probability } might not be used.\n",
      "\n",
      "  This may not be accurate due to some parameters are only used in language bindings but\n",
      "  passed down to XGBoost core.  Or some parameters are not used but slip through this\n",
      "  verification. Please open an issue if you find above cases.\n",
      "\n",
      "\n"
     ]
    }
   ],
   "source": [
    "from xgboost import XGBClassifier\n",
    "classifier = XGBClassifier(probability = True)\n",
    "classifier.fit(X, Y)\n",
    "Y_pred = classifier.predict_proba(X_test)"
   ]
  },
  {
   "cell_type": "code",
   "execution_count": 277,
   "metadata": {},
   "outputs": [
    {
     "data": {
      "image/png": "[encoded data removed]",
      "text/plain": [
       "<Figure size 432x288 with 1 Axes>"
      ]
     },
     "metadata": {
      "needs_background": "light"
     },
     "output_type": "display_data"
    }
   ],
   "source": [
    "plt.hist(Y_pred)\n",
    "plt.show()"
   ]
  },
  {
   "cell_type": "code",
   "execution_count": 278,
   "metadata": {},
   "outputs": [
    {
     "data": {
      "text/plain": [
       "array([[0.9969955 , 0.00300448],\n",
       "       [0.9969955 , 0.00300448],\n",
       "       [0.107207  , 0.892793  ],\n",
       "       ...,\n",
       "       [0.9969955 , 0.00300448],\n",
       "       [0.9969955 , 0.00300448],\n",
       "       [0.9969955 , 0.00300448]], dtype=float32)"
      ]
     },
     "execution_count": 278,
     "metadata": {},
     "output_type": "execute_result"
    }
   ],
   "source": [
    "Y_pred"
   ]
  },
  {
   "cell_type": "code",
   "execution_count": 279,
   "metadata": {},
   "outputs": [],
   "source": [
    "pred = []\n",
    "\n",
    "for a in Y_pred:\n",
    "    pred.append(a[1])"
   ]
  },
  {
   "cell_type": "code",
   "execution_count": 280,
   "metadata": {},
   "outputs": [
    {
     "data": {
      "image/png": "[encoded data removed]",
      "text/plain": [
       "<Figure size 432x288 with 1 Axes>"
      ]
     },
     "metadata": {
      "needs_background": "light"
     },
     "output_type": "display_data"
    }
   ],
   "source": [
    "plt.hist(pred)\n",
    "plt.show()"
   ]
  },
  {
   "cell_type": "code",
   "execution_count": 282,
   "metadata": {},
   "outputs": [
    {
     "data": {
      "image/png": "[encoded data removed]",
      "text/plain": [
       "<Figure size 432x288 with 1 Axes>"
      ]
     },
     "metadata": {
      "needs_background": "light"
     },
     "output_type": "display_data"
    }
   ],
   "source": [
    "plt.hist(ar)\n",
    "plt.show()"
   ]
  },
  {
   "cell_type": "code",
   "execution_count": 281,
   "metadata": {},
   "outputs": [
    {
     "data": {
      "text/plain": [
       "987"
      ]
     },
     "execution_count": 281,
     "metadata": {},
     "output_type": "execute_result"
    }
   ],
   "source": [
    "ar = np.array(pred)\n",
    "len(ar[ar<0.5]) "
   ]
  },
  {
   "cell_type": "code",
   "execution_count": 131,
   "metadata": {},
   "outputs": [],
   "source": [
    "ID = list(Test[\"Id\"])"
   ]
  },
  {
   "cell_type": "code",
   "execution_count": 198,
   "metadata": {},
   "outputs": [],
   "source": [
    "submission = pd.DataFrame({\"Id\": ID,\"Predicted\": pred})"
   ]
  },
  {
   "cell_type": "code",
   "execution_count": 199,
   "metadata": {},
   "outputs": [
    {
     "data": {
      "text/html": [
       "<div>\n",
       "<style scoped>\n",
       "    .dataframe tbody tr th:only-of-type {\n",
       "        vertical-align: middle;\n",
       "    }\n",
       "\n",
       "    .dataframe tbody tr th {\n",
       "        vertical-align: top;\n",
       "    }\n",
       "\n",
       "    .dataframe thead th {\n",
       "        text-align: right;\n",
       "    }\n",
       "</style>\n",
       "<table border=\"1\" class=\"dataframe\">\n",
       "  <thead>\n",
       "    <tr style=\"text-align: right;\">\n",
       "      <th></th>\n",
       "      <th>Id</th>\n",
       "      <th>Predicted</th>\n",
       "    </tr>\n",
       "  </thead>\n",
       "  <tbody>\n",
       "    <tr>\n",
       "      <td>0</td>\n",
       "      <td>1</td>\n",
       "      <td>0.003004</td>\n",
       "    </tr>\n",
       "    <tr>\n",
       "      <td>1</td>\n",
       "      <td>2</td>\n",
       "      <td>0.003004</td>\n",
       "    </tr>\n",
       "    <tr>\n",
       "      <td>2</td>\n",
       "      <td>3</td>\n",
       "      <td>0.892793</td>\n",
       "    </tr>\n",
       "    <tr>\n",
       "      <td>3</td>\n",
       "      <td>4</td>\n",
       "      <td>0.530311</td>\n",
       "    </tr>\n",
       "    <tr>\n",
       "      <td>4</td>\n",
       "      <td>5</td>\n",
       "      <td>0.003004</td>\n",
       "    </tr>\n",
       "    <tr>\n",
       "      <td>...</td>\n",
       "      <td>...</td>\n",
       "      <td>...</td>\n",
       "    </tr>\n",
       "    <tr>\n",
       "      <td>95</td>\n",
       "      <td>96</td>\n",
       "      <td>0.003004</td>\n",
       "    </tr>\n",
       "    <tr>\n",
       "      <td>96</td>\n",
       "      <td>97</td>\n",
       "      <td>0.998962</td>\n",
       "    </tr>\n",
       "    <tr>\n",
       "      <td>97</td>\n",
       "      <td>98</td>\n",
       "      <td>0.997472</td>\n",
       "    </tr>\n",
       "    <tr>\n",
       "      <td>98</td>\n",
       "      <td>99</td>\n",
       "      <td>0.003004</td>\n",
       "    </tr>\n",
       "    <tr>\n",
       "      <td>99</td>\n",
       "      <td>100</td>\n",
       "      <td>0.996570</td>\n",
       "    </tr>\n",
       "  </tbody>\n",
       "</table>\n",
       "<p>100 rows × 2 columns</p>\n",
       "</div>"
      ],
      "text/plain": [
       "     Id  Predicted\n",
       "0     1   0.003004\n",
       "1     2   0.003004\n",
       "2     3   0.892793\n",
       "3     4   0.530311\n",
       "4     5   0.003004\n",
       "..  ...        ...\n",
       "95   96   0.003004\n",
       "96   97   0.998962\n",
       "97   98   0.997472\n",
       "98   99   0.003004\n",
       "99  100   0.996570\n",
       "\n",
       "[100 rows x 2 columns]"
      ]
     },
     "execution_count": 199,
     "metadata": {},
     "output_type": "execute_result"
    }
   ],
   "source": [
    "submission.head(100)"
   ]
  },
  {
   "cell_type": "code",
   "execution_count": 200,
   "metadata": {},
   "outputs": [],
   "source": [
    "submission.to_csv('/Users/mac/Desktop/Project1/sbm9.csv', index = False, header = True)"
   ]
  },
  {
   "cell_type": "code",
   "execution_count": null,
   "metadata": {},
   "outputs": [],
   "source": []
  }
 ],
 "metadata": {
  "kernelspec": {
   "display_name": "Python 3",
   "language": "python",
   "name": "python3"
  },
  "language_info": {
   "codemirror_mode": {
    "name": "ipython",
    "version": 3
   },
   "file_extension": ".py",
   "mimetype": "text/x-python",
   "name": "python",
   "nbconvert_exporter": "python",
   "pygments_lexer": "ipython3",
   "version": "3.7.4"
  }
 },
 "nbformat": 4,
 "nbformat_minor": 2
}
