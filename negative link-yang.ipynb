{
 "cells": [
  {
   "cell_type": "code",
   "execution_count": 7,
   "metadata": {},
   "outputs": [],
   "source": [
    "import numpy as np\n",
    "import pandas as pd\n",
    "import random\n",
    "import networkx as nx\n",
    "from sklearn.preprocessing import StandardScaler\n",
    "from sklearn.preprocessing import MinMaxScaler\n",
    "from matplotlib import pyplot as plt\n",
    "from sklearn.model_selection import train_test_split"
   ]
  },
  {
   "cell_type": "code",
   "execution_count": 2,
   "metadata": {},
   "outputs": [],
   "source": [
    "Data = pd.read_csv('/Users/mac/Desktop/Project1/df.csv')\n",
    "Test = pd.read_csv('/Users/mac/Desktop/Project1/test.csv')"
   ]
  },
  {
   "cell_type": "code",
   "execution_count": 3,
   "metadata": {},
   "outputs": [
    {
     "name": "stdout",
     "output_type": "stream",
     "text": [
      "           node_1   node_2\n",
      "0          540762  1912140\n",
      "1          540762  1537559\n",
      "2          540762  3091331\n",
      "3          540762  2757277\n",
      "4          540762  3237295\n",
      "...           ...      ...\n",
      "24004356  3547024  1075576\n",
      "24004357  3547024  4549841\n",
      "24004358  3547024  1135647\n",
      "24004359  3547024   807274\n",
      "24004360  3547024  3897045\n",
      "\n",
      "[24004361 rows x 2 columns]\n"
     ]
    }
   ],
   "source": [
    "print(Data)\n",
    "#24004361 rows x 2 columns"
   ]
  },
  {
   "cell_type": "code",
   "execution_count": 18,
   "metadata": {},
   "outputs": [
    {
     "data": {
      "text/plain": [
       "array([[ 540762, 1912140],\n",
       "       [ 540762, 1537559],\n",
       "       [ 540762, 3091331],\n",
       "       ...,\n",
       "       [3547024, 1135647],\n",
       "       [3547024,  807274],\n",
       "       [3547024, 3897045]])"
      ]
     },
     "execution_count": 18,
     "metadata": {},
     "output_type": "execute_result"
    }
   ],
   "source": [
    "#source = list(Test.source)\n",
    "#source\n",
    "#sink = list(Test.sink)\n",
    "#node_test = (source,sink)\n",
    "#node_test = np.array((source,sink)))\n",
    "node_test = np.array(Test[['source','sink']])\n",
    "node_test\n",
    "\n",
    "node_train = np.array(Data[['node_1','node_2']])\n",
    "node_train"
   ]
  },
  {
   "cell_type": "code",
   "execution_count": 5,
   "metadata": {},
   "outputs": [
    {
     "data": {
      "text/html": [
       "<div>\n",
       "<style scoped>\n",
       "    .dataframe tbody tr th:only-of-type {\n",
       "        vertical-align: middle;\n",
       "    }\n",
       "\n",
       "    .dataframe tbody tr th {\n",
       "        vertical-align: top;\n",
       "    }\n",
       "\n",
       "    .dataframe thead th {\n",
       "        text-align: right;\n",
       "    }\n",
       "</style>\n",
       "<table border=\"1\" class=\"dataframe\">\n",
       "  <thead>\n",
       "    <tr style=\"text-align: right;\">\n",
       "      <th></th>\n",
       "      <th>Id</th>\n",
       "      <th>source</th>\n",
       "      <th>sink</th>\n",
       "    </tr>\n",
       "  </thead>\n",
       "  <tbody>\n",
       "    <tr>\n",
       "      <td>0</td>\n",
       "      <td>1</td>\n",
       "      <td>3563811</td>\n",
       "      <td>3600160</td>\n",
       "    </tr>\n",
       "    <tr>\n",
       "      <td>1</td>\n",
       "      <td>2</td>\n",
       "      <td>2052043</td>\n",
       "      <td>1401960</td>\n",
       "    </tr>\n",
       "    <tr>\n",
       "      <td>2</td>\n",
       "      <td>3</td>\n",
       "      <td>4517994</td>\n",
       "      <td>1690636</td>\n",
       "    </tr>\n",
       "    <tr>\n",
       "      <td>3</td>\n",
       "      <td>4</td>\n",
       "      <td>1660006</td>\n",
       "      <td>4349447</td>\n",
       "    </tr>\n",
       "    <tr>\n",
       "      <td>4</td>\n",
       "      <td>5</td>\n",
       "      <td>581111</td>\n",
       "      <td>1882617</td>\n",
       "    </tr>\n",
       "  </tbody>\n",
       "</table>\n",
       "</div>"
      ],
      "text/plain": [
       "   Id   source     sink\n",
       "0   1  3563811  3600160\n",
       "1   2  2052043  1401960\n",
       "2   3  4517994  1690636\n",
       "3   4  1660006  4349447\n",
       "4   5   581111  1882617"
      ]
     },
     "execution_count": 5,
     "metadata": {},
     "output_type": "execute_result"
    }
   ],
   "source": [
    "#Data.head()\n",
    "Test.head()"
   ]
  },
  {
   "cell_type": "code",
   "execution_count": 6,
   "metadata": {},
   "outputs": [],
   "source": [
    "DG = nx.from_pandas_edgelist(Data, \"node_1\", \"node_2\", create_using=nx.DiGraph())"
   ]
  },
  {
   "cell_type": "code",
   "execution_count": 22,
   "metadata": {},
   "outputs": [],
   "source": [
    "TG = nx.from_pandas_edgelist(Test, \"source\", \"sink\", create_using=nx.DiGraph())"
   ]
  },
  {
   "cell_type": "code",
   "execution_count": 9,
   "metadata": {},
   "outputs": [
    {
     "data": {
      "text/plain": [
       "400000"
      ]
     },
     "execution_count": 9,
     "metadata": {},
     "output_type": "execute_result"
    }
   ],
   "source": [
    "#random nodes\n",
    "\n",
    "random.seed(0)\n",
    "num = random.sample(range(0,4867135),400000)\n",
    "num_uni = set(num)\n",
    "len(num_uni)"
   ]
  },
  {
   "cell_type": "code",
   "execution_count": 19,
   "metadata": {},
   "outputs": [
    {
     "data": {
      "text/plain": [
       "array([[3231671, 3528010],\n",
       "       [ 339607, 2171951],\n",
       "       [4288883, 4076256],\n",
       "       ...,\n",
       "       [ 147065,  511531],\n",
       "       [2946804, 4291785],\n",
       "       [4458701, 2054908]])"
      ]
     },
     "execution_count": 19,
     "metadata": {},
     "output_type": "execute_result"
    }
   ],
   "source": [
    "split = np.array(num).reshape(200000,2)\n",
    "df= pd.DataFrame(split)\n",
    "df.columns = ['from','in']\n",
    "split"
   ]
  },
  {
   "cell_type": "code",
   "execution_count": 38,
   "metadata": {},
   "outputs": [],
   "source": [
    "label = []\n",
    "\n",
    "for node in split:\n",
    "    a = node[0]\n",
    "    b = node[1]\n",
    "    \n",
    "    if DG.has_edge(a,b):\n",
    "        label.append(1)\n",
    "    elif TG.has_edge(a,b):\n",
    "        label.append(-1)\n",
    "    else:\n",
    "        label.append(0)"
   ]
  },
  {
   "cell_type": "code",
   "execution_count": 40,
   "metadata": {},
   "outputs": [
    {
     "data": {
      "text/plain": [
       "{0}"
      ]
     },
     "execution_count": 40,
     "metadata": {},
     "output_type": "execute_result"
    }
   ],
   "source": [
    "set(label) #all posible nagetive ones"
   ]
  },
  {
   "cell_type": "code",
   "execution_count": 42,
   "metadata": {},
   "outputs": [
    {
     "data": {
      "text/html": [
       "<div>\n",
       "<style scoped>\n",
       "    .dataframe tbody tr th:only-of-type {\n",
       "        vertical-align: middle;\n",
       "    }\n",
       "\n",
       "    .dataframe tbody tr th {\n",
       "        vertical-align: top;\n",
       "    }\n",
       "\n",
       "    .dataframe thead th {\n",
       "        text-align: right;\n",
       "    }\n",
       "</style>\n",
       "<table border=\"1\" class=\"dataframe\">\n",
       "  <thead>\n",
       "    <tr style=\"text-align: right;\">\n",
       "      <th></th>\n",
       "      <th>from</th>\n",
       "      <th>in</th>\n",
       "      <th>label</th>\n",
       "    </tr>\n",
       "  </thead>\n",
       "  <tbody>\n",
       "    <tr>\n",
       "      <td>0</td>\n",
       "      <td>3231671</td>\n",
       "      <td>3528010</td>\n",
       "      <td>0</td>\n",
       "    </tr>\n",
       "    <tr>\n",
       "      <td>1</td>\n",
       "      <td>339607</td>\n",
       "      <td>2171951</td>\n",
       "      <td>0</td>\n",
       "    </tr>\n",
       "    <tr>\n",
       "      <td>2</td>\n",
       "      <td>4288883</td>\n",
       "      <td>4076256</td>\n",
       "      <td>0</td>\n",
       "    </tr>\n",
       "    <tr>\n",
       "      <td>3</td>\n",
       "      <td>3396833</td>\n",
       "      <td>2544371</td>\n",
       "      <td>0</td>\n",
       "    </tr>\n",
       "    <tr>\n",
       "      <td>4</td>\n",
       "      <td>3997985</td>\n",
       "      <td>3003535</td>\n",
       "      <td>0</td>\n",
       "    </tr>\n",
       "  </tbody>\n",
       "</table>\n",
       "</div>"
      ],
      "text/plain": [
       "      from       in  label\n",
       "0  3231671  3528010      0\n",
       "1   339607  2171951      0\n",
       "2  4288883  4076256      0\n",
       "3  3396833  2544371      0\n",
       "4  3997985  3003535      0"
      ]
     },
     "execution_count": 42,
     "metadata": {},
     "output_type": "execute_result"
    }
   ],
   "source": [
    "df['label'] = label\n",
    "df.head()"
   ]
  },
  {
   "cell_type": "code",
   "execution_count": 49,
   "metadata": {},
   "outputs": [],
   "source": [
    "#Tversky Index, unbalanced and adjustable\n",
    "\n",
    "def TverskyInd (node_a, node_b, w):\n",
    "    a_out_set = set(DG.successors(node_a))\n",
    "    b_out_set = set(DG.successors(node_b))\n",
    "    \n",
    "    if len(a_out_set | b_out_set):\n",
    "        common = len(a_out_set & b_out_set)\n",
    "        sub_1 = len(a_out_set - b_out_set)\n",
    "        sub_2 = len(b_out_set - a_out_set)\n",
    "        index = common / (common + w*sub_1 + (1-w)*sub_2)\n",
    "        return index\n",
    "    else:\n",
    "        return -1\n"
   ]
  },
  {
   "cell_type": "code",
   "execution_count": 50,
   "metadata": {},
   "outputs": [],
   "source": [
    "w = 0.75 #the weight\n",
    "Sim = []\n",
    "\n",
    "for node in split:\n",
    "    node_a = node[0]\n",
    "    node_b = node[1]\n",
    "    temp = TverskyInd (node_a, node_b, w)\n",
    "    Sim.append(temp)"
   ]
  },
  {
   "cell_type": "code",
   "execution_count": 52,
   "metadata": {},
   "outputs": [
    {
     "data": {
      "text/plain": [
       "{-1, 0.0, 0.004393190554640308, 0.0045662100456621}"
      ]
     },
     "execution_count": 52,
     "metadata": {},
     "output_type": "execute_result"
    }
   ],
   "source": [
    "set(Sim)"
   ]
  },
  {
   "cell_type": "code",
   "execution_count": 54,
   "metadata": {
    "scrolled": true
   },
   "outputs": [
    {
     "data": {
      "text/plain": [
       "2"
      ]
     },
     "execution_count": 54,
     "metadata": {},
     "output_type": "execute_result"
    }
   ],
   "source": [
    "Sim_np = np.array(Sim)\n",
    "len(Sim_np[Sim_np==0]) #1635\n",
    "len(Sim_np[Sim_np>0]) #2"
   ]
  },
  {
   "cell_type": "code",
   "execution_count": 57,
   "metadata": {},
   "outputs": [],
   "source": [
    "#Jaccard Index Sim\n",
    "\n",
    "def CaculateSim (node_a, node_b):\n",
    "    a_in_set = set(DG.predecessors(node_a))\n",
    "    a_out_set = set(DG.successors(node_a))\n",
    "    \n",
    "    b_in_set = set(DG.predecessors(node_b))\n",
    "    b_out_set = set(DG.successors(node_b))\n",
    "    \n",
    "    a_b_all = set(a_in_set | a_out_set | b_in_set | b_out_set)\n",
    "    s1 = len(a_in_set & b_in_set)\n",
    "    s2 = len(a_out_set & b_out_set)\n",
    "    s3 = len(a_in_set & b_out_set)\n",
    "    s4 = len(a_out_set & b_in_set)\n",
    "    a_b_same = s1+s2+s3+s4\n",
    "    \n",
    "    if len(a_b_all):\n",
    "        sim = a_b_same / (2*len(a_b_all))\n",
    "        return sim\n",
    "    else:\n",
    "        return -1"
   ]
  },
  {
   "cell_type": "code",
   "execution_count": 58,
   "metadata": {},
   "outputs": [],
   "source": [
    "Sim_ja = []\n",
    "\n",
    "for node in split:\n",
    "    node_a = node[0]\n",
    "    node_b = node[1]\n",
    "    temp = CaculateSim (node_a, node_b)\n",
    "    Sim_ja.append(temp)"
   ]
  },
  {
   "cell_type": "code",
   "execution_count": 139,
   "metadata": {},
   "outputs": [
    {
     "data": {
      "text/plain": [
       "200000"
      ]
     },
     "execution_count": 139,
     "metadata": {},
     "output_type": "execute_result"
    }
   ],
   "source": [
    "ja = np.array(Sim_ja)\n",
    "len(ja[ja == 0]) #186180\n",
    "len(ja[ja > 0]) #13820\n",
    "len(ja[ja < 0]) #0"
   ]
  },
  {
   "cell_type": "code",
   "execution_count": 72,
   "metadata": {},
   "outputs": [],
   "source": [
    "# Ath is the authority value of node\n",
    "\n",
    "ath = []\n",
    "\n",
    "for node in split:\n",
    "    node_a = node[0]\n",
    "    node_b = node[1]\n",
    "    \n",
    "    pre = set(DG.predecessors(node_b))\n",
    "    ath.append(len(pre))  "
   ]
  },
  {
   "cell_type": "code",
   "execution_count": 73,
   "metadata": {},
   "outputs": [
    {
     "data": {
      "text/plain": [
       "200000"
      ]
     },
     "execution_count": 73,
     "metadata": {},
     "output_type": "execute_result"
    }
   ],
   "source": [
    "len(ath) #2000"
   ]
  },
  {
   "cell_type": "code",
   "execution_count": 74,
   "metadata": {},
   "outputs": [],
   "source": [
    "hub = []\n",
    "\n",
    "for node in split:\n",
    "    node_a = node[0]\n",
    "    node_b = node[1]\n",
    "    \n",
    "    suc = set(DG.successors(node_a))\n",
    "    hub.append(len(suc))"
   ]
  },
  {
   "cell_type": "code",
   "execution_count": 75,
   "metadata": {},
   "outputs": [
    {
     "data": {
      "text/plain": [
       "200000"
      ]
     },
     "execution_count": 75,
     "metadata": {},
     "output_type": "execute_result"
    }
   ],
   "source": [
    "len(hub)"
   ]
  },
  {
   "cell_type": "code",
   "execution_count": 78,
   "metadata": {},
   "outputs": [
    {
     "data": {
      "text/plain": [
       "509445"
      ]
     },
     "execution_count": 78,
     "metadata": {},
     "output_type": "execute_result"
    }
   ],
   "source": [
    "max(ath)#2035\n",
    "max(hub)#509445"
   ]
  },
  {
   "cell_type": "code",
   "execution_count": 83,
   "metadata": {},
   "outputs": [],
   "source": [
    "ath_adj = np.array(ath).astype(float)/2035\n",
    "hub_adj = np.array(hub).astype(float)/509445"
   ]
  },
  {
   "cell_type": "code",
   "execution_count": 146,
   "metadata": {},
   "outputs": [
    {
     "data": {
      "text/plain": [
       "0.0004914004914004914"
      ]
     },
     "execution_count": 146,
     "metadata": {},
     "output_type": "execute_result"
    }
   ],
   "source": [
    "min(ath_adj)"
   ]
  },
  {
   "cell_type": "code",
   "execution_count": 136,
   "metadata": {},
   "outputs": [
    {
     "data": {
      "text/html": [
       "<div>\n",
       "<style scoped>\n",
       "    .dataframe tbody tr th:only-of-type {\n",
       "        vertical-align: middle;\n",
       "    }\n",
       "\n",
       "    .dataframe tbody tr th {\n",
       "        vertical-align: top;\n",
       "    }\n",
       "\n",
       "    .dataframe thead th {\n",
       "        text-align: right;\n",
       "    }\n",
       "</style>\n",
       "<table border=\"1\" class=\"dataframe\">\n",
       "  <thead>\n",
       "    <tr style=\"text-align: right;\">\n",
       "      <th></th>\n",
       "      <th>sim</th>\n",
       "      <th>ath</th>\n",
       "      <th>hub</th>\n",
       "    </tr>\n",
       "  </thead>\n",
       "  <tbody>\n",
       "  </tbody>\n",
       "</table>\n",
       "</div>"
      ],
      "text/plain": [
       "Empty DataFrame\n",
       "Columns: [sim, ath, hub]\n",
       "Index: []"
      ]
     },
     "execution_count": 136,
     "metadata": {},
     "output_type": "execute_result"
    }
   ],
   "source": [
    "comb = pd.DataFrame({'sim':ja, 'ath': ath_adj, 'hub':hub_adj})\n",
    "comb[comb['sim'] < 0]"
   ]
  },
  {
   "cell_type": "code",
   "execution_count": 89,
   "metadata": {},
   "outputs": [
    {
     "data": {
      "text/plain": [
       "array([[0.16666667, 0.0004914 , 0.        ],\n",
       "       [0.        , 0.0004914 , 0.        ],\n",
       "       [0.        , 0.0004914 , 0.        ],\n",
       "       ...,\n",
       "       [0.        , 0.0009828 , 0.        ],\n",
       "       [0.        , 0.0009828 , 0.        ],\n",
       "       [0.        , 0.0004914 , 0.        ]])"
      ]
     },
     "execution_count": 89,
     "metadata": {},
     "output_type": "execute_result"
    }
   ],
   "source": [
    "value = np.array(comb[['sim','ath','hub']])\n",
    "value"
   ]
  },
  {
   "cell_type": "code",
   "execution_count": 97,
   "metadata": {},
   "outputs": [],
   "source": [
    "prob = []\n",
    "\n",
    "for node in value:\n",
    "    sim = node[0]\n",
    "    ath = node[1]\n",
    "    hub = node[2]\n",
    "    temp = (sim + ath + hub)*10000\n",
    "    \n",
    "    prob.append(temp)"
   ]
  },
  {
   "cell_type": "code",
   "execution_count": 98,
   "metadata": {},
   "outputs": [
    {
     "data": {
      "text/plain": [
       "149.77205611250753"
      ]
     },
     "execution_count": 98,
     "metadata": {},
     "output_type": "execute_result"
    }
   ],
   "source": [
    "sum(prob)/len(prob)"
   ]
  },
  {
   "cell_type": "code",
   "execution_count": 124,
   "metadata": {},
   "outputs": [
    {
     "data": {
      "image/png": "[encoded data removed]",
      "text/plain": [
       "<Figure size 432x288 with 1 Axes>"
      ]
     },
     "metadata": {
      "needs_background": "light"
     },
     "output_type": "display_data"
    }
   ],
   "source": [
    "plt.hist(prob)\n",
    "plt.show()"
   ]
  },
  {
   "cell_type": "code",
   "execution_count": 147,
   "metadata": {},
   "outputs": [
    {
     "data": {
      "text/plain": [
       "112175"
      ]
     },
     "execution_count": 147,
     "metadata": {},
     "output_type": "execute_result"
    }
   ],
   "source": [
    "prob_adj = np.array(prob)\n",
    "#prob_adj[prob_adj>1000] = 100\n",
    "len(prob_adj[prob_adj<4.92]) #112175"
   ]
  },
  {
   "cell_type": "code",
   "execution_count": 151,
   "metadata": {},
   "outputs": [
    {
     "data": {
      "text/html": [
       "<div>\n",
       "<style scoped>\n",
       "    .dataframe tbody tr th:only-of-type {\n",
       "        vertical-align: middle;\n",
       "    }\n",
       "\n",
       "    .dataframe tbody tr th {\n",
       "        vertical-align: top;\n",
       "    }\n",
       "\n",
       "    .dataframe thead th {\n",
       "        text-align: right;\n",
       "    }\n",
       "</style>\n",
       "<table border=\"1\" class=\"dataframe\">\n",
       "  <thead>\n",
       "    <tr style=\"text-align: right;\">\n",
       "      <th></th>\n",
       "      <th>from</th>\n",
       "      <th>in</th>\n",
       "      <th>label</th>\n",
       "      <th>pro</th>\n",
       "    </tr>\n",
       "  </thead>\n",
       "  <tbody>\n",
       "    <tr>\n",
       "      <td>1</td>\n",
       "      <td>339607</td>\n",
       "      <td>2171951</td>\n",
       "      <td>0</td>\n",
       "      <td>4.914005</td>\n",
       "    </tr>\n",
       "    <tr>\n",
       "      <td>2</td>\n",
       "      <td>4288883</td>\n",
       "      <td>4076256</td>\n",
       "      <td>0</td>\n",
       "      <td>4.914005</td>\n",
       "    </tr>\n",
       "    <tr>\n",
       "      <td>3</td>\n",
       "      <td>3396833</td>\n",
       "      <td>2544371</td>\n",
       "      <td>0</td>\n",
       "      <td>4.914005</td>\n",
       "    </tr>\n",
       "    <tr>\n",
       "      <td>4</td>\n",
       "      <td>3997985</td>\n",
       "      <td>3003535</td>\n",
       "      <td>0</td>\n",
       "      <td>4.914005</td>\n",
       "    </tr>\n",
       "    <tr>\n",
       "      <td>5</td>\n",
       "      <td>1832430</td>\n",
       "      <td>4233620</td>\n",
       "      <td>0</td>\n",
       "      <td>4.914005</td>\n",
       "    </tr>\n",
       "    <tr>\n",
       "      <td>...</td>\n",
       "      <td>...</td>\n",
       "      <td>...</td>\n",
       "      <td>...</td>\n",
       "      <td>...</td>\n",
       "    </tr>\n",
       "    <tr>\n",
       "      <td>199990</td>\n",
       "      <td>4278560</td>\n",
       "      <td>3490599</td>\n",
       "      <td>0</td>\n",
       "      <td>4.914005</td>\n",
       "    </tr>\n",
       "    <tr>\n",
       "      <td>199991</td>\n",
       "      <td>238920</td>\n",
       "      <td>1784678</td>\n",
       "      <td>0</td>\n",
       "      <td>4.914005</td>\n",
       "    </tr>\n",
       "    <tr>\n",
       "      <td>199992</td>\n",
       "      <td>4541074</td>\n",
       "      <td>2765794</td>\n",
       "      <td>0</td>\n",
       "      <td>4.914005</td>\n",
       "    </tr>\n",
       "    <tr>\n",
       "      <td>199994</td>\n",
       "      <td>705763</td>\n",
       "      <td>3068025</td>\n",
       "      <td>0</td>\n",
       "      <td>4.914005</td>\n",
       "    </tr>\n",
       "    <tr>\n",
       "      <td>199999</td>\n",
       "      <td>4458701</td>\n",
       "      <td>2054908</td>\n",
       "      <td>0</td>\n",
       "      <td>4.914005</td>\n",
       "    </tr>\n",
       "  </tbody>\n",
       "</table>\n",
       "<p>112175 rows × 4 columns</p>\n",
       "</div>"
      ],
      "text/plain": [
       "           from       in  label       pro\n",
       "1        339607  2171951      0  4.914005\n",
       "2       4288883  4076256      0  4.914005\n",
       "3       3396833  2544371      0  4.914005\n",
       "4       3997985  3003535      0  4.914005\n",
       "5       1832430  4233620      0  4.914005\n",
       "...         ...      ...    ...       ...\n",
       "199990  4278560  3490599      0  4.914005\n",
       "199991   238920  1784678      0  4.914005\n",
       "199992  4541074  2765794      0  4.914005\n",
       "199994   705763  3068025      0  4.914005\n",
       "199999  4458701  2054908      0  4.914005\n",
       "\n",
       "[112175 rows x 4 columns]"
      ]
     },
     "execution_count": 151,
     "metadata": {},
     "output_type": "execute_result"
    }
   ],
   "source": [
    "df['pro'] = prob_adj\n",
    "df.head()\n",
    "a = df[df['label']==0]\n",
    "b = df[df['pro']<4.92]"
   ]
  },
  {
   "cell_type": "code",
   "execution_count": 154,
   "metadata": {},
   "outputs": [
    {
     "data": {
      "text/html": [
       "<div>\n",
       "<style scoped>\n",
       "    .dataframe tbody tr th:only-of-type {\n",
       "        vertical-align: middle;\n",
       "    }\n",
       "\n",
       "    .dataframe tbody tr th {\n",
       "        vertical-align: top;\n",
       "    }\n",
       "\n",
       "    .dataframe thead th {\n",
       "        text-align: right;\n",
       "    }\n",
       "</style>\n",
       "<table border=\"1\" class=\"dataframe\">\n",
       "  <thead>\n",
       "    <tr style=\"text-align: right;\">\n",
       "      <th></th>\n",
       "      <th>from</th>\n",
       "      <th>in</th>\n",
       "      <th>label</th>\n",
       "    </tr>\n",
       "  </thead>\n",
       "  <tbody>\n",
       "    <tr>\n",
       "      <td>1</td>\n",
       "      <td>339607</td>\n",
       "      <td>2171951</td>\n",
       "      <td>0</td>\n",
       "    </tr>\n",
       "    <tr>\n",
       "      <td>2</td>\n",
       "      <td>4288883</td>\n",
       "      <td>4076256</td>\n",
       "      <td>0</td>\n",
       "    </tr>\n",
       "    <tr>\n",
       "      <td>3</td>\n",
       "      <td>3396833</td>\n",
       "      <td>2544371</td>\n",
       "      <td>0</td>\n",
       "    </tr>\n",
       "    <tr>\n",
       "      <td>4</td>\n",
       "      <td>3997985</td>\n",
       "      <td>3003535</td>\n",
       "      <td>0</td>\n",
       "    </tr>\n",
       "    <tr>\n",
       "      <td>5</td>\n",
       "      <td>1832430</td>\n",
       "      <td>4233620</td>\n",
       "      <td>0</td>\n",
       "    </tr>\n",
       "    <tr>\n",
       "      <td>...</td>\n",
       "      <td>...</td>\n",
       "      <td>...</td>\n",
       "      <td>...</td>\n",
       "    </tr>\n",
       "    <tr>\n",
       "      <td>199990</td>\n",
       "      <td>4278560</td>\n",
       "      <td>3490599</td>\n",
       "      <td>0</td>\n",
       "    </tr>\n",
       "    <tr>\n",
       "      <td>199991</td>\n",
       "      <td>238920</td>\n",
       "      <td>1784678</td>\n",
       "      <td>0</td>\n",
       "    </tr>\n",
       "    <tr>\n",
       "      <td>199992</td>\n",
       "      <td>4541074</td>\n",
       "      <td>2765794</td>\n",
       "      <td>0</td>\n",
       "    </tr>\n",
       "    <tr>\n",
       "      <td>199994</td>\n",
       "      <td>705763</td>\n",
       "      <td>3068025</td>\n",
       "      <td>0</td>\n",
       "    </tr>\n",
       "    <tr>\n",
       "      <td>199999</td>\n",
       "      <td>4458701</td>\n",
       "      <td>2054908</td>\n",
       "      <td>0</td>\n",
       "    </tr>\n",
       "  </tbody>\n",
       "</table>\n",
       "<p>112175 rows × 3 columns</p>\n",
       "</div>"
      ],
      "text/plain": [
       "           from       in  label\n",
       "1        339607  2171951      0\n",
       "2       4288883  4076256      0\n",
       "3       3396833  2544371      0\n",
       "4       3997985  3003535      0\n",
       "5       1832430  4233620      0\n",
       "...         ...      ...    ...\n",
       "199990  4278560  3490599      0\n",
       "199991   238920  1784678      0\n",
       "199992  4541074  2765794      0\n",
       "199994   705763  3068025      0\n",
       "199999  4458701  2054908      0\n",
       "\n",
       "[112175 rows x 3 columns]"
      ]
     },
     "execution_count": 154,
     "metadata": {},
     "output_type": "execute_result"
    }
   ],
   "source": [
    "pre = b[['from','in','label']]\n",
    "pre"
   ]
  },
  {
   "cell_type": "code",
   "execution_count": 155,
   "metadata": {},
   "outputs": [],
   "source": [
    "pre.to_csv('/Users/mac/Desktop/Project1/negative.csv', index = False, header = True)"
   ]
  },
  {
   "cell_type": "code",
   "execution_count": 159,
   "metadata": {},
   "outputs": [
    {
     "data": {
      "text/html": [
       "<div>\n",
       "<style scoped>\n",
       "    .dataframe tbody tr th:only-of-type {\n",
       "        vertical-align: middle;\n",
       "    }\n",
       "\n",
       "    .dataframe tbody tr th {\n",
       "        vertical-align: top;\n",
       "    }\n",
       "\n",
       "    .dataframe thead th {\n",
       "        text-align: right;\n",
       "    }\n",
       "</style>\n",
       "<table border=\"1\" class=\"dataframe\">\n",
       "  <thead>\n",
       "    <tr style=\"text-align: right;\">\n",
       "      <th></th>\n",
       "      <th>from</th>\n",
       "      <th>in</th>\n",
       "      <th>label</th>\n",
       "    </tr>\n",
       "  </thead>\n",
       "  <tbody>\n",
       "    <tr>\n",
       "      <td>0</td>\n",
       "      <td>339607</td>\n",
       "      <td>2171951</td>\n",
       "      <td>0</td>\n",
       "    </tr>\n",
       "    <tr>\n",
       "      <td>1</td>\n",
       "      <td>4288883</td>\n",
       "      <td>4076256</td>\n",
       "      <td>0</td>\n",
       "    </tr>\n",
       "    <tr>\n",
       "      <td>2</td>\n",
       "      <td>3396833</td>\n",
       "      <td>2544371</td>\n",
       "      <td>0</td>\n",
       "    </tr>\n",
       "    <tr>\n",
       "      <td>3</td>\n",
       "      <td>3997985</td>\n",
       "      <td>3003535</td>\n",
       "      <td>0</td>\n",
       "    </tr>\n",
       "    <tr>\n",
       "      <td>4</td>\n",
       "      <td>1832430</td>\n",
       "      <td>4233620</td>\n",
       "      <td>0</td>\n",
       "    </tr>\n",
       "    <tr>\n",
       "      <td>...</td>\n",
       "      <td>...</td>\n",
       "      <td>...</td>\n",
       "      <td>...</td>\n",
       "    </tr>\n",
       "    <tr>\n",
       "      <td>112170</td>\n",
       "      <td>4278560</td>\n",
       "      <td>3490599</td>\n",
       "      <td>0</td>\n",
       "    </tr>\n",
       "    <tr>\n",
       "      <td>112171</td>\n",
       "      <td>238920</td>\n",
       "      <td>1784678</td>\n",
       "      <td>0</td>\n",
       "    </tr>\n",
       "    <tr>\n",
       "      <td>112172</td>\n",
       "      <td>4541074</td>\n",
       "      <td>2765794</td>\n",
       "      <td>0</td>\n",
       "    </tr>\n",
       "    <tr>\n",
       "      <td>112173</td>\n",
       "      <td>705763</td>\n",
       "      <td>3068025</td>\n",
       "      <td>0</td>\n",
       "    </tr>\n",
       "    <tr>\n",
       "      <td>112174</td>\n",
       "      <td>4458701</td>\n",
       "      <td>2054908</td>\n",
       "      <td>0</td>\n",
       "    </tr>\n",
       "  </tbody>\n",
       "</table>\n",
       "<p>112175 rows × 3 columns</p>\n",
       "</div>"
      ],
      "text/plain": [
       "           from       in  label\n",
       "0        339607  2171951      0\n",
       "1       4288883  4076256      0\n",
       "2       3396833  2544371      0\n",
       "3       3997985  3003535      0\n",
       "4       1832430  4233620      0\n",
       "...         ...      ...    ...\n",
       "112170  4278560  3490599      0\n",
       "112171   238920  1784678      0\n",
       "112172  4541074  2765794      0\n",
       "112173   705763  3068025      0\n",
       "112174  4458701  2054908      0\n",
       "\n",
       "[112175 rows x 3 columns]"
      ]
     },
     "execution_count": 159,
     "metadata": {},
     "output_type": "execute_result"
    }
   ],
   "source": [
    "nage = pd.read_csv('/Users/mac/Desktop/Project1/negative.csv')\n",
    "nage"
   ]
  },
  {
   "cell_type": "code",
   "execution_count": 171,
   "metadata": {},
   "outputs": [
    {
     "data": {
      "text/html": [
       "<div>\n",
       "<style scoped>\n",
       "    .dataframe tbody tr th:only-of-type {\n",
       "        vertical-align: middle;\n",
       "    }\n",
       "\n",
       "    .dataframe tbody tr th {\n",
       "        vertical-align: top;\n",
       "    }\n",
       "\n",
       "    .dataframe thead th {\n",
       "        text-align: right;\n",
       "    }\n",
       "</style>\n",
       "<table border=\"1\" class=\"dataframe\">\n",
       "  <thead>\n",
       "    <tr style=\"text-align: right;\">\n",
       "      <th></th>\n",
       "      <th>from</th>\n",
       "      <th>in</th>\n",
       "      <th>label</th>\n",
       "    </tr>\n",
       "  </thead>\n",
       "  <tbody>\n",
       "    <tr>\n",
       "      <td>68990</td>\n",
       "      <td>4439072</td>\n",
       "      <td>651480</td>\n",
       "      <td>0</td>\n",
       "    </tr>\n",
       "    <tr>\n",
       "      <td>97162</td>\n",
       "      <td>3935739</td>\n",
       "      <td>217423</td>\n",
       "      <td>0</td>\n",
       "    </tr>\n",
       "    <tr>\n",
       "      <td>40713</td>\n",
       "      <td>2255423</td>\n",
       "      <td>846224</td>\n",
       "      <td>0</td>\n",
       "    </tr>\n",
       "    <tr>\n",
       "      <td>24732</td>\n",
       "      <td>4188068</td>\n",
       "      <td>2343260</td>\n",
       "      <td>0</td>\n",
       "    </tr>\n",
       "    <tr>\n",
       "      <td>73405</td>\n",
       "      <td>3674813</td>\n",
       "      <td>1823397</td>\n",
       "      <td>0</td>\n",
       "    </tr>\n",
       "    <tr>\n",
       "      <td>...</td>\n",
       "      <td>...</td>\n",
       "      <td>...</td>\n",
       "      <td>...</td>\n",
       "    </tr>\n",
       "    <tr>\n",
       "      <td>14241</td>\n",
       "      <td>4258976</td>\n",
       "      <td>890540</td>\n",
       "      <td>0</td>\n",
       "    </tr>\n",
       "    <tr>\n",
       "      <td>73768</td>\n",
       "      <td>2490312</td>\n",
       "      <td>3420758</td>\n",
       "      <td>0</td>\n",
       "    </tr>\n",
       "    <tr>\n",
       "      <td>44071</td>\n",
       "      <td>2228651</td>\n",
       "      <td>3594228</td>\n",
       "      <td>0</td>\n",
       "    </tr>\n",
       "    <tr>\n",
       "      <td>28368</td>\n",
       "      <td>3248588</td>\n",
       "      <td>194879</td>\n",
       "      <td>0</td>\n",
       "    </tr>\n",
       "    <tr>\n",
       "      <td>70550</td>\n",
       "      <td>3234508</td>\n",
       "      <td>4338888</td>\n",
       "      <td>0</td>\n",
       "    </tr>\n",
       "  </tbody>\n",
       "</table>\n",
       "<p>1000 rows × 3 columns</p>\n",
       "</div>"
      ],
      "text/plain": [
       "          from       in  label\n",
       "68990  4439072   651480      0\n",
       "97162  3935739   217423      0\n",
       "40713  2255423   846224      0\n",
       "24732  4188068  2343260      0\n",
       "73405  3674813  1823397      0\n",
       "...        ...      ...    ...\n",
       "14241  4258976   890540      0\n",
       "73768  2490312  3420758      0\n",
       "44071  2228651  3594228      0\n",
       "28368  3248588   194879      0\n",
       "70550  3234508  4338888      0\n",
       "\n",
       "[1000 rows x 3 columns]"
      ]
     },
     "execution_count": 171,
     "metadata": {},
     "output_type": "execute_result"
    }
   ],
   "source": [
    "random.seed(912)\n",
    "indx = random.sample(range(0,112174),1000)\n",
    "nage_sub = nage.loc[indx]\n",
    "nage_sub"
   ]
  },
  {
   "cell_type": "code",
   "execution_count": 179,
   "metadata": {},
   "outputs": [
    {
     "data": {
      "text/html": [
       "<div>\n",
       "<style scoped>\n",
       "    .dataframe tbody tr th:only-of-type {\n",
       "        vertical-align: middle;\n",
       "    }\n",
       "\n",
       "    .dataframe tbody tr th {\n",
       "        vertical-align: top;\n",
       "    }\n",
       "\n",
       "    .dataframe thead th {\n",
       "        text-align: right;\n",
       "    }\n",
       "</style>\n",
       "<table border=\"1\" class=\"dataframe\">\n",
       "  <thead>\n",
       "    <tr style=\"text-align: right;\">\n",
       "      <th></th>\n",
       "      <th>node_1</th>\n",
       "      <th>node_2</th>\n",
       "    </tr>\n",
       "  </thead>\n",
       "  <tbody>\n",
       "    <tr>\n",
       "      <td>0</td>\n",
       "      <td>540762</td>\n",
       "      <td>1912140</td>\n",
       "    </tr>\n",
       "    <tr>\n",
       "      <td>1</td>\n",
       "      <td>540762</td>\n",
       "      <td>1537559</td>\n",
       "    </tr>\n",
       "    <tr>\n",
       "      <td>2</td>\n",
       "      <td>540762</td>\n",
       "      <td>3091331</td>\n",
       "    </tr>\n",
       "    <tr>\n",
       "      <td>3</td>\n",
       "      <td>540762</td>\n",
       "      <td>2757277</td>\n",
       "    </tr>\n",
       "    <tr>\n",
       "      <td>4</td>\n",
       "      <td>540762</td>\n",
       "      <td>3237295</td>\n",
       "    </tr>\n",
       "    <tr>\n",
       "      <td>...</td>\n",
       "      <td>...</td>\n",
       "      <td>...</td>\n",
       "    </tr>\n",
       "    <tr>\n",
       "      <td>24004356</td>\n",
       "      <td>3547024</td>\n",
       "      <td>1075576</td>\n",
       "    </tr>\n",
       "    <tr>\n",
       "      <td>24004357</td>\n",
       "      <td>3547024</td>\n",
       "      <td>4549841</td>\n",
       "    </tr>\n",
       "    <tr>\n",
       "      <td>24004358</td>\n",
       "      <td>3547024</td>\n",
       "      <td>1135647</td>\n",
       "    </tr>\n",
       "    <tr>\n",
       "      <td>24004359</td>\n",
       "      <td>3547024</td>\n",
       "      <td>807274</td>\n",
       "    </tr>\n",
       "    <tr>\n",
       "      <td>24004360</td>\n",
       "      <td>3547024</td>\n",
       "      <td>3897045</td>\n",
       "    </tr>\n",
       "  </tbody>\n",
       "</table>\n",
       "<p>23994361 rows × 2 columns</p>\n",
       "</div>"
      ],
      "text/plain": [
       "           node_1   node_2\n",
       "0          540762  1912140\n",
       "1          540762  1537559\n",
       "2          540762  3091331\n",
       "3          540762  2757277\n",
       "4          540762  3237295\n",
       "...           ...      ...\n",
       "24004356  3547024  1075576\n",
       "24004357  3547024  4549841\n",
       "24004358  3547024  1135647\n",
       "24004359  3547024   807274\n",
       "24004360  3547024  3897045\n",
       "\n",
       "[23994361 rows x 2 columns]"
      ]
     },
     "execution_count": 179,
     "metadata": {},
     "output_type": "execute_result"
    }
   ],
   "source": [
    "Data\n",
    "random.seed(1001)\n",
    "indx = random.sample(range(0,24004360),10000)\n",
    "posi_sub = Data.loc[indx]\n",
    "posi_sub['label'] = 1\n",
    "posi_sub.columns = ['from','in','label']\n",
    "posi_sub #1967169\n",
    "data_part = Data.drop(index=Data.loc[indx].index)\n",
    "data_part #24004361 rows to 23994361"
   ]
  },
  {
   "cell_type": "code",
   "execution_count": 180,
   "metadata": {},
   "outputs": [
    {
     "data": {
      "text/html": [
       "<div>\n",
       "<style scoped>\n",
       "    .dataframe tbody tr th:only-of-type {\n",
       "        vertical-align: middle;\n",
       "    }\n",
       "\n",
       "    .dataframe tbody tr th {\n",
       "        vertical-align: top;\n",
       "    }\n",
       "\n",
       "    .dataframe thead th {\n",
       "        text-align: right;\n",
       "    }\n",
       "</style>\n",
       "<table border=\"1\" class=\"dataframe\">\n",
       "  <thead>\n",
       "    <tr style=\"text-align: right;\">\n",
       "      <th></th>\n",
       "      <th>from</th>\n",
       "      <th>in</th>\n",
       "      <th>label</th>\n",
       "    </tr>\n",
       "  </thead>\n",
       "  <tbody>\n",
       "    <tr>\n",
       "      <td>1967169</td>\n",
       "      <td>474172</td>\n",
       "      <td>1744210</td>\n",
       "      <td>1</td>\n",
       "    </tr>\n",
       "    <tr>\n",
       "      <td>6644985</td>\n",
       "      <td>2290451</td>\n",
       "      <td>322560</td>\n",
       "      <td>1</td>\n",
       "    </tr>\n",
       "    <tr>\n",
       "      <td>3062648</td>\n",
       "      <td>2962038</td>\n",
       "      <td>828994</td>\n",
       "      <td>1</td>\n",
       "    </tr>\n",
       "    <tr>\n",
       "      <td>18642666</td>\n",
       "      <td>3759853</td>\n",
       "      <td>3142018</td>\n",
       "      <td>1</td>\n",
       "    </tr>\n",
       "    <tr>\n",
       "      <td>12660341</td>\n",
       "      <td>2950311</td>\n",
       "      <td>3482768</td>\n",
       "      <td>1</td>\n",
       "    </tr>\n",
       "    <tr>\n",
       "      <td>...</td>\n",
       "      <td>...</td>\n",
       "      <td>...</td>\n",
       "      <td>...</td>\n",
       "    </tr>\n",
       "    <tr>\n",
       "      <td>15767264</td>\n",
       "      <td>946157</td>\n",
       "      <td>896124</td>\n",
       "      <td>1</td>\n",
       "    </tr>\n",
       "    <tr>\n",
       "      <td>6872458</td>\n",
       "      <td>2206273</td>\n",
       "      <td>331934</td>\n",
       "      <td>1</td>\n",
       "    </tr>\n",
       "    <tr>\n",
       "      <td>8713922</td>\n",
       "      <td>3671141</td>\n",
       "      <td>4623715</td>\n",
       "      <td>1</td>\n",
       "    </tr>\n",
       "    <tr>\n",
       "      <td>16209164</td>\n",
       "      <td>3183734</td>\n",
       "      <td>1550240</td>\n",
       "      <td>1</td>\n",
       "    </tr>\n",
       "    <tr>\n",
       "      <td>22383577</td>\n",
       "      <td>4678614</td>\n",
       "      <td>2412883</td>\n",
       "      <td>1</td>\n",
       "    </tr>\n",
       "  </tbody>\n",
       "</table>\n",
       "<p>10000 rows × 3 columns</p>\n",
       "</div>"
      ],
      "text/plain": [
       "             from       in  label\n",
       "1967169    474172  1744210      1\n",
       "6644985   2290451   322560      1\n",
       "3062648   2962038   828994      1\n",
       "18642666  3759853  3142018      1\n",
       "12660341  2950311  3482768      1\n",
       "...           ...      ...    ...\n",
       "15767264   946157   896124      1\n",
       "6872458   2206273   331934      1\n",
       "8713922   3671141  4623715      1\n",
       "16209164  3183734  1550240      1\n",
       "22383577  4678614  2412883      1\n",
       "\n",
       "[10000 rows x 3 columns]"
      ]
     },
     "execution_count": 180,
     "metadata": {},
     "output_type": "execute_result"
    }
   ],
   "source": [
    "posi_sub"
   ]
  },
  {
   "cell_type": "code",
   "execution_count": 174,
   "metadata": {},
   "outputs": [
    {
     "data": {
      "text/html": [
       "<div>\n",
       "<style scoped>\n",
       "    .dataframe tbody tr th:only-of-type {\n",
       "        vertical-align: middle;\n",
       "    }\n",
       "\n",
       "    .dataframe tbody tr th {\n",
       "        vertical-align: top;\n",
       "    }\n",
       "\n",
       "    .dataframe thead th {\n",
       "        text-align: right;\n",
       "    }\n",
       "</style>\n",
       "<table border=\"1\" class=\"dataframe\">\n",
       "  <thead>\n",
       "    <tr style=\"text-align: right;\">\n",
       "      <th></th>\n",
       "      <th>from</th>\n",
       "      <th>in</th>\n",
       "      <th>label</th>\n",
       "    </tr>\n",
       "  </thead>\n",
       "  <tbody>\n",
       "    <tr>\n",
       "      <td>1967169</td>\n",
       "      <td>474172</td>\n",
       "      <td>1744210</td>\n",
       "      <td>1</td>\n",
       "    </tr>\n",
       "    <tr>\n",
       "      <td>6644985</td>\n",
       "      <td>2290451</td>\n",
       "      <td>322560</td>\n",
       "      <td>1</td>\n",
       "    </tr>\n",
       "    <tr>\n",
       "      <td>3062648</td>\n",
       "      <td>2962038</td>\n",
       "      <td>828994</td>\n",
       "      <td>1</td>\n",
       "    </tr>\n",
       "    <tr>\n",
       "      <td>18642666</td>\n",
       "      <td>3759853</td>\n",
       "      <td>3142018</td>\n",
       "      <td>1</td>\n",
       "    </tr>\n",
       "    <tr>\n",
       "      <td>12660341</td>\n",
       "      <td>2950311</td>\n",
       "      <td>3482768</td>\n",
       "      <td>1</td>\n",
       "    </tr>\n",
       "    <tr>\n",
       "      <td>...</td>\n",
       "      <td>...</td>\n",
       "      <td>...</td>\n",
       "      <td>...</td>\n",
       "    </tr>\n",
       "    <tr>\n",
       "      <td>14241</td>\n",
       "      <td>4258976</td>\n",
       "      <td>890540</td>\n",
       "      <td>0</td>\n",
       "    </tr>\n",
       "    <tr>\n",
       "      <td>73768</td>\n",
       "      <td>2490312</td>\n",
       "      <td>3420758</td>\n",
       "      <td>0</td>\n",
       "    </tr>\n",
       "    <tr>\n",
       "      <td>44071</td>\n",
       "      <td>2228651</td>\n",
       "      <td>3594228</td>\n",
       "      <td>0</td>\n",
       "    </tr>\n",
       "    <tr>\n",
       "      <td>28368</td>\n",
       "      <td>3248588</td>\n",
       "      <td>194879</td>\n",
       "      <td>0</td>\n",
       "    </tr>\n",
       "    <tr>\n",
       "      <td>70550</td>\n",
       "      <td>3234508</td>\n",
       "      <td>4338888</td>\n",
       "      <td>0</td>\n",
       "    </tr>\n",
       "  </tbody>\n",
       "</table>\n",
       "<p>11000 rows × 3 columns</p>\n",
       "</div>"
      ],
      "text/plain": [
       "             from       in  label\n",
       "1967169    474172  1744210      1\n",
       "6644985   2290451   322560      1\n",
       "3062648   2962038   828994      1\n",
       "18642666  3759853  3142018      1\n",
       "12660341  2950311  3482768      1\n",
       "...           ...      ...    ...\n",
       "14241     4258976   890540      0\n",
       "73768     2490312  3420758      0\n",
       "44071     2228651  3594228      0\n",
       "28368     3248588   194879      0\n",
       "70550     3234508  4338888      0\n",
       "\n",
       "[11000 rows x 3 columns]"
      ]
     },
     "execution_count": 174,
     "metadata": {},
     "output_type": "execute_result"
    }
   ],
   "source": [
    "sample = posi_sub.append(nage_sub)\n",
    "sample"
   ]
  },
  {
   "cell_type": "code",
   "execution_count": 175,
   "metadata": {},
   "outputs": [],
   "source": [
    "sample.to_csv('/Users/mac/Desktop/Project1/train_sample.csv', index = False, header = True)"
   ]
  },
  {
   "cell_type": "code",
   "execution_count": 181,
   "metadata": {},
   "outputs": [],
   "source": [
    "data_part.to_csv('/Users/mac/Desktop/Project1/partial.csv', index = False, header = True)"
   ]
  },
  {
   "cell_type": "code",
   "execution_count": null,
   "metadata": {},
   "outputs": [],
   "source": []
  }
 ],
 "metadata": {
  "kernelspec": {
   "display_name": "Python 3",
   "language": "python",
   "name": "python3"
  },
  "language_info": {
   "codemirror_mode": {
    "name": "ipython",
    "version": 3
   },
   "file_extension": ".py",
   "mimetype": "text/x-python",
   "name": "python",
   "nbconvert_exporter": "python",
   "pygments_lexer": "ipython3",
   "version": "3.7.4"
  }
 },
 "nbformat": 4,
 "nbformat_minor": 2
}
