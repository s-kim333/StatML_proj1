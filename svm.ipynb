{
 "cells": [
  {
   "cell_type": "code",
   "execution_count": 58,
   "metadata": {},
   "outputs": [
    {
     "name": "stdout",
     "output_type": "stream",
     "text": [
      "Collecting xgboost\n",
      "\u001b[?25l  Downloading https://files.pythonhosted.org/packages/64/73/a33a9a330de1ce982b78102fe4a4b426e993a745afaf9075c13c84d1abe2/xgboost-1.2.0-py3-none-macosx_10_13_x86_64.macosx_10_14_x86_64.macosx_10_15_x86_64.whl (1.2MB)\n",
      "\u001b[K     |████████████████████████████████| 1.2MB 259kB/s eta 0:00:01\n",
      "\u001b[?25hRequirement already satisfied: scipy in /opt/anaconda3/lib/python3.7/site-packages (from xgboost) (1.3.1)\n",
      "Requirement already satisfied: numpy in /opt/anaconda3/lib/python3.7/site-packages (from xgboost) (1.17.2)\n",
      "Installing collected packages: xgboost\n",
      "Successfully installed xgboost-1.2.0\n"
     ]
    }
   ],
   "source": [
    "!pip install xgboost"
   ]
  },
  {
   "cell_type": "code",
   "execution_count": 1,
   "metadata": {},
   "outputs": [],
   "source": [
    "import numpy as np\n",
    "import pandas as pd\n",
    "import random\n",
    "import networkx as nx\n",
    "from sklearn.preprocessing import StandardScaler\n",
    "from sklearn.preprocessing import MinMaxScaler\n",
    "from matplotlib import pyplot as plt"
   ]
  },
  {
   "cell_type": "code",
   "execution_count": 540,
   "metadata": {},
   "outputs": [],
   "source": [
    "Data = pd.read_csv('/Users/mac/Desktop/Project1/partial.csv')\n",
    "Test = pd.read_csv('/Users/mac/Desktop/Project1/test.csv')\n",
    "Train = pd.read_csv('/Users/mac/Desktop/Project1/train_sample.csv')"
   ]
  },
  {
   "cell_type": "code",
   "execution_count": 541,
   "metadata": {},
   "outputs": [
    {
     "name": "stdout",
     "output_type": "stream",
     "text": [
      "           node_1   node_2\n",
      "0          540762  1912140\n",
      "1          540762  1537559\n",
      "2          540762  3091331\n",
      "3          540762  2757277\n",
      "4          540762  3237295\n",
      "...           ...      ...\n",
      "24002356  3547024  1075576\n",
      "24002357  3547024  4549841\n",
      "24002358  3547024  1135647\n",
      "24002359  3547024   807274\n",
      "24002360  3547024  3897045\n",
      "\n",
      "[24002361 rows x 2 columns]\n",
      "        Id   source     sink\n",
      "0        1  3563811  3600160\n",
      "1        2  2052043  1401960\n",
      "2        3  4517994  1690636\n",
      "3        4  1660006  4349447\n",
      "4        5   581111  1882617\n",
      "...    ...      ...      ...\n",
      "1995  1996  1461386  2341683\n",
      "1996  1997  4057755  1871227\n",
      "1997  1998  4242514  1413468\n",
      "1998  1999   555531  1290080\n",
      "1999  2000  1707829  2373045\n",
      "\n",
      "[2000 rows x 3 columns]\n",
      "         from       in  label\n",
      "0     2893327  4331696      1\n",
      "1      455376  4697286      1\n",
      "2      544230   521586      1\n",
      "3     4238001  1870577      1\n",
      "4     1249227  1024872      1\n",
      "...       ...      ...    ...\n",
      "2995  3761828  3927071      0\n",
      "2996   379350  2581788      0\n",
      "2997  2855029  1875087      0\n",
      "2998  1842133  2245436      0\n",
      "2999  3369468  2750838      0\n",
      "\n",
      "[3000 rows x 3 columns]\n"
     ]
    }
   ],
   "source": [
    "print(Data) #24002361 rows x 2 columns\n",
    "print(Test) #2000 rows x 3 columns\n",
    "print(Train) #4000 rows x 3 columns"
   ]
  },
  {
   "cell_type": "code",
   "execution_count": 542,
   "metadata": {},
   "outputs": [
    {
     "data": {
      "text/plain": [
       "array([[2893327, 4331696],\n",
       "       [ 455376, 4697286],\n",
       "       [ 544230,  521586],\n",
       "       ...,\n",
       "       [2855029, 1875087],\n",
       "       [1842133, 2245436],\n",
       "       [3369468, 2750838]])"
      ]
     },
     "execution_count": 542,
     "metadata": {},
     "output_type": "execute_result"
    }
   ],
   "source": [
    "#source = list(Test.source)\n",
    "#source\n",
    "#sink = list(Test.sink)\n",
    "#node_test = (source,sink)\n",
    "#node_test = np.array((source,sink)))\n",
    "node_test = np.array(Test[['source','sink']])\n",
    "node_test\n",
    "\n",
    "node_train = np.array(Train[['from','in']])\n",
    "node_train"
   ]
  },
  {
   "cell_type": "code",
   "execution_count": 5,
   "metadata": {},
   "outputs": [],
   "source": [
    "DG = nx.from_pandas_edgelist(Data, \"node_1\", \"node_2\", create_using=nx.DiGraph())"
   ]
  },
  {
   "cell_type": "code",
   "execution_count": 6,
   "metadata": {},
   "outputs": [],
   "source": [
    "#all kinds of Sim\n",
    "\n",
    "def CaculateSim_1 (node_a, node_b):\n",
    "    a_in_set = set(DG.predecessors(node_a))  \n",
    "    b_in_set = set(DG.predecessors(node_b))\n",
    "\n",
    "    if len(a_in_set | b_in_set):\n",
    "        sim_1 = len(a_in_set & b_in_set)/ len(a_in_set | b_in_set)\n",
    "        return sim_1\n",
    "    else:\n",
    "        return 0\n",
    "\n",
    "\n",
    "def CaculateSim_2 (node_a, node_b):\n",
    "    a_out_set = set(DG.successors(node_a))\n",
    "    b_out_set = set(DG.successors(node_b))\n",
    "\n",
    "    if len(a_out_set | b_out_set):\n",
    "        sim_2 = len(a_out_set & b_out_set)/ len(a_out_set | b_out_set)\n",
    "        return sim_2\n",
    "    else:\n",
    "        return 0\n",
    "    \n",
    "\n",
    "def CaculateSim_3 (node_a, node_b):\n",
    "    a_in_set = set(DG.predecessors(node_a))\n",
    "    b_out_set = set(DG.successors(node_b))\n",
    "\n",
    "    if len(a_in_set | b_out_set):\n",
    "        sim_3 = len(a_in_set & b_out_set)/ len(a_in_set | b_out_set)\n",
    "        return sim_3\n",
    "    else:\n",
    "        return 0\n",
    "\n",
    "    \n",
    "def CaculateSim_4 (node_a, node_b):\n",
    "    a_out_set = set(DG.successors(node_a))\n",
    "    b_in_set = set(DG.predecessors(node_b))\n",
    "\n",
    "    if len(a_out_set | b_in_set):\n",
    "        sim_4 = len(a_out_set & b_in_set)/ len(a_out_set | b_in_set)\n",
    "        return sim_4\n",
    "    else:\n",
    "        return 0\n"
   ]
  },
  {
   "cell_type": "code",
   "execution_count": 7,
   "metadata": {},
   "outputs": [],
   "source": [
    "sim1_test = []\n",
    "sim2_test = []\n",
    "sim3_test = []\n",
    "sim4_test = []\n",
    "\n",
    "for node in node_test:\n",
    "    node_a = node[0]\n",
    "    node_b = node[1]\n",
    "    sim1_test.append(CaculateSim_1(node_a,node_b))\n",
    "    sim2_test.append(CaculateSim_2(node_a,node_b))\n",
    "    sim3_test.append(CaculateSim_3(node_a,node_b))\n",
    "    sim4_test.append(CaculateSim_4(node_a,node_b))"
   ]
  },
  {
   "cell_type": "code",
   "execution_count": 543,
   "metadata": {},
   "outputs": [],
   "source": [
    "sim1_train = []\n",
    "for node in node_train:\n",
    "    node_a = node[0]\n",
    "    node_b = node[1]\n",
    "    sim1_train.append(CaculateSim_1(node_a,node_b))"
   ]
  },
  {
   "cell_type": "code",
   "execution_count": 544,
   "metadata": {},
   "outputs": [],
   "source": [
    "sim2_train = []\n",
    "for node in node_train:\n",
    "    node_a = node[0]\n",
    "    node_b = node[1]\n",
    "    sim2_train.append(CaculateSim_2(node_a,node_b))"
   ]
  },
  {
   "cell_type": "code",
   "execution_count": 545,
   "metadata": {},
   "outputs": [],
   "source": [
    "sim3_train = []\n",
    "for node in node_train:\n",
    "    node_a = node[0]\n",
    "    node_b = node[1]\n",
    "    sim3_train.append(CaculateSim_3(node_a,node_b))"
   ]
  },
  {
   "cell_type": "code",
   "execution_count": 546,
   "metadata": {},
   "outputs": [],
   "source": [
    "sim4_train = []\n",
    "for node in node_train:\n",
    "    node_a = node[0]\n",
    "    node_b = node[1]\n",
    "    sim4_train.append(CaculateSim_4(node_a,node_b))"
   ]
  },
  {
   "cell_type": "code",
   "execution_count": 547,
   "metadata": {},
   "outputs": [
    {
     "data": {
      "text/plain": [
       "3000"
      ]
     },
     "execution_count": 547,
     "metadata": {},
     "output_type": "execute_result"
    }
   ],
   "source": [
    "len(sim4_train)"
   ]
  },
  {
   "cell_type": "code",
   "execution_count": 16,
   "metadata": {},
   "outputs": [
    {
     "data": {
      "text/plain": [
       "False"
      ]
     },
     "execution_count": 16,
     "metadata": {},
     "output_type": "execute_result"
    }
   ],
   "source": [
    "#DG.has_edge(540762, 249357)"
   ]
  },
  {
   "cell_type": "code",
   "execution_count": 17,
   "metadata": {},
   "outputs": [],
   "source": [
    "#authority & hub of test\n",
    "\n",
    "Ath_test = []\n",
    "Hub_test = []\n",
    "\n",
    "for node in node_test:\n",
    "    node_a = node[0]\n",
    "    node_b = node[1]\n",
    "    pre = DG.in_degree(node_b)\n",
    "    suc = DG.out_degree(node_a)\n",
    "    Ath_test.append(pre)\n",
    "    Hub_test.append(suc)"
   ]
  },
  {
   "cell_type": "code",
   "execution_count": 20,
   "metadata": {},
   "outputs": [
    {
     "data": {
      "text/plain": [
       "2000"
      ]
     },
     "execution_count": 20,
     "metadata": {},
     "output_type": "execute_result"
    }
   ],
   "source": [
    "len(Ath_test) #2000"
   ]
  },
  {
   "cell_type": "code",
   "execution_count": 548,
   "metadata": {},
   "outputs": [],
   "source": [
    "#authority & hub of train\n",
    "\n",
    "Ath_train = []\n",
    "Hub_train = []\n",
    "\n",
    "for node in node_train:\n",
    "    node_a = node[0]\n",
    "    node_b = node[1]\n",
    "    pre = DG.in_degree(node_b)\n",
    "    suc = DG.out_degree(node_a)\n",
    "    Ath_train.append(pre)\n",
    "    Hub_train.append(suc)"
   ]
  },
  {
   "cell_type": "code",
   "execution_count": 549,
   "metadata": {},
   "outputs": [
    {
     "data": {
      "text/plain": [
       "3000"
      ]
     },
     "execution_count": 549,
     "metadata": {},
     "output_type": "execute_result"
    }
   ],
   "source": [
    "len(Ath_train)"
   ]
  },
  {
   "cell_type": "code",
   "execution_count": 550,
   "metadata": {},
   "outputs": [
    {
     "data": {
      "text/plain": [
       "3000"
      ]
     },
     "execution_count": 550,
     "metadata": {},
     "output_type": "execute_result"
    }
   ],
   "source": [
    "len(Train['from'])"
   ]
  },
  {
   "cell_type": "code",
   "execution_count": 551,
   "metadata": {},
   "outputs": [
    {
     "name": "stdout",
     "output_type": "stream",
     "text": [
      "         from       in      sim1  sim2  sim3      sim4  ath  hub\n",
      "0     3563811  3600160  0.000000   0.0   0.0  0.000000   29   21\n",
      "1     2052043  1401960  0.000000   0.0   0.0  0.000000    9   71\n",
      "2     4517994  1690636  0.021053   0.0   0.0  0.009091   17  205\n",
      "3     1660006  4349447  0.030303   0.0   0.0  0.003711   36  505\n",
      "4      581111  1882617  0.000000   0.0   0.0  0.000000   46   18\n",
      "...       ...      ...       ...   ...   ...       ...  ...  ...\n",
      "1995  1461386  2341683  0.000000   0.0   0.0  0.000000    2   53\n",
      "1996  4057755  1871227  0.010753   0.0   0.0  0.000000   41   95\n",
      "1997  4242514  1413468  0.000000   0.0   0.0  0.000000    2   27\n",
      "1998   555531  1290080  0.000000   0.0   0.0  0.000000    3   56\n",
      "1999  1707829  2373045  0.000000   0.0   0.0  0.000000    2  244\n",
      "\n",
      "[2000 rows x 8 columns]\n",
      "         from       in      sim1     sim2      sim3      sim4  ath    hub  \\\n",
      "0     2893327  4331696  0.074627  0.00000  0.000000  0.004403   44   2237   \n",
      "1      455376  4697286  0.000000  0.00000  0.000000  0.000000    3    190   \n",
      "2      544230   521586  0.322470  0.10794  0.030209  0.009697  781  60755   \n",
      "3     4238001  1870577  0.055741  0.00000  0.000000  0.000817   78  61151   \n",
      "4     1249227  1024872  0.045322  0.00000  0.000000  0.004142   94   7421   \n",
      "...       ...      ...       ...      ...       ...       ...  ...    ...   \n",
      "2995  3761828  3927071  0.000000  0.00000  0.000000  0.000000    1      4   \n",
      "2996   379350  2581788  0.000000  0.00000  0.000000  0.000000    2     57   \n",
      "2997  2855029  1875087  0.000000  0.00000  0.000000  0.000000    3    122   \n",
      "2998  1842133  2245436  0.000000  0.00000  0.000000  0.000000    1     10   \n",
      "2999  3369468  2750838  0.010101  0.00000  0.000000  0.002674   65    310   \n",
      "\n",
      "      label  \n",
      "0         1  \n",
      "1         1  \n",
      "2         1  \n",
      "3         1  \n",
      "4         1  \n",
      "...     ...  \n",
      "2995      0  \n",
      "2996      0  \n",
      "2997      0  \n",
      "2998      0  \n",
      "2999      0  \n",
      "\n",
      "[3000 rows x 9 columns]\n"
     ]
    }
   ],
   "source": [
    "train_all = pd.DataFrame({'from':Train['from'] ,'in':Train['in'] ,'sim1':sim1_train,'sim2':sim2_train,'sim3':sim3_train,'sim4':sim4_train,'ath':Ath_train, 'hub':Hub_train, 'label':Train['label']})\n",
    "test_df = pd.DataFrame({'from':Test['source'] ,'in':Test['sink'] ,'sim1':sim1_test,'sim2':sim2_test,'sim3':sim3_test,'sim4':sim4_test,'ath':Ath_test, 'hub':Hub_test})\n",
    "print(test_df)\n",
    "print(train_all)"
   ]
  },
  {
   "cell_type": "code",
   "execution_count": 552,
   "metadata": {},
   "outputs": [],
   "source": [
    "from sklearn.model_selection import train_test_split\n",
    "train_df, valid_df = train_test_split(train_all, test_size=0.2, random_state=1)"
   ]
  },
  {
   "cell_type": "code",
   "execution_count": 553,
   "metadata": {},
   "outputs": [
    {
     "data": {
      "text/html": [
       "<div>\n",
       "<style scoped>\n",
       "    .dataframe tbody tr th:only-of-type {\n",
       "        vertical-align: middle;\n",
       "    }\n",
       "\n",
       "    .dataframe tbody tr th {\n",
       "        vertical-align: top;\n",
       "    }\n",
       "\n",
       "    .dataframe thead th {\n",
       "        text-align: right;\n",
       "    }\n",
       "</style>\n",
       "<table border=\"1\" class=\"dataframe\">\n",
       "  <thead>\n",
       "    <tr style=\"text-align: right;\">\n",
       "      <th></th>\n",
       "      <th>from</th>\n",
       "      <th>in</th>\n",
       "      <th>sim1</th>\n",
       "      <th>sim2</th>\n",
       "      <th>sim3</th>\n",
       "      <th>sim4</th>\n",
       "      <th>ath</th>\n",
       "      <th>hub</th>\n",
       "    </tr>\n",
       "  </thead>\n",
       "  <tbody>\n",
       "    <tr>\n",
       "      <td>1957</td>\n",
       "      <td>3845148</td>\n",
       "      <td>958295</td>\n",
       "      <td>0.000000</td>\n",
       "      <td>0.0</td>\n",
       "      <td>0.0</td>\n",
       "      <td>0.000000</td>\n",
       "      <td>2</td>\n",
       "      <td>3927</td>\n",
       "    </tr>\n",
       "    <tr>\n",
       "      <td>2087</td>\n",
       "      <td>294336</td>\n",
       "      <td>2179521</td>\n",
       "      <td>0.000000</td>\n",
       "      <td>0.0</td>\n",
       "      <td>0.0</td>\n",
       "      <td>0.000000</td>\n",
       "      <td>1</td>\n",
       "      <td>368</td>\n",
       "    </tr>\n",
       "    <tr>\n",
       "      <td>1394</td>\n",
       "      <td>427805</td>\n",
       "      <td>1782146</td>\n",
       "      <td>0.031716</td>\n",
       "      <td>0.0</td>\n",
       "      <td>0.0</td>\n",
       "      <td>0.000083</td>\n",
       "      <td>70</td>\n",
       "      <td>156905</td>\n",
       "    </tr>\n",
       "    <tr>\n",
       "      <td>1520</td>\n",
       "      <td>2209891</td>\n",
       "      <td>3165228</td>\n",
       "      <td>0.033654</td>\n",
       "      <td>0.0</td>\n",
       "      <td>0.0</td>\n",
       "      <td>0.001723</td>\n",
       "      <td>11</td>\n",
       "      <td>4059</td>\n",
       "    </tr>\n",
       "    <tr>\n",
       "      <td>1098</td>\n",
       "      <td>2101710</td>\n",
       "      <td>2809754</td>\n",
       "      <td>0.408163</td>\n",
       "      <td>0.0</td>\n",
       "      <td>0.0</td>\n",
       "      <td>0.011611</td>\n",
       "      <td>124</td>\n",
       "      <td>6933</td>\n",
       "    </tr>\n",
       "    <tr>\n",
       "      <td>...</td>\n",
       "      <td>...</td>\n",
       "      <td>...</td>\n",
       "      <td>...</td>\n",
       "      <td>...</td>\n",
       "      <td>...</td>\n",
       "      <td>...</td>\n",
       "      <td>...</td>\n",
       "      <td>...</td>\n",
       "    </tr>\n",
       "    <tr>\n",
       "      <td>2495</td>\n",
       "      <td>4390289</td>\n",
       "      <td>736229</td>\n",
       "      <td>0.000000</td>\n",
       "      <td>0.0</td>\n",
       "      <td>0.0</td>\n",
       "      <td>0.000000</td>\n",
       "      <td>1</td>\n",
       "      <td>197</td>\n",
       "    </tr>\n",
       "    <tr>\n",
       "      <td>94</td>\n",
       "      <td>439557</td>\n",
       "      <td>4340561</td>\n",
       "      <td>0.001433</td>\n",
       "      <td>0.0</td>\n",
       "      <td>0.0</td>\n",
       "      <td>0.000049</td>\n",
       "      <td>7</td>\n",
       "      <td>61739</td>\n",
       "    </tr>\n",
       "    <tr>\n",
       "      <td>2742</td>\n",
       "      <td>457215</td>\n",
       "      <td>732579</td>\n",
       "      <td>0.000000</td>\n",
       "      <td>0.0</td>\n",
       "      <td>0.0</td>\n",
       "      <td>0.000000</td>\n",
       "      <td>1</td>\n",
       "      <td>1057</td>\n",
       "    </tr>\n",
       "    <tr>\n",
       "      <td>1999</td>\n",
       "      <td>4492248</td>\n",
       "      <td>2811644</td>\n",
       "      <td>0.040650</td>\n",
       "      <td>0.0</td>\n",
       "      <td>0.0</td>\n",
       "      <td>0.005414</td>\n",
       "      <td>147</td>\n",
       "      <td>17123</td>\n",
       "    </tr>\n",
       "    <tr>\n",
       "      <td>1178</td>\n",
       "      <td>2687552</td>\n",
       "      <td>3622120</td>\n",
       "      <td>0.170238</td>\n",
       "      <td>0.0</td>\n",
       "      <td>0.0</td>\n",
       "      <td>0.006272</td>\n",
       "      <td>745</td>\n",
       "      <td>25567</td>\n",
       "    </tr>\n",
       "  </tbody>\n",
       "</table>\n",
       "<p>600 rows × 8 columns</p>\n",
       "</div>"
      ],
      "text/plain": [
       "         from       in      sim1  sim2  sim3      sim4  ath     hub\n",
       "1957  3845148   958295  0.000000   0.0   0.0  0.000000    2    3927\n",
       "2087   294336  2179521  0.000000   0.0   0.0  0.000000    1     368\n",
       "1394   427805  1782146  0.031716   0.0   0.0  0.000083   70  156905\n",
       "1520  2209891  3165228  0.033654   0.0   0.0  0.001723   11    4059\n",
       "1098  2101710  2809754  0.408163   0.0   0.0  0.011611  124    6933\n",
       "...       ...      ...       ...   ...   ...       ...  ...     ...\n",
       "2495  4390289   736229  0.000000   0.0   0.0  0.000000    1     197\n",
       "94     439557  4340561  0.001433   0.0   0.0  0.000049    7   61739\n",
       "2742   457215   732579  0.000000   0.0   0.0  0.000000    1    1057\n",
       "1999  4492248  2811644  0.040650   0.0   0.0  0.005414  147   17123\n",
       "1178  2687552  3622120  0.170238   0.0   0.0  0.006272  745   25567\n",
       "\n",
       "[600 rows x 8 columns]"
      ]
     },
     "execution_count": 553,
     "metadata": {},
     "output_type": "execute_result"
    }
   ],
   "source": [
    "X_train = train_df.drop(\"label\", axis=1)\n",
    "Y_train = train_df[\"label\"]\n",
    "X_valid = valid_df.drop(\"label\", axis=1)\n",
    "Y_valid = valid_df[\"label\"]\n",
    "X_valid"
   ]
  },
  {
   "cell_type": "code",
   "execution_count": 554,
   "metadata": {},
   "outputs": [],
   "source": [
    "sc = StandardScaler()\n",
    "\n",
    "features = [\"sim1\",\"sim2\",\"sim3\",\"sim4\"]\n",
    "\n",
    "X_train = sc.fit_transform(train_df[features]) \n",
    "\n",
    "X_valid = sc.fit_transform(valid_df[features])"
   ]
  },
  {
   "cell_type": "code",
   "execution_count": 555,
   "metadata": {},
   "outputs": [
    {
     "data": {
      "text/plain": [
       "268     1\n",
       "32      1\n",
       "199     1\n",
       "1488    1\n",
       "228     1\n",
       "       ..\n",
       "2763    0\n",
       "905     1\n",
       "1096    1\n",
       "235     1\n",
       "1061    1\n",
       "Name: label, Length: 2400, dtype: int64"
      ]
     },
     "execution_count": 555,
     "metadata": {},
     "output_type": "execute_result"
    }
   ],
   "source": [
    "Y_train"
   ]
  },
  {
   "cell_type": "code",
   "execution_count": 556,
   "metadata": {},
   "outputs": [
    {
     "data": {
      "text/plain": [
       "85.33"
      ]
     },
     "execution_count": 556,
     "metadata": {},
     "output_type": "execute_result"
    }
   ],
   "source": [
    "from sklearn.svm import SVC\n",
    "classifier = SVC(kernel = 'rbf', random_state = 0,probability = True)\n",
    "classifier.fit(X_train, Y_train)\n",
    "Y_pred = classifier.predict_proba(X_valid)\n",
    "\n",
    "from sklearn.metrics import roc_auc_score as score\n",
    "classifier.score(X_train, Y_train)\n",
    "classifier = round(classifier.score(X_train, Y_train) * 100, 2)\n",
    "classifier"
   ]
  },
  {
   "cell_type": "code",
   "execution_count": 477,
   "metadata": {},
   "outputs": [
    {
     "data": {
      "text/plain": [
       "84.79"
      ]
     },
     "execution_count": 477,
     "metadata": {},
     "output_type": "execute_result"
    }
   ],
   "source": [
    "from sklearn.svm import SVC\n",
    "classifier = SVC(kernel = 'linear', random_state = 0,probability = True)\n",
    "classifier.fit(X_train, Y_train)\n",
    "Y_pred = classifier.predict_proba(X_valid)\n",
    "\n",
    "from sklearn.metrics import roc_auc_score as score\n",
    "classifier.score(X_train, Y_train)\n",
    "classifier = round(classifier.score(X_train, Y_train) * 100, 2)\n",
    "classifier"
   ]
  },
  {
   "cell_type": "code",
   "execution_count": 131,
   "metadata": {},
   "outputs": [
    {
     "ename": "TypeError",
     "evalue": "__init__() got an unexpected keyword argument 'probability'",
     "output_type": "error",
     "traceback": [
      "\u001b[0;31m---------------------------------------------------------------------------\u001b[0m",
      "\u001b[0;31mTypeError\u001b[0m                                 Traceback (most recent call last)",
      "\u001b[0;32m<ipython-input-131-b20fdc54eb38>\u001b[0m in \u001b[0;36m<module>\u001b[0;34m\u001b[0m\n\u001b[1;32m      1\u001b[0m \u001b[0;32mfrom\u001b[0m \u001b[0msklearn\u001b[0m\u001b[0;34m.\u001b[0m\u001b[0mneighbors\u001b[0m \u001b[0;32mimport\u001b[0m \u001b[0mKNeighborsClassifier\u001b[0m\u001b[0;34m\u001b[0m\u001b[0;34m\u001b[0m\u001b[0m\n\u001b[0;32m----> 2\u001b[0;31m \u001b[0mclassifier\u001b[0m \u001b[0;34m=\u001b[0m \u001b[0mKNeighborsClassifier\u001b[0m\u001b[0;34m(\u001b[0m\u001b[0mn_neighbors\u001b[0m \u001b[0;34m=\u001b[0m \u001b[0;36m5\u001b[0m\u001b[0;34m,\u001b[0m \u001b[0mmetric\u001b[0m \u001b[0;34m=\u001b[0m \u001b[0;34m'minkowski'\u001b[0m\u001b[0;34m,\u001b[0m \u001b[0mp\u001b[0m \u001b[0;34m=\u001b[0m \u001b[0;36m2\u001b[0m\u001b[0;34m,\u001b[0m \u001b[0mprobability\u001b[0m \u001b[0;34m=\u001b[0m \u001b[0;32mTrue\u001b[0m\u001b[0;34m)\u001b[0m\u001b[0;34m\u001b[0m\u001b[0;34m\u001b[0m\u001b[0m\n\u001b[0m\u001b[1;32m      3\u001b[0m \u001b[0mclassifier\u001b[0m\u001b[0;34m.\u001b[0m\u001b[0mfit\u001b[0m\u001b[0;34m(\u001b[0m\u001b[0mX_train\u001b[0m\u001b[0;34m,\u001b[0m \u001b[0mY_train\u001b[0m\u001b[0;34m)\u001b[0m\u001b[0;34m\u001b[0m\u001b[0;34m\u001b[0m\u001b[0m\n\u001b[1;32m      4\u001b[0m \u001b[0mY_pred\u001b[0m \u001b[0;34m=\u001b[0m \u001b[0mclassifier\u001b[0m\u001b[0;34m.\u001b[0m\u001b[0mpredict_proba\u001b[0m\u001b[0;34m(\u001b[0m\u001b[0mX_valid\u001b[0m\u001b[0;34m)\u001b[0m\u001b[0;34m\u001b[0m\u001b[0;34m\u001b[0m\u001b[0m\n\u001b[1;32m      5\u001b[0m \u001b[0;34m\u001b[0m\u001b[0m\n",
      "\u001b[0;32m/opt/anaconda3/lib/python3.7/site-packages/sklearn/neighbors/classification.py\u001b[0m in \u001b[0;36m__init__\u001b[0;34m(self, n_neighbors, weights, algorithm, leaf_size, p, metric, metric_params, n_jobs, **kwargs)\u001b[0m\n\u001b[1;32m    128\u001b[0m             \u001b[0mleaf_size\u001b[0m\u001b[0;34m=\u001b[0m\u001b[0mleaf_size\u001b[0m\u001b[0;34m,\u001b[0m \u001b[0mmetric\u001b[0m\u001b[0;34m=\u001b[0m\u001b[0mmetric\u001b[0m\u001b[0;34m,\u001b[0m \u001b[0mp\u001b[0m\u001b[0;34m=\u001b[0m\u001b[0mp\u001b[0m\u001b[0;34m,\u001b[0m\u001b[0;34m\u001b[0m\u001b[0;34m\u001b[0m\u001b[0m\n\u001b[1;32m    129\u001b[0m             \u001b[0mmetric_params\u001b[0m\u001b[0;34m=\u001b[0m\u001b[0mmetric_params\u001b[0m\u001b[0;34m,\u001b[0m\u001b[0;34m\u001b[0m\u001b[0;34m\u001b[0m\u001b[0m\n\u001b[0;32m--> 130\u001b[0;31m             n_jobs=n_jobs, **kwargs)\n\u001b[0m\u001b[1;32m    131\u001b[0m         \u001b[0mself\u001b[0m\u001b[0;34m.\u001b[0m\u001b[0mweights\u001b[0m \u001b[0;34m=\u001b[0m \u001b[0m_check_weights\u001b[0m\u001b[0;34m(\u001b[0m\u001b[0mweights\u001b[0m\u001b[0;34m)\u001b[0m\u001b[0;34m\u001b[0m\u001b[0;34m\u001b[0m\u001b[0m\n\u001b[1;32m    132\u001b[0m \u001b[0;34m\u001b[0m\u001b[0m\n",
      "\u001b[0;31mTypeError\u001b[0m: __init__() got an unexpected keyword argument 'probability'"
     ]
    }
   ],
   "source": [
    "from sklearn.neighbors import KNeighborsClassifier\n",
    "classifier = KNeighborsClassifier(n_neighbors = 5, metric = 'minkowski', p = 2, probability = True)\n",
    "classifier.fit(X_train, Y_train)\n",
    "Y_pred = classifier.predict_proba(X_valid)\n",
    "\n",
    "from sklearn.metrics import roc_auc_score as score\n",
    "classifier.score(X_train, Y_train)\n",
    "classifier = round(classifier.score(X_train, Y_train) * 100, 2)\n",
    "classifier #99.84"
   ]
  },
  {
   "cell_type": "code",
   "execution_count": 132,
   "metadata": {},
   "outputs": [
    {
     "ename": "TypeError",
     "evalue": "__init__() got an unexpected keyword argument 'probability'",
     "output_type": "error",
     "traceback": [
      "\u001b[0;31m---------------------------------------------------------------------------\u001b[0m",
      "\u001b[0;31mTypeError\u001b[0m                                 Traceback (most recent call last)",
      "\u001b[0;32m<ipython-input-132-fa88ad6c8111>\u001b[0m in \u001b[0;36m<module>\u001b[0;34m\u001b[0m\n\u001b[1;32m      1\u001b[0m \u001b[0;32mfrom\u001b[0m \u001b[0msklearn\u001b[0m\u001b[0;34m.\u001b[0m\u001b[0mensemble\u001b[0m \u001b[0;32mimport\u001b[0m \u001b[0mRandomForestClassifier\u001b[0m\u001b[0;34m\u001b[0m\u001b[0;34m\u001b[0m\u001b[0m\n\u001b[0;32m----> 2\u001b[0;31m \u001b[0mclassifier\u001b[0m \u001b[0;34m=\u001b[0m \u001b[0mRandomForestClassifier\u001b[0m\u001b[0;34m(\u001b[0m\u001b[0mn_estimators\u001b[0m \u001b[0;34m=\u001b[0m \u001b[0;36m10\u001b[0m\u001b[0;34m,\u001b[0m \u001b[0mcriterion\u001b[0m \u001b[0;34m=\u001b[0m \u001b[0;34m'entropy'\u001b[0m\u001b[0;34m,\u001b[0m \u001b[0mrandom_state\u001b[0m \u001b[0;34m=\u001b[0m \u001b[0;36m0\u001b[0m\u001b[0;34m,\u001b[0m\u001b[0mprobability\u001b[0m \u001b[0;34m=\u001b[0m \u001b[0;32mTrue\u001b[0m\u001b[0;34m)\u001b[0m\u001b[0;34m\u001b[0m\u001b[0;34m\u001b[0m\u001b[0m\n\u001b[0m\u001b[1;32m      3\u001b[0m \u001b[0mclassifier\u001b[0m\u001b[0;34m.\u001b[0m\u001b[0mfit\u001b[0m\u001b[0;34m(\u001b[0m\u001b[0mX_train\u001b[0m\u001b[0;34m,\u001b[0m \u001b[0mY_train\u001b[0m\u001b[0;34m)\u001b[0m\u001b[0;34m\u001b[0m\u001b[0;34m\u001b[0m\u001b[0m\n\u001b[1;32m      4\u001b[0m \u001b[0mY_pred\u001b[0m \u001b[0;34m=\u001b[0m \u001b[0mclassifier\u001b[0m\u001b[0;34m.\u001b[0m\u001b[0mpredict_prob\u001b[0m\u001b[0;34m(\u001b[0m\u001b[0mX_valid\u001b[0m\u001b[0;34m)\u001b[0m\u001b[0;34m\u001b[0m\u001b[0;34m\u001b[0m\u001b[0m\n\u001b[1;32m      5\u001b[0m \u001b[0;34m\u001b[0m\u001b[0m\n",
      "\u001b[0;31mTypeError\u001b[0m: __init__() got an unexpected keyword argument 'probability'"
     ]
    }
   ],
   "source": [
    "from sklearn.ensemble import RandomForestClassifier\n",
    "classifier = RandomForestClassifier(n_estimators = 10, criterion = 'entropy', random_state = 0,probability = True)\n",
    "classifier.fit(X_train, Y_train)\n",
    "Y_pred = classifier.predict_prob(X_valid)\n",
    "\n",
    "from sklearn.metrics import roc_auc_score as score\n",
    "classifier.score(X_train, Y_train)\n",
    "classifier = round(classifier.score(X_train, Y_train) * 100, 2)\n",
    "classifier #100"
   ]
  },
  {
   "cell_type": "code",
   "execution_count": 133,
   "metadata": {},
   "outputs": [
    {
     "ename": "TypeError",
     "evalue": "__init__() got an unexpected keyword argument 'probability'",
     "output_type": "error",
     "traceback": [
      "\u001b[0;31m---------------------------------------------------------------------------\u001b[0m",
      "\u001b[0;31mTypeError\u001b[0m                                 Traceback (most recent call last)",
      "\u001b[0;32m<ipython-input-133-6e9b3bf5b40d>\u001b[0m in \u001b[0;36m<module>\u001b[0;34m\u001b[0m\n\u001b[1;32m      1\u001b[0m \u001b[0;32mfrom\u001b[0m \u001b[0msklearn\u001b[0m\u001b[0;34m.\u001b[0m\u001b[0mtree\u001b[0m \u001b[0;32mimport\u001b[0m \u001b[0mDecisionTreeClassifier\u001b[0m\u001b[0;34m\u001b[0m\u001b[0;34m\u001b[0m\u001b[0m\n\u001b[0;32m----> 2\u001b[0;31m \u001b[0mclassifier\u001b[0m \u001b[0;34m=\u001b[0m \u001b[0mDecisionTreeClassifier\u001b[0m\u001b[0;34m(\u001b[0m\u001b[0mcriterion\u001b[0m \u001b[0;34m=\u001b[0m \u001b[0;34m'entropy'\u001b[0m\u001b[0;34m,\u001b[0m \u001b[0mrandom_state\u001b[0m \u001b[0;34m=\u001b[0m \u001b[0;36m0\u001b[0m\u001b[0;34m,\u001b[0m\u001b[0mprobability\u001b[0m \u001b[0;34m=\u001b[0m \u001b[0;32mTrue\u001b[0m\u001b[0;34m)\u001b[0m\u001b[0;34m\u001b[0m\u001b[0;34m\u001b[0m\u001b[0m\n\u001b[0m\u001b[1;32m      3\u001b[0m \u001b[0mclassifier\u001b[0m\u001b[0;34m.\u001b[0m\u001b[0mfit\u001b[0m\u001b[0;34m(\u001b[0m\u001b[0mX_train\u001b[0m\u001b[0;34m,\u001b[0m \u001b[0mY_train\u001b[0m\u001b[0;34m)\u001b[0m\u001b[0;34m\u001b[0m\u001b[0;34m\u001b[0m\u001b[0m\n\u001b[1;32m      4\u001b[0m \u001b[0mY_pred\u001b[0m \u001b[0;34m=\u001b[0m \u001b[0mclassifier\u001b[0m\u001b[0;34m.\u001b[0m\u001b[0mpredict\u001b[0m\u001b[0;34m(\u001b[0m\u001b[0mX_valid\u001b[0m\u001b[0;34m)\u001b[0m\u001b[0;34m\u001b[0m\u001b[0;34m\u001b[0m\u001b[0m\n\u001b[1;32m      5\u001b[0m \u001b[0;34m\u001b[0m\u001b[0m\n",
      "\u001b[0;31mTypeError\u001b[0m: __init__() got an unexpected keyword argument 'probability'"
     ]
    }
   ],
   "source": [
    "from sklearn.tree import DecisionTreeClassifier\n",
    "classifier = DecisionTreeClassifier(criterion = 'entropy', random_state = 0,probability = True)\n",
    "classifier.fit(X_train, Y_train)\n",
    "Y_pred = classifier.predict(X_valid)\n",
    "\n",
    "from sklearn.metrics import roc_auc_score as score\n",
    "classifier.score(X_train, Y_train)\n",
    "classifier = round(classifier.score(X_train, Y_train) * 100, 2)\n",
    "classifier #100"
   ]
  },
  {
   "cell_type": "code",
   "execution_count": 134,
   "metadata": {},
   "outputs": [
    {
     "ename": "TypeError",
     "evalue": "__init__() got an unexpected keyword argument 'probability'",
     "output_type": "error",
     "traceback": [
      "\u001b[0;31m---------------------------------------------------------------------------\u001b[0m",
      "\u001b[0;31mTypeError\u001b[0m                                 Traceback (most recent call last)",
      "\u001b[0;32m<ipython-input-134-bed2f5c8300b>\u001b[0m in \u001b[0;36m<module>\u001b[0;34m\u001b[0m\n\u001b[1;32m      1\u001b[0m \u001b[0;32mfrom\u001b[0m \u001b[0msklearn\u001b[0m\u001b[0;34m.\u001b[0m\u001b[0mlinear_model\u001b[0m \u001b[0;32mimport\u001b[0m \u001b[0mLogisticRegression\u001b[0m\u001b[0;34m\u001b[0m\u001b[0;34m\u001b[0m\u001b[0m\n\u001b[0;32m----> 2\u001b[0;31m \u001b[0mclassifier\u001b[0m \u001b[0;34m=\u001b[0m \u001b[0mLogisticRegression\u001b[0m\u001b[0;34m(\u001b[0m\u001b[0mrandom_state\u001b[0m \u001b[0;34m=\u001b[0m \u001b[0;36m0\u001b[0m\u001b[0;34m,\u001b[0m \u001b[0mprobability\u001b[0m \u001b[0;34m=\u001b[0m \u001b[0;32mTrue\u001b[0m\u001b[0;34m)\u001b[0m\u001b[0;34m\u001b[0m\u001b[0;34m\u001b[0m\u001b[0m\n\u001b[0m\u001b[1;32m      3\u001b[0m \u001b[0mclassifier\u001b[0m\u001b[0;34m.\u001b[0m\u001b[0mfit\u001b[0m\u001b[0;34m(\u001b[0m\u001b[0mX_train\u001b[0m\u001b[0;34m,\u001b[0m \u001b[0mY_train\u001b[0m\u001b[0;34m)\u001b[0m\u001b[0;34m\u001b[0m\u001b[0;34m\u001b[0m\u001b[0m\n\u001b[1;32m      4\u001b[0m \u001b[0mY_pred\u001b[0m \u001b[0;34m=\u001b[0m \u001b[0mclassifier\u001b[0m\u001b[0;34m.\u001b[0m\u001b[0mpredict_proba\u001b[0m\u001b[0;34m(\u001b[0m\u001b[0mX_valid\u001b[0m\u001b[0;34m)\u001b[0m\u001b[0;34m\u001b[0m\u001b[0;34m\u001b[0m\u001b[0m\n\u001b[1;32m      5\u001b[0m \u001b[0;34m\u001b[0m\u001b[0m\n",
      "\u001b[0;31mTypeError\u001b[0m: __init__() got an unexpected keyword argument 'probability'"
     ]
    }
   ],
   "source": [
    "from sklearn.linear_model import LogisticRegression\n",
    "classifier = LogisticRegression(random_state = 0, probability = True)\n",
    "classifier.fit(X_train, Y_train)\n",
    "Y_pred = classifier.predict_proba(X_valid)\n",
    "\n",
    "from sklearn.metrics import roc_auc_score as score\n",
    "classifier.score(X_train, Y_train)\n",
    "classifier = round(classifier.score(X_train, Y_train) * 100, 2)\n",
    "classifier "
   ]
  },
  {
   "cell_type": "code",
   "execution_count": 557,
   "metadata": {},
   "outputs": [
    {
     "name": "stdout",
     "output_type": "stream",
     "text": [
      "[21:02:07] WARNING: /Users/travis/build/dmlc/xgboost/src/learner.cc:516: \n",
      "Parameters: { probability } might not be used.\n",
      "\n",
      "  This may not be accurate due to some parameters are only used in language bindings but\n",
      "  passed down to XGBoost core.  Or some parameters are not used but slip through this\n",
      "  verification. Please open an issue if you find above cases.\n",
      "\n",
      "\n"
     ]
    },
    {
     "data": {
      "text/plain": [
       "95.88"
      ]
     },
     "execution_count": 557,
     "metadata": {},
     "output_type": "execute_result"
    }
   ],
   "source": [
    "from xgboost import XGBClassifier\n",
    "classifier = XGBClassifier(probability = True)\n",
    "classifier.fit(X_train, Y_train)\n",
    "Y_pred = classifier.predict_proba(X_valid)\n",
    "\n",
    "from sklearn.metrics import roc_auc_score as score\n",
    "classifier.score(X_train, Y_train)\n",
    "classifier = round(classifier.score(X_train, Y_train) * 100, 2)\n",
    "classifier "
   ]
  },
  {
   "cell_type": "code",
   "execution_count": 558,
   "metadata": {},
   "outputs": [
    {
     "data": {
      "text/html": [
       "<div>\n",
       "<style scoped>\n",
       "    .dataframe tbody tr th:only-of-type {\n",
       "        vertical-align: middle;\n",
       "    }\n",
       "\n",
       "    .dataframe tbody tr th {\n",
       "        vertical-align: top;\n",
       "    }\n",
       "\n",
       "    .dataframe thead th {\n",
       "        text-align: right;\n",
       "    }\n",
       "</style>\n",
       "<table border=\"1\" class=\"dataframe\">\n",
       "  <thead>\n",
       "    <tr style=\"text-align: right;\">\n",
       "      <th></th>\n",
       "      <th>from</th>\n",
       "      <th>in</th>\n",
       "      <th>sim1</th>\n",
       "      <th>sim2</th>\n",
       "      <th>sim3</th>\n",
       "      <th>sim4</th>\n",
       "      <th>ath</th>\n",
       "      <th>hub</th>\n",
       "      <th>label</th>\n",
       "    </tr>\n",
       "  </thead>\n",
       "  <tbody>\n",
       "    <tr>\n",
       "      <td>0</td>\n",
       "      <td>2893327</td>\n",
       "      <td>4331696</td>\n",
       "      <td>0.074627</td>\n",
       "      <td>0.00000</td>\n",
       "      <td>0.000000</td>\n",
       "      <td>0.004403</td>\n",
       "      <td>44</td>\n",
       "      <td>2237</td>\n",
       "      <td>1</td>\n",
       "    </tr>\n",
       "    <tr>\n",
       "      <td>1</td>\n",
       "      <td>455376</td>\n",
       "      <td>4697286</td>\n",
       "      <td>0.000000</td>\n",
       "      <td>0.00000</td>\n",
       "      <td>0.000000</td>\n",
       "      <td>0.000000</td>\n",
       "      <td>3</td>\n",
       "      <td>190</td>\n",
       "      <td>1</td>\n",
       "    </tr>\n",
       "    <tr>\n",
       "      <td>2</td>\n",
       "      <td>544230</td>\n",
       "      <td>521586</td>\n",
       "      <td>0.322470</td>\n",
       "      <td>0.10794</td>\n",
       "      <td>0.030209</td>\n",
       "      <td>0.009697</td>\n",
       "      <td>781</td>\n",
       "      <td>60755</td>\n",
       "      <td>1</td>\n",
       "    </tr>\n",
       "    <tr>\n",
       "      <td>3</td>\n",
       "      <td>4238001</td>\n",
       "      <td>1870577</td>\n",
       "      <td>0.055741</td>\n",
       "      <td>0.00000</td>\n",
       "      <td>0.000000</td>\n",
       "      <td>0.000817</td>\n",
       "      <td>78</td>\n",
       "      <td>61151</td>\n",
       "      <td>1</td>\n",
       "    </tr>\n",
       "    <tr>\n",
       "      <td>4</td>\n",
       "      <td>1249227</td>\n",
       "      <td>1024872</td>\n",
       "      <td>0.045322</td>\n",
       "      <td>0.00000</td>\n",
       "      <td>0.000000</td>\n",
       "      <td>0.004142</td>\n",
       "      <td>94</td>\n",
       "      <td>7421</td>\n",
       "      <td>1</td>\n",
       "    </tr>\n",
       "    <tr>\n",
       "      <td>...</td>\n",
       "      <td>...</td>\n",
       "      <td>...</td>\n",
       "      <td>...</td>\n",
       "      <td>...</td>\n",
       "      <td>...</td>\n",
       "      <td>...</td>\n",
       "      <td>...</td>\n",
       "      <td>...</td>\n",
       "      <td>...</td>\n",
       "    </tr>\n",
       "    <tr>\n",
       "      <td>2995</td>\n",
       "      <td>3761828</td>\n",
       "      <td>3927071</td>\n",
       "      <td>0.000000</td>\n",
       "      <td>0.00000</td>\n",
       "      <td>0.000000</td>\n",
       "      <td>0.000000</td>\n",
       "      <td>1</td>\n",
       "      <td>4</td>\n",
       "      <td>0</td>\n",
       "    </tr>\n",
       "    <tr>\n",
       "      <td>2996</td>\n",
       "      <td>379350</td>\n",
       "      <td>2581788</td>\n",
       "      <td>0.000000</td>\n",
       "      <td>0.00000</td>\n",
       "      <td>0.000000</td>\n",
       "      <td>0.000000</td>\n",
       "      <td>2</td>\n",
       "      <td>57</td>\n",
       "      <td>0</td>\n",
       "    </tr>\n",
       "    <tr>\n",
       "      <td>2997</td>\n",
       "      <td>2855029</td>\n",
       "      <td>1875087</td>\n",
       "      <td>0.000000</td>\n",
       "      <td>0.00000</td>\n",
       "      <td>0.000000</td>\n",
       "      <td>0.000000</td>\n",
       "      <td>3</td>\n",
       "      <td>122</td>\n",
       "      <td>0</td>\n",
       "    </tr>\n",
       "    <tr>\n",
       "      <td>2998</td>\n",
       "      <td>1842133</td>\n",
       "      <td>2245436</td>\n",
       "      <td>0.000000</td>\n",
       "      <td>0.00000</td>\n",
       "      <td>0.000000</td>\n",
       "      <td>0.000000</td>\n",
       "      <td>1</td>\n",
       "      <td>10</td>\n",
       "      <td>0</td>\n",
       "    </tr>\n",
       "    <tr>\n",
       "      <td>2999</td>\n",
       "      <td>3369468</td>\n",
       "      <td>2750838</td>\n",
       "      <td>0.010101</td>\n",
       "      <td>0.00000</td>\n",
       "      <td>0.000000</td>\n",
       "      <td>0.002674</td>\n",
       "      <td>65</td>\n",
       "      <td>310</td>\n",
       "      <td>0</td>\n",
       "    </tr>\n",
       "  </tbody>\n",
       "</table>\n",
       "<p>3000 rows × 9 columns</p>\n",
       "</div>"
      ],
      "text/plain": [
       "         from       in      sim1     sim2      sim3      sim4  ath    hub  \\\n",
       "0     2893327  4331696  0.074627  0.00000  0.000000  0.004403   44   2237   \n",
       "1      455376  4697286  0.000000  0.00000  0.000000  0.000000    3    190   \n",
       "2      544230   521586  0.322470  0.10794  0.030209  0.009697  781  60755   \n",
       "3     4238001  1870577  0.055741  0.00000  0.000000  0.000817   78  61151   \n",
       "4     1249227  1024872  0.045322  0.00000  0.000000  0.004142   94   7421   \n",
       "...       ...      ...       ...      ...       ...       ...  ...    ...   \n",
       "2995  3761828  3927071  0.000000  0.00000  0.000000  0.000000    1      4   \n",
       "2996   379350  2581788  0.000000  0.00000  0.000000  0.000000    2     57   \n",
       "2997  2855029  1875087  0.000000  0.00000  0.000000  0.000000    3    122   \n",
       "2998  1842133  2245436  0.000000  0.00000  0.000000  0.000000    1     10   \n",
       "2999  3369468  2750838  0.010101  0.00000  0.000000  0.002674   65    310   \n",
       "\n",
       "      label  \n",
       "0         1  \n",
       "1         1  \n",
       "2         1  \n",
       "3         1  \n",
       "4         1  \n",
       "...     ...  \n",
       "2995      0  \n",
       "2996      0  \n",
       "2997      0  \n",
       "2998      0  \n",
       "2999      0  \n",
       "\n",
       "[3000 rows x 9 columns]"
      ]
     },
     "execution_count": 558,
     "metadata": {},
     "output_type": "execute_result"
    }
   ],
   "source": [
    "train_new = pd.DataFrame({'from':Train['from'] ,'in':Train['in'] ,'sim1':sim1_train,'sim2':sim2_train,'sim3':sim3_train,'sim4':sim4_train,'ath':Ath_train, 'hub':Hub_train, 'label':Train['label']})\n",
    "train_new"
   ]
  },
  {
   "cell_type": "code",
   "execution_count": 559,
   "metadata": {},
   "outputs": [
    {
     "data": {
      "text/plain": [
       "3000"
      ]
     },
     "execution_count": 559,
     "metadata": {},
     "output_type": "execute_result"
    }
   ],
   "source": [
    "X = train_new.drop(\"label\", axis=1)\n",
    "Y = train_new[\"label\"]\n",
    "\n",
    "features = [\"sim1\",\"sim2\",\"sim3\",\"sim4\"]\n",
    "\n",
    "sc1 = StandardScaler()\n",
    "\n",
    "X = sc1.fit_transform(X[features]) \n",
    "X_test = sc1.fit_transform(test_df[features]) \n",
    "len(X)"
   ]
  },
  {
   "cell_type": "code",
   "execution_count": 560,
   "metadata": {},
   "outputs": [
    {
     "name": "stdout",
     "output_type": "stream",
     "text": [
      "[21:02:24] WARNING: /Users/travis/build/dmlc/xgboost/src/learner.cc:516: \n",
      "Parameters: { probability } might not be used.\n",
      "\n",
      "  This may not be accurate due to some parameters are only used in language bindings but\n",
      "  passed down to XGBoost core.  Or some parameters are not used but slip through this\n",
      "  verification. Please open an issue if you find above cases.\n",
      "\n",
      "\n",
      "[21:02:24] WARNING: /Users/travis/build/dmlc/xgboost/src/learner.cc:516: \n",
      "Parameters: { probability } might not be used.\n",
      "\n",
      "  This may not be accurate due to some parameters are only used in language bindings but\n",
      "  passed down to XGBoost core.  Or some parameters are not used but slip through this\n",
      "  verification. Please open an issue if you find above cases.\n",
      "\n",
      "\n"
     ]
    }
   ],
   "source": [
    "from xgboost import XGBClassifier\n",
    "classifier = XGBClassifier(probability = True)\n",
    "classifier.fit(X_train, Y_train)\n",
    "classifier.fit(X, Y)\n",
    "Y_pred = classifier.predict_proba(X_test)"
   ]
  },
  {
   "cell_type": "code",
   "execution_count": 561,
   "metadata": {},
   "outputs": [
    {
     "data": {
      "image/png": "[encoded data removed]",
      "text/plain": [
       "<Figure size 432x288 with 1 Axes>"
      ]
     },
     "metadata": {
      "needs_background": "light"
     },
     "output_type": "display_data"
    }
   ],
   "source": [
    "plt.hist(Y_pred)\n",
    "plt.show()"
   ]
  },
  {
   "cell_type": "code",
   "execution_count": 562,
   "metadata": {},
   "outputs": [
    {
     "data": {
      "text/plain": [
       "array([[0.61285967, 0.38714033],\n",
       "       [0.61285967, 0.38714033],\n",
       "       [0.01336485, 0.98663515],\n",
       "       ...,\n",
       "       [0.61285967, 0.38714033],\n",
       "       [0.61285967, 0.38714033],\n",
       "       [0.61285967, 0.38714033]], dtype=float32)"
      ]
     },
     "execution_count": 562,
     "metadata": {},
     "output_type": "execute_result"
    }
   ],
   "source": [
    "Y_pred"
   ]
  },
  {
   "cell_type": "code",
   "execution_count": 563,
   "metadata": {},
   "outputs": [],
   "source": [
    "pred = []\n",
    "\n",
    "for a in Y_pred:\n",
    "    pred.append(a[1])"
   ]
  },
  {
   "cell_type": "code",
   "execution_count": 564,
   "metadata": {},
   "outputs": [
    {
     "data": {
      "image/png": "[encoded data removed]",
      "text/plain": [
       "<Figure size 432x288 with 1 Axes>"
      ]
     },
     "metadata": {
      "needs_background": "light"
     },
     "output_type": "display_data"
    }
   ],
   "source": [
    "plt.hist(pred)\n",
    "plt.show()"
   ]
  },
  {
   "cell_type": "code",
   "execution_count": 581,
   "metadata": {},
   "outputs": [],
   "source": [
    "ar = np.array(pred)\n",
    "#ar[ar>0.5] = 0.5\n",
    "ar[ar<0.7] = ar[ar<0.7]/5\n",
    "#956个，基本确定是1\n",
    "#len(ar[ar<0.9]) #773,这就是整体的bias造成的，整体偏大"
   ]
  },
  {
   "cell_type": "code",
   "execution_count": 582,
   "metadata": {},
   "outputs": [
    {
     "data": {
      "image/png": "[encoded data removed]",
      "text/plain": [
       "<Figure size 432x288 with 1 Axes>"
      ]
     },
     "metadata": {
      "needs_background": "light"
     },
     "output_type": "display_data"
    }
   ],
   "source": [
    "plt.hist(ar)\n",
    "plt.show()"
   ]
  },
  {
   "cell_type": "code",
   "execution_count": 583,
   "metadata": {},
   "outputs": [],
   "source": [
    "ID = list(Test[\"Id\"])"
   ]
  },
  {
   "cell_type": "code",
   "execution_count": 585,
   "metadata": {},
   "outputs": [],
   "source": [
    "submission = pd.DataFrame({\"Id\": ID,\"Predicted\": ar})"
   ]
  },
  {
   "cell_type": "code",
   "execution_count": 586,
   "metadata": {},
   "outputs": [
    {
     "data": {
      "text/html": [
       "<div>\n",
       "<style scoped>\n",
       "    .dataframe tbody tr th:only-of-type {\n",
       "        vertical-align: middle;\n",
       "    }\n",
       "\n",
       "    .dataframe tbody tr th {\n",
       "        vertical-align: top;\n",
       "    }\n",
       "\n",
       "    .dataframe thead th {\n",
       "        text-align: right;\n",
       "    }\n",
       "</style>\n",
       "<table border=\"1\" class=\"dataframe\">\n",
       "  <thead>\n",
       "    <tr style=\"text-align: right;\">\n",
       "      <th></th>\n",
       "      <th>Id</th>\n",
       "      <th>Predicted</th>\n",
       "    </tr>\n",
       "  </thead>\n",
       "  <tbody>\n",
       "    <tr>\n",
       "      <td>0</td>\n",
       "      <td>1</td>\n",
       "      <td>0.077428</td>\n",
       "    </tr>\n",
       "    <tr>\n",
       "      <td>1</td>\n",
       "      <td>2</td>\n",
       "      <td>0.077428</td>\n",
       "    </tr>\n",
       "    <tr>\n",
       "      <td>2</td>\n",
       "      <td>3</td>\n",
       "      <td>0.986635</td>\n",
       "    </tr>\n",
       "    <tr>\n",
       "      <td>3</td>\n",
       "      <td>4</td>\n",
       "      <td>0.998397</td>\n",
       "    </tr>\n",
       "    <tr>\n",
       "      <td>4</td>\n",
       "      <td>5</td>\n",
       "      <td>0.077428</td>\n",
       "    </tr>\n",
       "    <tr>\n",
       "      <td>...</td>\n",
       "      <td>...</td>\n",
       "      <td>...</td>\n",
       "    </tr>\n",
       "    <tr>\n",
       "      <td>95</td>\n",
       "      <td>96</td>\n",
       "      <td>0.077428</td>\n",
       "    </tr>\n",
       "    <tr>\n",
       "      <td>96</td>\n",
       "      <td>97</td>\n",
       "      <td>0.997022</td>\n",
       "    </tr>\n",
       "    <tr>\n",
       "      <td>97</td>\n",
       "      <td>98</td>\n",
       "      <td>0.851745</td>\n",
       "    </tr>\n",
       "    <tr>\n",
       "      <td>98</td>\n",
       "      <td>99</td>\n",
       "      <td>0.077428</td>\n",
       "    </tr>\n",
       "    <tr>\n",
       "      <td>99</td>\n",
       "      <td>100</td>\n",
       "      <td>0.996185</td>\n",
       "    </tr>\n",
       "  </tbody>\n",
       "</table>\n",
       "<p>100 rows × 2 columns</p>\n",
       "</div>"
      ],
      "text/plain": [
       "     Id  Predicted\n",
       "0     1   0.077428\n",
       "1     2   0.077428\n",
       "2     3   0.986635\n",
       "3     4   0.998397\n",
       "4     5   0.077428\n",
       "..  ...        ...\n",
       "95   96   0.077428\n",
       "96   97   0.997022\n",
       "97   98   0.851745\n",
       "98   99   0.077428\n",
       "99  100   0.996185\n",
       "\n",
       "[100 rows x 2 columns]"
      ]
     },
     "execution_count": 586,
     "metadata": {},
     "output_type": "execute_result"
    }
   ],
   "source": [
    "submission.head(100)"
   ]
  },
  {
   "cell_type": "code",
   "execution_count": 587,
   "metadata": {},
   "outputs": [],
   "source": [
    "submission.to_csv('/Users/mac/Desktop/Project1/sbm4.csv', index = False, header = True)"
   ]
  },
  {
   "cell_type": "code",
   "execution_count": null,
   "metadata": {},
   "outputs": [],
   "source": []
  }
 ],
 "metadata": {
  "kernelspec": {
   "display_name": "Python 3",
   "language": "python",
   "name": "python3"
  },
  "language_info": {
   "codemirror_mode": {
    "name": "ipython",
    "version": 3
   },
   "file_extension": ".py",
   "mimetype": "text/x-python",
   "name": "python",
   "nbconvert_exporter": "python",
   "pygments_lexer": "ipython3",
   "version": "3.7.4"
  }
 },
 "nbformat": 4,
 "nbformat_minor": 2
}
