{
 "cells": [
  {
   "cell_type": "code",
   "execution_count": 1,
   "metadata": {},
   "outputs": [],
   "source": [
    "import numpy as np\n",
    "import pandas as pd\n",
    "import random\n",
    "import networkx as nx\n",
    "from sklearn.preprocessing import StandardScaler\n",
    "from sklearn.preprocessing import MinMaxScaler\n",
    "from matplotlib import pyplot as plt\n",
    "from sklearn.model_selection import train_test_split"
   ]
  },
  {
   "cell_type": "code",
   "execution_count": 2,
   "metadata": {},
   "outputs": [],
   "source": [
    "Data = pd.read_csv('/Users/mac/Desktop/Project1/df.csv')\n",
    "Test = pd.read_csv('/Users/mac/Desktop/Project1/test.csv')"
   ]
  },
  {
   "cell_type": "code",
   "execution_count": 3,
   "metadata": {},
   "outputs": [
    {
     "name": "stdout",
     "output_type": "stream",
     "text": [
      "           node_1   node_2\n",
      "0          540762  1912140\n",
      "1          540762  1537559\n",
      "2          540762  3091331\n",
      "3          540762  2757277\n",
      "4          540762  3237295\n",
      "...           ...      ...\n",
      "24004356  3547024  1075576\n",
      "24004357  3547024  4549841\n",
      "24004358  3547024  1135647\n",
      "24004359  3547024   807274\n",
      "24004360  3547024  3897045\n",
      "\n",
      "[24004361 rows x 2 columns]\n"
     ]
    }
   ],
   "source": [
    "print(Data)\n",
    "#24004361 rows x 2 columns"
   ]
  },
  {
   "cell_type": "code",
   "execution_count": 4,
   "metadata": {},
   "outputs": [
    {
     "data": {
      "text/plain": [
       "array([[3563811, 3600160],\n",
       "       [2052043, 1401960],\n",
       "       [4517994, 1690636],\n",
       "       ...,\n",
       "       [4242514, 1413468],\n",
       "       [ 555531, 1290080],\n",
       "       [1707829, 2373045]])"
      ]
     },
     "execution_count": 4,
     "metadata": {},
     "output_type": "execute_result"
    }
   ],
   "source": [
    "#source = list(Test.source)\n",
    "#source\n",
    "#sink = list(Test.sink)\n",
    "#node_test = (source,sink)\n",
    "#node_test = np.array((source,sink)))\n",
    "node_test = np.array(Test[['source','sink']])\n",
    "node_test\n",
    "\n",
    "#node_train = np.array(Data[['node_1','node_2']])\n",
    "#node_train"
   ]
  },
  {
   "cell_type": "code",
   "execution_count": 5,
   "metadata": {},
   "outputs": [
    {
     "data": {
      "text/html": [
       "<div>\n",
       "<style scoped>\n",
       "    .dataframe tbody tr th:only-of-type {\n",
       "        vertical-align: middle;\n",
       "    }\n",
       "\n",
       "    .dataframe tbody tr th {\n",
       "        vertical-align: top;\n",
       "    }\n",
       "\n",
       "    .dataframe thead th {\n",
       "        text-align: right;\n",
       "    }\n",
       "</style>\n",
       "<table border=\"1\" class=\"dataframe\">\n",
       "  <thead>\n",
       "    <tr style=\"text-align: right;\">\n",
       "      <th></th>\n",
       "      <th>Id</th>\n",
       "      <th>source</th>\n",
       "      <th>sink</th>\n",
       "    </tr>\n",
       "  </thead>\n",
       "  <tbody>\n",
       "    <tr>\n",
       "      <td>0</td>\n",
       "      <td>1</td>\n",
       "      <td>3563811</td>\n",
       "      <td>3600160</td>\n",
       "    </tr>\n",
       "    <tr>\n",
       "      <td>1</td>\n",
       "      <td>2</td>\n",
       "      <td>2052043</td>\n",
       "      <td>1401960</td>\n",
       "    </tr>\n",
       "    <tr>\n",
       "      <td>2</td>\n",
       "      <td>3</td>\n",
       "      <td>4517994</td>\n",
       "      <td>1690636</td>\n",
       "    </tr>\n",
       "    <tr>\n",
       "      <td>3</td>\n",
       "      <td>4</td>\n",
       "      <td>1660006</td>\n",
       "      <td>4349447</td>\n",
       "    </tr>\n",
       "    <tr>\n",
       "      <td>4</td>\n",
       "      <td>5</td>\n",
       "      <td>581111</td>\n",
       "      <td>1882617</td>\n",
       "    </tr>\n",
       "  </tbody>\n",
       "</table>\n",
       "</div>"
      ],
      "text/plain": [
       "   Id   source     sink\n",
       "0   1  3563811  3600160\n",
       "1   2  2052043  1401960\n",
       "2   3  4517994  1690636\n",
       "3   4  1660006  4349447\n",
       "4   5   581111  1882617"
      ]
     },
     "execution_count": 5,
     "metadata": {},
     "output_type": "execute_result"
    }
   ],
   "source": [
    "#Data.head()\n",
    "Test.head()"
   ]
  },
  {
   "cell_type": "code",
   "execution_count": 6,
   "metadata": {},
   "outputs": [],
   "source": [
    "DG = nx.from_pandas_edgelist(Data, \"node_1\", \"node_2\", create_using=nx.DiGraph())"
   ]
  },
  {
   "cell_type": "code",
   "execution_count": 7,
   "metadata": {},
   "outputs": [],
   "source": [
    "TG = nx.from_pandas_edgelist(Test, \"source\", \"sink\", create_using=nx.DiGraph())"
   ]
  },
  {
   "cell_type": "code",
   "execution_count": 8,
   "metadata": {},
   "outputs": [],
   "source": [
    "node_from = set(Data.node_1)\n",
    "len(node_from) #19570\n",
    "\n",
    "node_from_list = list(node_from)"
   ]
  },
  {
   "cell_type": "code",
   "execution_count": 9,
   "metadata": {},
   "outputs": [
    {
     "data": {
      "text/plain": [
       "97850"
      ]
     },
     "execution_count": 9,
     "metadata": {},
     "output_type": "execute_result"
    }
   ],
   "source": [
    "(4867135/5)*4\n",
    "#973427\n",
    "#1946854\n",
    "#2920281\n",
    "#3893708\n",
    "#4867136\n",
    "19570*5"
   ]
  },
  {
   "cell_type": "code",
   "execution_count": 10,
   "metadata": {},
   "outputs": [],
   "source": [
    "#random nodes\n",
    "random.seed(0)\n",
    "num_1 = random.sample(range(0,973427),19570)\n",
    "num_2 = random.sample(range(973427,1946854),19570)\n",
    "num_3 = random.sample(range(1946854,2920281),19570)\n",
    "num_4 = random.sample(range(2920281,3893708),19570)\n",
    "num_5 = random.sample(range(3893708,4867136),19570)"
   ]
  },
  {
   "cell_type": "code",
   "execution_count": 11,
   "metadata": {},
   "outputs": [],
   "source": [
    "df1 = pd.DataFrame({'from':node_from_list, \"in\":num_1})\n",
    "df2 = pd.DataFrame({'from':node_from_list, \"in\":num_2})\n",
    "df3 = pd.DataFrame({'from':node_from_list, \"in\":num_3})\n",
    "df4 = pd.DataFrame({'from':node_from_list, \"in\":num_4})\n",
    "df5 = pd.DataFrame({'from':node_from_list, \"in\":num_5})\n",
    "\n",
    "df = df1.append(df2).append(df3).append(df4).append(df5)"
   ]
  },
  {
   "cell_type": "code",
   "execution_count": 12,
   "metadata": {},
   "outputs": [
    {
     "data": {
      "text/html": [
       "<div>\n",
       "<style scoped>\n",
       "    .dataframe tbody tr th:only-of-type {\n",
       "        vertical-align: middle;\n",
       "    }\n",
       "\n",
       "    .dataframe tbody tr th {\n",
       "        vertical-align: top;\n",
       "    }\n",
       "\n",
       "    .dataframe thead th {\n",
       "        text-align: right;\n",
       "    }\n",
       "</style>\n",
       "<table border=\"1\" class=\"dataframe\">\n",
       "  <thead>\n",
       "    <tr style=\"text-align: right;\">\n",
       "      <th></th>\n",
       "      <th>from</th>\n",
       "      <th>in</th>\n",
       "    </tr>\n",
       "  </thead>\n",
       "  <tbody>\n",
       "    <tr>\n",
       "      <td>0</td>\n",
       "      <td>1212419</td>\n",
       "      <td>885440</td>\n",
       "    </tr>\n",
       "    <tr>\n",
       "      <td>1</td>\n",
       "      <td>2293763</td>\n",
       "      <td>403958</td>\n",
       "    </tr>\n",
       "    <tr>\n",
       "      <td>2</td>\n",
       "      <td>720901</td>\n",
       "      <td>794772</td>\n",
       "    </tr>\n",
       "    <tr>\n",
       "      <td>3</td>\n",
       "      <td>4784135</td>\n",
       "      <td>933488</td>\n",
       "    </tr>\n",
       "    <tr>\n",
       "      <td>4</td>\n",
       "      <td>2686984</td>\n",
       "      <td>441001</td>\n",
       "    </tr>\n",
       "    <tr>\n",
       "      <td>...</td>\n",
       "      <td>...</td>\n",
       "      <td>...</td>\n",
       "    </tr>\n",
       "    <tr>\n",
       "      <td>19565</td>\n",
       "      <td>2228215</td>\n",
       "      <td>3944515</td>\n",
       "    </tr>\n",
       "    <tr>\n",
       "      <td>19566</td>\n",
       "      <td>2064376</td>\n",
       "      <td>4609721</td>\n",
       "    </tr>\n",
       "    <tr>\n",
       "      <td>19567</td>\n",
       "      <td>1343481</td>\n",
       "      <td>4411437</td>\n",
       "    </tr>\n",
       "    <tr>\n",
       "      <td>19568</td>\n",
       "      <td>1998843</td>\n",
       "      <td>4723890</td>\n",
       "    </tr>\n",
       "    <tr>\n",
       "      <td>19569</td>\n",
       "      <td>1900542</td>\n",
       "      <td>4768404</td>\n",
       "    </tr>\n",
       "  </tbody>\n",
       "</table>\n",
       "<p>97850 rows × 2 columns</p>\n",
       "</div>"
      ],
      "text/plain": [
       "          from       in\n",
       "0      1212419   885440\n",
       "1      2293763   403958\n",
       "2       720901   794772\n",
       "3      4784135   933488\n",
       "4      2686984   441001\n",
       "...        ...      ...\n",
       "19565  2228215  3944515\n",
       "19566  2064376  4609721\n",
       "19567  1343481  4411437\n",
       "19568  1998843  4723890\n",
       "19569  1900542  4768404\n",
       "\n",
       "[97850 rows x 2 columns]"
      ]
     },
     "execution_count": 12,
     "metadata": {},
     "output_type": "execute_result"
    }
   ],
   "source": [
    "df #97850 rows × 2 columns"
   ]
  },
  {
   "cell_type": "code",
   "execution_count": 13,
   "metadata": {},
   "outputs": [
    {
     "data": {
      "text/plain": [
       "array([[1212419,  885440],\n",
       "       [2293763,  403958],\n",
       "       [ 720901,  794772],\n",
       "       ...,\n",
       "       [1343481, 4411437],\n",
       "       [1998843, 4723890],\n",
       "       [1900542, 4768404]])"
      ]
     },
     "execution_count": 13,
     "metadata": {},
     "output_type": "execute_result"
    }
   ],
   "source": [
    "node_df = np.array(df[['from','in']])\n",
    "node_df"
   ]
  },
  {
   "cell_type": "code",
   "execution_count": 14,
   "metadata": {},
   "outputs": [],
   "source": [
    "label = []\n",
    "\n",
    "for node in node_df:\n",
    "    a = node[0]\n",
    "    b = node[1]\n",
    "    \n",
    "    if DG.has_edge(a,b):\n",
    "        label.append(1)\n",
    "    elif TG.has_edge(a,b):\n",
    "        label.append(-1)\n",
    "    else:\n",
    "        label.append(0)"
   ]
  },
  {
   "cell_type": "code",
   "execution_count": 15,
   "metadata": {},
   "outputs": [
    {
     "data": {
      "text/plain": [
       "{0, 1}"
      ]
     },
     "execution_count": 15,
     "metadata": {},
     "output_type": "execute_result"
    }
   ],
   "source": [
    "set(label) #0,1,没有test里面的点"
   ]
  },
  {
   "cell_type": "code",
   "execution_count": 16,
   "metadata": {},
   "outputs": [
    {
     "data": {
      "text/html": [
       "<div>\n",
       "<style scoped>\n",
       "    .dataframe tbody tr th:only-of-type {\n",
       "        vertical-align: middle;\n",
       "    }\n",
       "\n",
       "    .dataframe tbody tr th {\n",
       "        vertical-align: top;\n",
       "    }\n",
       "\n",
       "    .dataframe thead th {\n",
       "        text-align: right;\n",
       "    }\n",
       "</style>\n",
       "<table border=\"1\" class=\"dataframe\">\n",
       "  <thead>\n",
       "    <tr style=\"text-align: right;\">\n",
       "      <th></th>\n",
       "      <th>from</th>\n",
       "      <th>in</th>\n",
       "      <th>label</th>\n",
       "    </tr>\n",
       "  </thead>\n",
       "  <tbody>\n",
       "    <tr>\n",
       "      <td>0</td>\n",
       "      <td>1212419</td>\n",
       "      <td>885440</td>\n",
       "      <td>0</td>\n",
       "    </tr>\n",
       "    <tr>\n",
       "      <td>1</td>\n",
       "      <td>2293763</td>\n",
       "      <td>403958</td>\n",
       "      <td>0</td>\n",
       "    </tr>\n",
       "    <tr>\n",
       "      <td>2</td>\n",
       "      <td>720901</td>\n",
       "      <td>794772</td>\n",
       "      <td>0</td>\n",
       "    </tr>\n",
       "    <tr>\n",
       "      <td>3</td>\n",
       "      <td>4784135</td>\n",
       "      <td>933488</td>\n",
       "      <td>0</td>\n",
       "    </tr>\n",
       "    <tr>\n",
       "      <td>4</td>\n",
       "      <td>2686984</td>\n",
       "      <td>441001</td>\n",
       "      <td>0</td>\n",
       "    </tr>\n",
       "    <tr>\n",
       "      <td>...</td>\n",
       "      <td>...</td>\n",
       "      <td>...</td>\n",
       "      <td>...</td>\n",
       "    </tr>\n",
       "    <tr>\n",
       "      <td>19565</td>\n",
       "      <td>2228215</td>\n",
       "      <td>3944515</td>\n",
       "      <td>0</td>\n",
       "    </tr>\n",
       "    <tr>\n",
       "      <td>19566</td>\n",
       "      <td>2064376</td>\n",
       "      <td>4609721</td>\n",
       "      <td>0</td>\n",
       "    </tr>\n",
       "    <tr>\n",
       "      <td>19567</td>\n",
       "      <td>1343481</td>\n",
       "      <td>4411437</td>\n",
       "      <td>0</td>\n",
       "    </tr>\n",
       "    <tr>\n",
       "      <td>19568</td>\n",
       "      <td>1998843</td>\n",
       "      <td>4723890</td>\n",
       "      <td>0</td>\n",
       "    </tr>\n",
       "    <tr>\n",
       "      <td>19569</td>\n",
       "      <td>1900542</td>\n",
       "      <td>4768404</td>\n",
       "      <td>0</td>\n",
       "    </tr>\n",
       "  </tbody>\n",
       "</table>\n",
       "<p>97775 rows × 3 columns</p>\n",
       "</div>"
      ],
      "text/plain": [
       "          from       in  label\n",
       "0      1212419   885440      0\n",
       "1      2293763   403958      0\n",
       "2       720901   794772      0\n",
       "3      4784135   933488      0\n",
       "4      2686984   441001      0\n",
       "...        ...      ...    ...\n",
       "19565  2228215  3944515      0\n",
       "19566  2064376  4609721      0\n",
       "19567  1343481  4411437      0\n",
       "19568  1998843  4723890      0\n",
       "19569  1900542  4768404      0\n",
       "\n",
       "[97775 rows x 3 columns]"
      ]
     },
     "execution_count": 16,
     "metadata": {},
     "output_type": "execute_result"
    }
   ],
   "source": [
    "df['label'] = label\n",
    "df.loc[df.label == 1]\n",
    "df = df.drop(index=(df.loc[df.label == 1].index))\n",
    "df #97775"
   ]
  },
  {
   "cell_type": "code",
   "execution_count": 17,
   "metadata": {},
   "outputs": [
    {
     "data": {
      "text/plain": [
       "97775"
      ]
     },
     "execution_count": 17,
     "metadata": {},
     "output_type": "execute_result"
    }
   ],
   "source": [
    "node_df0 = np.array(df[['from','in']])\n",
    "len(node_df0)"
   ]
  },
  {
   "cell_type": "code",
   "execution_count": 18,
   "metadata": {},
   "outputs": [],
   "source": [
    "#Tversky Index, unbalanced and adjustable\n",
    "\n",
    "def TverskyInd (node_a, node_b, w):\n",
    "    a_out_set = set(DG.successors(node_a))\n",
    "    b_out_set = set(DG.successors(node_b))\n",
    "    \n",
    "    if len(a_out_set | b_out_set):\n",
    "        common = len(a_out_set & b_out_set)\n",
    "        sub_1 = len(a_out_set - b_out_set)\n",
    "        sub_2 = len(b_out_set - a_out_set)\n",
    "        index = common / (common + w*sub_1 + (1-w)*sub_2)\n",
    "        return index\n",
    "    else:\n",
    "        return -1\n"
   ]
  },
  {
   "cell_type": "code",
   "execution_count": 19,
   "metadata": {},
   "outputs": [],
   "source": [
    "w = 0.75 #the weight\n",
    "Sim = []\n",
    "\n",
    "for node in node_df0:\n",
    "    node_a = node[0]\n",
    "    node_b = node[1]\n",
    "    temp = TverskyInd (node_a, node_b, w)\n",
    "    Sim.append(temp)"
   ]
  },
  {
   "cell_type": "code",
   "execution_count": 20,
   "metadata": {},
   "outputs": [
    {
     "data": {
      "text/plain": [
       "186"
      ]
     },
     "execution_count": 20,
     "metadata": {},
     "output_type": "execute_result"
    }
   ],
   "source": [
    "len(set(Sim))"
   ]
  },
  {
   "cell_type": "code",
   "execution_count": 21,
   "metadata": {
    "scrolled": true
   },
   "outputs": [
    {
     "data": {
      "text/plain": [
       "187"
      ]
     },
     "execution_count": 21,
     "metadata": {},
     "output_type": "execute_result"
    }
   ],
   "source": [
    "Sim_np = np.array(Sim)\n",
    "len(Sim_np[Sim_np==0]) #97588\n",
    "len(Sim_np[Sim_np>0]) #187"
   ]
  },
  {
   "cell_type": "code",
   "execution_count": 22,
   "metadata": {},
   "outputs": [],
   "source": [
    "#Jaccard Index Sim\n",
    "\n",
    "def CaculateSim (node_a, node_b):\n",
    "    a_in_set = set(DG.predecessors(node_a))\n",
    "    a_out_set = set(DG.successors(node_a))\n",
    "    \n",
    "    b_in_set = set(DG.predecessors(node_b))\n",
    "    b_out_set = set(DG.successors(node_b))\n",
    "    \n",
    "    a_b_all = set(a_in_set | a_out_set | b_in_set | b_out_set)\n",
    "    s1 = len(a_in_set & b_in_set)\n",
    "    s2 = len(a_out_set & b_out_set)\n",
    "    s3 = len(a_in_set & b_out_set)\n",
    "    s4 = len(a_out_set & b_in_set)\n",
    "    a_b_same = s1+s2+s3+s4\n",
    "    \n",
    "    if len(a_b_all):\n",
    "        sim = a_b_same / (2*len(a_b_all))\n",
    "        return sim\n",
    "    else:\n",
    "        return -1"
   ]
  },
  {
   "cell_type": "code",
   "execution_count": 23,
   "metadata": {},
   "outputs": [],
   "source": [
    "Sim_ja = []\n",
    "\n",
    "for node in node_df0:\n",
    "    node_a = node[0]\n",
    "    node_b = node[1]\n",
    "    temp = CaculateSim (node_a, node_b)\n",
    "    Sim_ja.append(temp)"
   ]
  },
  {
   "cell_type": "code",
   "execution_count": 24,
   "metadata": {},
   "outputs": [
    {
     "data": {
      "text/plain": [
       "84249"
      ]
     },
     "execution_count": 24,
     "metadata": {},
     "output_type": "execute_result"
    }
   ],
   "source": [
    "ja = np.array(Sim_ja)\n",
    "len(ja[ja == 0]) #84249\n",
    "#len(ja[ja > 0]) #13526\n",
    "#len(ja[ja < 0]) #0"
   ]
  },
  {
   "cell_type": "code",
   "execution_count": 25,
   "metadata": {},
   "outputs": [],
   "source": [
    "# Ath is the authority value of node\n",
    "\n",
    "ath = []\n",
    "\n",
    "for node in node_df0:\n",
    "    node_a = node[0]\n",
    "    node_b = node[1]\n",
    "    \n",
    "    pre = set(DG.predecessors(node_b))\n",
    "    ath.append(len(pre))  "
   ]
  },
  {
   "cell_type": "code",
   "execution_count": 26,
   "metadata": {},
   "outputs": [
    {
     "data": {
      "text/plain": [
       "97775"
      ]
     },
     "execution_count": 26,
     "metadata": {},
     "output_type": "execute_result"
    }
   ],
   "source": [
    "len(ath)"
   ]
  },
  {
   "cell_type": "code",
   "execution_count": 27,
   "metadata": {},
   "outputs": [],
   "source": [
    "hub = []\n",
    "\n",
    "for node in node_df0:\n",
    "    node_a = node[0]\n",
    "    node_b = node[1]\n",
    "    \n",
    "    suc = set(DG.successors(node_a))\n",
    "    hub.append(len(suc))"
   ]
  },
  {
   "cell_type": "code",
   "execution_count": 28,
   "metadata": {},
   "outputs": [
    {
     "data": {
      "text/plain": [
       "97775"
      ]
     },
     "execution_count": 28,
     "metadata": {},
     "output_type": "execute_result"
    }
   ],
   "source": [
    "len(hub)"
   ]
  },
  {
   "cell_type": "code",
   "execution_count": 29,
   "metadata": {},
   "outputs": [
    {
     "data": {
      "text/plain": [
       "509445"
      ]
     },
     "execution_count": 29,
     "metadata": {},
     "output_type": "execute_result"
    }
   ],
   "source": [
    "max(ath)#2002\n",
    "max(hub)#509445"
   ]
  },
  {
   "cell_type": "code",
   "execution_count": 30,
   "metadata": {},
   "outputs": [],
   "source": [
    "ath_adj = np.array(ath).astype(float)/2002\n",
    "hub_adj = np.array(hub).astype(float)/10000"
   ]
  },
  {
   "cell_type": "code",
   "execution_count": 31,
   "metadata": {},
   "outputs": [
    {
     "data": {
      "text/plain": [
       "0.0001"
      ]
     },
     "execution_count": 31,
     "metadata": {},
     "output_type": "execute_result"
    }
   ],
   "source": [
    "min(ath_adj) #0.0004995004995004995\n",
    "min(hub_adj) #0.0001"
   ]
  },
  {
   "cell_type": "code",
   "execution_count": 32,
   "metadata": {},
   "outputs": [
    {
     "data": {
      "image/png": "[encoded data removed]",
      "text/plain": [
       "<Figure size 432x288 with 1 Axes>"
      ]
     },
     "metadata": {
      "needs_background": "light"
     },
     "output_type": "display_data"
    }
   ],
   "source": [
    "hub_adj[hub_adj>1] = 1\n",
    "\n",
    "plt.hist(hub_adj)\n",
    "plt.show()"
   ]
  },
  {
   "cell_type": "code",
   "execution_count": 33,
   "metadata": {},
   "outputs": [
    {
     "data": {
      "text/html": [
       "<div>\n",
       "<style scoped>\n",
       "    .dataframe tbody tr th:only-of-type {\n",
       "        vertical-align: middle;\n",
       "    }\n",
       "\n",
       "    .dataframe tbody tr th {\n",
       "        vertical-align: top;\n",
       "    }\n",
       "\n",
       "    .dataframe thead th {\n",
       "        text-align: right;\n",
       "    }\n",
       "</style>\n",
       "<table border=\"1\" class=\"dataframe\">\n",
       "  <thead>\n",
       "    <tr style=\"text-align: right;\">\n",
       "      <th></th>\n",
       "      <th>sim</th>\n",
       "      <th>ath</th>\n",
       "      <th>hub</th>\n",
       "    </tr>\n",
       "  </thead>\n",
       "  <tbody>\n",
       "    <tr>\n",
       "      <td>0</td>\n",
       "      <td>0.000704</td>\n",
       "      <td>0.000500</td>\n",
       "      <td>0.0695</td>\n",
       "    </tr>\n",
       "    <tr>\n",
       "      <td>16</td>\n",
       "      <td>0.000755</td>\n",
       "      <td>0.000500</td>\n",
       "      <td>0.1320</td>\n",
       "    </tr>\n",
       "    <tr>\n",
       "      <td>22</td>\n",
       "      <td>0.000994</td>\n",
       "      <td>0.020480</td>\n",
       "      <td>0.0067</td>\n",
       "    </tr>\n",
       "    <tr>\n",
       "      <td>24</td>\n",
       "      <td>0.000935</td>\n",
       "      <td>0.004496</td>\n",
       "      <td>0.1026</td>\n",
       "    </tr>\n",
       "    <tr>\n",
       "      <td>27</td>\n",
       "      <td>0.000242</td>\n",
       "      <td>0.001998</td>\n",
       "      <td>1.0000</td>\n",
       "    </tr>\n",
       "    <tr>\n",
       "      <td>...</td>\n",
       "      <td>...</td>\n",
       "      <td>...</td>\n",
       "      <td>...</td>\n",
       "    </tr>\n",
       "    <tr>\n",
       "      <td>97731</td>\n",
       "      <td>0.000087</td>\n",
       "      <td>0.000500</td>\n",
       "      <td>1.0000</td>\n",
       "    </tr>\n",
       "    <tr>\n",
       "      <td>97735</td>\n",
       "      <td>0.021739</td>\n",
       "      <td>0.001499</td>\n",
       "      <td>0.0021</td>\n",
       "    </tr>\n",
       "    <tr>\n",
       "      <td>97738</td>\n",
       "      <td>0.006135</td>\n",
       "      <td>0.008991</td>\n",
       "      <td>0.0141</td>\n",
       "    </tr>\n",
       "    <tr>\n",
       "      <td>97761</td>\n",
       "      <td>0.003378</td>\n",
       "      <td>0.039960</td>\n",
       "      <td>0.0337</td>\n",
       "    </tr>\n",
       "    <tr>\n",
       "      <td>97773</td>\n",
       "      <td>0.000520</td>\n",
       "      <td>0.002498</td>\n",
       "      <td>0.0921</td>\n",
       "    </tr>\n",
       "  </tbody>\n",
       "</table>\n",
       "<p>13526 rows × 3 columns</p>\n",
       "</div>"
      ],
      "text/plain": [
       "            sim       ath     hub\n",
       "0      0.000704  0.000500  0.0695\n",
       "16     0.000755  0.000500  0.1320\n",
       "22     0.000994  0.020480  0.0067\n",
       "24     0.000935  0.004496  0.1026\n",
       "27     0.000242  0.001998  1.0000\n",
       "...         ...       ...     ...\n",
       "97731  0.000087  0.000500  1.0000\n",
       "97735  0.021739  0.001499  0.0021\n",
       "97738  0.006135  0.008991  0.0141\n",
       "97761  0.003378  0.039960  0.0337\n",
       "97773  0.000520  0.002498  0.0921\n",
       "\n",
       "[13526 rows x 3 columns]"
      ]
     },
     "execution_count": 33,
     "metadata": {},
     "output_type": "execute_result"
    }
   ],
   "source": [
    "comb = pd.DataFrame({'sim':ja, 'ath': ath_adj, 'hub':hub_adj})\n",
    "comb[comb['sim'] > 0]"
   ]
  },
  {
   "cell_type": "code",
   "execution_count": 34,
   "metadata": {},
   "outputs": [
    {
     "data": {
      "text/plain": [
       "97775"
      ]
     },
     "execution_count": 34,
     "metadata": {},
     "output_type": "execute_result"
    }
   ],
   "source": [
    "value = np.array(comb[['sim','ath','hub']])\n",
    "value.shape[0]"
   ]
  },
  {
   "cell_type": "code",
   "execution_count": 35,
   "metadata": {},
   "outputs": [],
   "source": [
    "prob = []\n",
    "\n",
    "for node in value:\n",
    "    sim = node[0]\n",
    "    ath = node[1]\n",
    "    hub = node[2]\n",
    "    temp = (sim + ath + hub)*100\n",
    "    \n",
    "    prob.append(temp)"
   ]
  },
  {
   "cell_type": "code",
   "execution_count": 36,
   "metadata": {},
   "outputs": [
    {
     "data": {
      "text/plain": [
       "7.238254792259355"
      ]
     },
     "execution_count": 36,
     "metadata": {},
     "output_type": "execute_result"
    }
   ],
   "source": [
    "sum(prob)/len(prob)"
   ]
  },
  {
   "cell_type": "code",
   "execution_count": 37,
   "metadata": {},
   "outputs": [
    {
     "data": {
      "image/png": "[encoded data removed]",
      "text/plain": [
       "<Figure size 432x288 with 1 Axes>"
      ]
     },
     "metadata": {
      "needs_background": "light"
     },
     "output_type": "display_data"
    }
   ],
   "source": [
    "plt.hist(prob)\n",
    "plt.show()"
   ]
  },
  {
   "cell_type": "code",
   "execution_count": 38,
   "metadata": {},
   "outputs": [
    {
     "data": {
      "text/plain": [
       "11341"
      ]
     },
     "execution_count": 38,
     "metadata": {},
     "output_type": "execute_result"
    }
   ],
   "source": [
    "prob_adj = np.array(prob)\n",
    "len(prob_adj[prob_adj<0.35]) #11341"
   ]
  },
  {
   "cell_type": "code",
   "execution_count": 39,
   "metadata": {},
   "outputs": [
    {
     "data": {
      "text/html": [
       "<div>\n",
       "<style scoped>\n",
       "    .dataframe tbody tr th:only-of-type {\n",
       "        vertical-align: middle;\n",
       "    }\n",
       "\n",
       "    .dataframe tbody tr th {\n",
       "        vertical-align: top;\n",
       "    }\n",
       "\n",
       "    .dataframe thead th {\n",
       "        text-align: right;\n",
       "    }\n",
       "</style>\n",
       "<table border=\"1\" class=\"dataframe\">\n",
       "  <thead>\n",
       "    <tr style=\"text-align: right;\">\n",
       "      <th></th>\n",
       "      <th>from</th>\n",
       "      <th>in</th>\n",
       "      <th>label</th>\n",
       "    </tr>\n",
       "  </thead>\n",
       "  <tbody>\n",
       "    <tr>\n",
       "      <td>0</td>\n",
       "      <td>1212419</td>\n",
       "      <td>885440</td>\n",
       "      <td>0</td>\n",
       "    </tr>\n",
       "    <tr>\n",
       "      <td>1</td>\n",
       "      <td>2293763</td>\n",
       "      <td>403958</td>\n",
       "      <td>0</td>\n",
       "    </tr>\n",
       "    <tr>\n",
       "      <td>2</td>\n",
       "      <td>720901</td>\n",
       "      <td>794772</td>\n",
       "      <td>0</td>\n",
       "    </tr>\n",
       "    <tr>\n",
       "      <td>3</td>\n",
       "      <td>4784135</td>\n",
       "      <td>933488</td>\n",
       "      <td>0</td>\n",
       "    </tr>\n",
       "    <tr>\n",
       "      <td>4</td>\n",
       "      <td>2686984</td>\n",
       "      <td>441001</td>\n",
       "      <td>0</td>\n",
       "    </tr>\n",
       "    <tr>\n",
       "      <td>...</td>\n",
       "      <td>...</td>\n",
       "      <td>...</td>\n",
       "      <td>...</td>\n",
       "    </tr>\n",
       "    <tr>\n",
       "      <td>19565</td>\n",
       "      <td>2228215</td>\n",
       "      <td>3944515</td>\n",
       "      <td>0</td>\n",
       "    </tr>\n",
       "    <tr>\n",
       "      <td>19566</td>\n",
       "      <td>2064376</td>\n",
       "      <td>4609721</td>\n",
       "      <td>0</td>\n",
       "    </tr>\n",
       "    <tr>\n",
       "      <td>19567</td>\n",
       "      <td>1343481</td>\n",
       "      <td>4411437</td>\n",
       "      <td>0</td>\n",
       "    </tr>\n",
       "    <tr>\n",
       "      <td>19568</td>\n",
       "      <td>1998843</td>\n",
       "      <td>4723890</td>\n",
       "      <td>0</td>\n",
       "    </tr>\n",
       "    <tr>\n",
       "      <td>19569</td>\n",
       "      <td>1900542</td>\n",
       "      <td>4768404</td>\n",
       "      <td>0</td>\n",
       "    </tr>\n",
       "  </tbody>\n",
       "</table>\n",
       "<p>97775 rows × 3 columns</p>\n",
       "</div>"
      ],
      "text/plain": [
       "          from       in  label\n",
       "0      1212419   885440      0\n",
       "1      2293763   403958      0\n",
       "2       720901   794772      0\n",
       "3      4784135   933488      0\n",
       "4      2686984   441001      0\n",
       "...        ...      ...    ...\n",
       "19565  2228215  3944515      0\n",
       "19566  2064376  4609721      0\n",
       "19567  1343481  4411437      0\n",
       "19568  1998843  4723890      0\n",
       "19569  1900542  4768404      0\n",
       "\n",
       "[97775 rows x 3 columns]"
      ]
     },
     "execution_count": 39,
     "metadata": {},
     "output_type": "execute_result"
    }
   ],
   "source": [
    "#df['pro'] = prob_adj\n",
    "df"
   ]
  },
  {
   "cell_type": "code",
   "execution_count": 40,
   "metadata": {},
   "outputs": [
    {
     "data": {
      "text/html": [
       "<div>\n",
       "<style scoped>\n",
       "    .dataframe tbody tr th:only-of-type {\n",
       "        vertical-align: middle;\n",
       "    }\n",
       "\n",
       "    .dataframe tbody tr th {\n",
       "        vertical-align: top;\n",
       "    }\n",
       "\n",
       "    .dataframe thead th {\n",
       "        text-align: right;\n",
       "    }\n",
       "</style>\n",
       "<table border=\"1\" class=\"dataframe\">\n",
       "  <thead>\n",
       "    <tr style=\"text-align: right;\">\n",
       "      <th></th>\n",
       "      <th>from</th>\n",
       "      <th>in</th>\n",
       "      <th>label</th>\n",
       "    </tr>\n",
       "  </thead>\n",
       "  <tbody>\n",
       "    <tr>\n",
       "      <td>0</td>\n",
       "      <td>1212419</td>\n",
       "      <td>885440</td>\n",
       "      <td>0</td>\n",
       "    </tr>\n",
       "    <tr>\n",
       "      <td>1</td>\n",
       "      <td>2293763</td>\n",
       "      <td>403958</td>\n",
       "      <td>0</td>\n",
       "    </tr>\n",
       "    <tr>\n",
       "      <td>2</td>\n",
       "      <td>720901</td>\n",
       "      <td>794772</td>\n",
       "      <td>0</td>\n",
       "    </tr>\n",
       "    <tr>\n",
       "      <td>3</td>\n",
       "      <td>4784135</td>\n",
       "      <td>933488</td>\n",
       "      <td>0</td>\n",
       "    </tr>\n",
       "    <tr>\n",
       "      <td>4</td>\n",
       "      <td>2686984</td>\n",
       "      <td>441001</td>\n",
       "      <td>0</td>\n",
       "    </tr>\n",
       "    <tr>\n",
       "      <td>...</td>\n",
       "      <td>...</td>\n",
       "      <td>...</td>\n",
       "      <td>...</td>\n",
       "    </tr>\n",
       "    <tr>\n",
       "      <td>97770</td>\n",
       "      <td>2228215</td>\n",
       "      <td>3944515</td>\n",
       "      <td>0</td>\n",
       "    </tr>\n",
       "    <tr>\n",
       "      <td>97771</td>\n",
       "      <td>2064376</td>\n",
       "      <td>4609721</td>\n",
       "      <td>0</td>\n",
       "    </tr>\n",
       "    <tr>\n",
       "      <td>97772</td>\n",
       "      <td>1343481</td>\n",
       "      <td>4411437</td>\n",
       "      <td>0</td>\n",
       "    </tr>\n",
       "    <tr>\n",
       "      <td>97773</td>\n",
       "      <td>1998843</td>\n",
       "      <td>4723890</td>\n",
       "      <td>0</td>\n",
       "    </tr>\n",
       "    <tr>\n",
       "      <td>97774</td>\n",
       "      <td>1900542</td>\n",
       "      <td>4768404</td>\n",
       "      <td>0</td>\n",
       "    </tr>\n",
       "  </tbody>\n",
       "</table>\n",
       "<p>97775 rows × 3 columns</p>\n",
       "</div>"
      ],
      "text/plain": [
       "          from       in  label\n",
       "0      1212419   885440      0\n",
       "1      2293763   403958      0\n",
       "2       720901   794772      0\n",
       "3      4784135   933488      0\n",
       "4      2686984   441001      0\n",
       "...        ...      ...    ...\n",
       "97770  2228215  3944515      0\n",
       "97771  2064376  4609721      0\n",
       "97772  1343481  4411437      0\n",
       "97773  1998843  4723890      0\n",
       "97774  1900542  4768404      0\n",
       "\n",
       "[97775 rows x 3 columns]"
      ]
     },
     "execution_count": 40,
     "metadata": {},
     "output_type": "execute_result"
    }
   ],
   "source": [
    "#a = list(range(0,97775))\n",
    "df.index = range(0,97775)\n",
    "df"
   ]
  },
  {
   "cell_type": "code",
   "execution_count": 41,
   "metadata": {},
   "outputs": [],
   "source": [
    "#random.seed(912)\n",
    "#indx = random.sample(range(0,97775),2000)"
   ]
  },
  {
   "cell_type": "code",
   "execution_count": 42,
   "metadata": {},
   "outputs": [],
   "source": [
    "df.to_csv('/Users/mac/Desktop/Project1/negative.csv', index = False, header = True)"
   ]
  },
  {
   "cell_type": "code",
   "execution_count": 43,
   "metadata": {},
   "outputs": [
    {
     "data": {
      "text/html": [
       "<div>\n",
       "<style scoped>\n",
       "    .dataframe tbody tr th:only-of-type {\n",
       "        vertical-align: middle;\n",
       "    }\n",
       "\n",
       "    .dataframe tbody tr th {\n",
       "        vertical-align: top;\n",
       "    }\n",
       "\n",
       "    .dataframe thead th {\n",
       "        text-align: right;\n",
       "    }\n",
       "</style>\n",
       "<table border=\"1\" class=\"dataframe\">\n",
       "  <thead>\n",
       "    <tr style=\"text-align: right;\">\n",
       "      <th></th>\n",
       "      <th>from</th>\n",
       "      <th>in</th>\n",
       "      <th>label</th>\n",
       "    </tr>\n",
       "  </thead>\n",
       "  <tbody>\n",
       "    <tr>\n",
       "      <td>0</td>\n",
       "      <td>1212419</td>\n",
       "      <td>885440</td>\n",
       "      <td>0</td>\n",
       "    </tr>\n",
       "    <tr>\n",
       "      <td>1</td>\n",
       "      <td>2293763</td>\n",
       "      <td>403958</td>\n",
       "      <td>0</td>\n",
       "    </tr>\n",
       "    <tr>\n",
       "      <td>2</td>\n",
       "      <td>720901</td>\n",
       "      <td>794772</td>\n",
       "      <td>0</td>\n",
       "    </tr>\n",
       "    <tr>\n",
       "      <td>3</td>\n",
       "      <td>4784135</td>\n",
       "      <td>933488</td>\n",
       "      <td>0</td>\n",
       "    </tr>\n",
       "    <tr>\n",
       "      <td>4</td>\n",
       "      <td>2686984</td>\n",
       "      <td>441001</td>\n",
       "      <td>0</td>\n",
       "    </tr>\n",
       "    <tr>\n",
       "      <td>...</td>\n",
       "      <td>...</td>\n",
       "      <td>...</td>\n",
       "      <td>...</td>\n",
       "    </tr>\n",
       "    <tr>\n",
       "      <td>97770</td>\n",
       "      <td>2228215</td>\n",
       "      <td>3944515</td>\n",
       "      <td>0</td>\n",
       "    </tr>\n",
       "    <tr>\n",
       "      <td>97771</td>\n",
       "      <td>2064376</td>\n",
       "      <td>4609721</td>\n",
       "      <td>0</td>\n",
       "    </tr>\n",
       "    <tr>\n",
       "      <td>97772</td>\n",
       "      <td>1343481</td>\n",
       "      <td>4411437</td>\n",
       "      <td>0</td>\n",
       "    </tr>\n",
       "    <tr>\n",
       "      <td>97773</td>\n",
       "      <td>1998843</td>\n",
       "      <td>4723890</td>\n",
       "      <td>0</td>\n",
       "    </tr>\n",
       "    <tr>\n",
       "      <td>97774</td>\n",
       "      <td>1900542</td>\n",
       "      <td>4768404</td>\n",
       "      <td>0</td>\n",
       "    </tr>\n",
       "  </tbody>\n",
       "</table>\n",
       "<p>97775 rows × 3 columns</p>\n",
       "</div>"
      ],
      "text/plain": [
       "          from       in  label\n",
       "0      1212419   885440      0\n",
       "1      2293763   403958      0\n",
       "2       720901   794772      0\n",
       "3      4784135   933488      0\n",
       "4      2686984   441001      0\n",
       "...        ...      ...    ...\n",
       "97770  2228215  3944515      0\n",
       "97771  2064376  4609721      0\n",
       "97772  1343481  4411437      0\n",
       "97773  1998843  4723890      0\n",
       "97774  1900542  4768404      0\n",
       "\n",
       "[97775 rows x 3 columns]"
      ]
     },
     "execution_count": 43,
     "metadata": {},
     "output_type": "execute_result"
    }
   ],
   "source": [
    "nage = pd.read_csv('/Users/mac/Desktop/Project1/negative.csv')\n",
    "nage"
   ]
  },
  {
   "cell_type": "code",
   "execution_count": 69,
   "metadata": {},
   "outputs": [
    {
     "data": {
      "text/html": [
       "<div>\n",
       "<style scoped>\n",
       "    .dataframe tbody tr th:only-of-type {\n",
       "        vertical-align: middle;\n",
       "    }\n",
       "\n",
       "    .dataframe tbody tr th {\n",
       "        vertical-align: top;\n",
       "    }\n",
       "\n",
       "    .dataframe thead th {\n",
       "        text-align: right;\n",
       "    }\n",
       "</style>\n",
       "<table border=\"1\" class=\"dataframe\">\n",
       "  <thead>\n",
       "    <tr style=\"text-align: right;\">\n",
       "      <th></th>\n",
       "      <th>from</th>\n",
       "      <th>in</th>\n",
       "      <th>label</th>\n",
       "    </tr>\n",
       "  </thead>\n",
       "  <tbody>\n",
       "    <tr>\n",
       "      <td>68990</td>\n",
       "      <td>4244384</td>\n",
       "      <td>3140557</td>\n",
       "      <td>0</td>\n",
       "    </tr>\n",
       "    <tr>\n",
       "      <td>97162</td>\n",
       "      <td>3243032</td>\n",
       "      <td>4241080</td>\n",
       "      <td>0</td>\n",
       "    </tr>\n",
       "    <tr>\n",
       "      <td>40713</td>\n",
       "      <td>789124</td>\n",
       "      <td>2786390</td>\n",
       "      <td>0</td>\n",
       "    </tr>\n",
       "    <tr>\n",
       "      <td>24732</td>\n",
       "      <td>2335227</td>\n",
       "      <td>1612408</td>\n",
       "      <td>0</td>\n",
       "    </tr>\n",
       "    <tr>\n",
       "      <td>73405</td>\n",
       "      <td>1532016</td>\n",
       "      <td>3696130</td>\n",
       "      <td>0</td>\n",
       "    </tr>\n",
       "    <tr>\n",
       "      <td>...</td>\n",
       "      <td>...</td>\n",
       "      <td>...</td>\n",
       "      <td>...</td>\n",
       "    </tr>\n",
       "    <tr>\n",
       "      <td>52985</td>\n",
       "      <td>4086455</td>\n",
       "      <td>2011407</td>\n",
       "      <td>0</td>\n",
       "    </tr>\n",
       "    <tr>\n",
       "      <td>72825</td>\n",
       "      <td>3464362</td>\n",
       "      <td>3048234</td>\n",
       "      <td>0</td>\n",
       "    </tr>\n",
       "    <tr>\n",
       "      <td>35918</td>\n",
       "      <td>3795799</td>\n",
       "      <td>1714468</td>\n",
       "      <td>0</td>\n",
       "    </tr>\n",
       "    <tr>\n",
       "      <td>72818</td>\n",
       "      <td>3595427</td>\n",
       "      <td>3381548</td>\n",
       "      <td>0</td>\n",
       "    </tr>\n",
       "    <tr>\n",
       "      <td>95778</td>\n",
       "      <td>455376</td>\n",
       "      <td>4137646</td>\n",
       "      <td>0</td>\n",
       "    </tr>\n",
       "  </tbody>\n",
       "</table>\n",
       "<p>2500 rows × 3 columns</p>\n",
       "</div>"
      ],
      "text/plain": [
       "          from       in  label\n",
       "68990  4244384  3140557      0\n",
       "97162  3243032  4241080      0\n",
       "40713   789124  2786390      0\n",
       "24732  2335227  1612408      0\n",
       "73405  1532016  3696130      0\n",
       "...        ...      ...    ...\n",
       "52985  4086455  2011407      0\n",
       "72825  3464362  3048234      0\n",
       "35918  3795799  1714468      0\n",
       "72818  3595427  3381548      0\n",
       "95778   455376  4137646      0\n",
       "\n",
       "[2500 rows x 3 columns]"
      ]
     },
     "execution_count": 69,
     "metadata": {},
     "output_type": "execute_result"
    }
   ],
   "source": [
    "random.seed(912)\n",
    "indx = random.sample(range(0,97775),2500)\n",
    "nage_sub = df.loc[indx]\n",
    "nage_sub"
   ]
  },
  {
   "cell_type": "code",
   "execution_count": 45,
   "metadata": {},
   "outputs": [],
   "source": [
    "random.seed(912)\n",
    "indx = random.sample(range(0,24004360),6000)"
   ]
  },
  {
   "cell_type": "code",
   "execution_count": 46,
   "metadata": {},
   "outputs": [
    {
     "data": {
      "text/plain": [
       "array([[ 540762, 1912140],\n",
       "       [ 540762, 1537559],\n",
       "       [ 540762, 3091331],\n",
       "       ...,\n",
       "       [3547024, 1135647],\n",
       "       [3547024,  807274],\n",
       "       [3547024, 3897045]])"
      ]
     },
     "execution_count": 46,
     "metadata": {},
     "output_type": "execute_result"
    }
   ],
   "source": [
    "data = np.array(Data[['node_1','node_2']])\n",
    "data"
   ]
  },
  {
   "cell_type": "code",
   "execution_count": 47,
   "metadata": {},
   "outputs": [],
   "source": [
    "indx2 = []\n",
    "\n",
    "for i in indx:\n",
    "    node_a = Data.loc[i].node_1\n",
    "    node_b = Data.loc[i].node_2\n",
    "    a = DG.in_degree(node_a) -1\n",
    "    b = DG.out_degree(node_a) -1\n",
    "    c = DG.in_degree(node_b) -1\n",
    "    d = DG.out_degree(node_b) -1\n",
    "    \n",
    "    if a & b & c & d:\n",
    "        indx2.append(i)"
   ]
  },
  {
   "cell_type": "code",
   "execution_count": 48,
   "metadata": {},
   "outputs": [],
   "source": [
    "random.seed(912)\n",
    "indx3 = random.sample(indx2,2000)"
   ]
  },
  {
   "cell_type": "code",
   "execution_count": 49,
   "metadata": {},
   "outputs": [
    {
     "data": {
      "text/html": [
       "<div>\n",
       "<style scoped>\n",
       "    .dataframe tbody tr th:only-of-type {\n",
       "        vertical-align: middle;\n",
       "    }\n",
       "\n",
       "    .dataframe tbody tr th {\n",
       "        vertical-align: top;\n",
       "    }\n",
       "\n",
       "    .dataframe thead th {\n",
       "        text-align: right;\n",
       "    }\n",
       "</style>\n",
       "<table border=\"1\" class=\"dataframe\">\n",
       "  <thead>\n",
       "    <tr style=\"text-align: right;\">\n",
       "      <th></th>\n",
       "      <th>node_1</th>\n",
       "      <th>node_2</th>\n",
       "    </tr>\n",
       "  </thead>\n",
       "  <tbody>\n",
       "    <tr>\n",
       "      <td>0</td>\n",
       "      <td>540762</td>\n",
       "      <td>1912140</td>\n",
       "    </tr>\n",
       "    <tr>\n",
       "      <td>1</td>\n",
       "      <td>540762</td>\n",
       "      <td>1537559</td>\n",
       "    </tr>\n",
       "    <tr>\n",
       "      <td>2</td>\n",
       "      <td>540762</td>\n",
       "      <td>3091331</td>\n",
       "    </tr>\n",
       "    <tr>\n",
       "      <td>3</td>\n",
       "      <td>540762</td>\n",
       "      <td>2757277</td>\n",
       "    </tr>\n",
       "    <tr>\n",
       "      <td>4</td>\n",
       "      <td>540762</td>\n",
       "      <td>3237295</td>\n",
       "    </tr>\n",
       "    <tr>\n",
       "      <td>...</td>\n",
       "      <td>...</td>\n",
       "      <td>...</td>\n",
       "    </tr>\n",
       "    <tr>\n",
       "      <td>24004356</td>\n",
       "      <td>3547024</td>\n",
       "      <td>1075576</td>\n",
       "    </tr>\n",
       "    <tr>\n",
       "      <td>24004357</td>\n",
       "      <td>3547024</td>\n",
       "      <td>4549841</td>\n",
       "    </tr>\n",
       "    <tr>\n",
       "      <td>24004358</td>\n",
       "      <td>3547024</td>\n",
       "      <td>1135647</td>\n",
       "    </tr>\n",
       "    <tr>\n",
       "      <td>24004359</td>\n",
       "      <td>3547024</td>\n",
       "      <td>807274</td>\n",
       "    </tr>\n",
       "    <tr>\n",
       "      <td>24004360</td>\n",
       "      <td>3547024</td>\n",
       "      <td>3897045</td>\n",
       "    </tr>\n",
       "  </tbody>\n",
       "</table>\n",
       "<p>24002361 rows × 2 columns</p>\n",
       "</div>"
      ],
      "text/plain": [
       "           node_1   node_2\n",
       "0          540762  1912140\n",
       "1          540762  1537559\n",
       "2          540762  3091331\n",
       "3          540762  2757277\n",
       "4          540762  3237295\n",
       "...           ...      ...\n",
       "24004356  3547024  1075576\n",
       "24004357  3547024  4549841\n",
       "24004358  3547024  1135647\n",
       "24004359  3547024   807274\n",
       "24004360  3547024  3897045\n",
       "\n",
       "[24002361 rows x 2 columns]"
      ]
     },
     "execution_count": 49,
     "metadata": {},
     "output_type": "execute_result"
    }
   ],
   "source": [
    "posi_sub = Data.loc[indx3]\n",
    "posi_sub['label'] = 1\n",
    "posi_sub.columns = ['from','in','label']\n",
    "posi_sub #1967169\n",
    "data_part = Data.drop(index=Data.loc[indx3].index)\n",
    "data_part #24002361 rows × 2 columns"
   ]
  },
  {
   "cell_type": "code",
   "execution_count": 50,
   "metadata": {},
   "outputs": [
    {
     "data": {
      "text/html": [
       "<div>\n",
       "<style scoped>\n",
       "    .dataframe tbody tr th:only-of-type {\n",
       "        vertical-align: middle;\n",
       "    }\n",
       "\n",
       "    .dataframe tbody tr th {\n",
       "        vertical-align: top;\n",
       "    }\n",
       "\n",
       "    .dataframe thead th {\n",
       "        text-align: right;\n",
       "    }\n",
       "</style>\n",
       "<table border=\"1\" class=\"dataframe\">\n",
       "  <thead>\n",
       "    <tr style=\"text-align: right;\">\n",
       "      <th></th>\n",
       "      <th>from</th>\n",
       "      <th>in</th>\n",
       "      <th>label</th>\n",
       "    </tr>\n",
       "  </thead>\n",
       "  <tbody>\n",
       "    <tr>\n",
       "      <td>21926351</td>\n",
       "      <td>2893327</td>\n",
       "      <td>4331696</td>\n",
       "      <td>1</td>\n",
       "    </tr>\n",
       "    <tr>\n",
       "      <td>9861735</td>\n",
       "      <td>455376</td>\n",
       "      <td>4697286</td>\n",
       "      <td>1</td>\n",
       "    </tr>\n",
       "    <tr>\n",
       "      <td>11137021</td>\n",
       "      <td>544230</td>\n",
       "      <td>521586</td>\n",
       "      <td>1</td>\n",
       "    </tr>\n",
       "    <tr>\n",
       "      <td>22630848</td>\n",
       "      <td>4238001</td>\n",
       "      <td>1870577</td>\n",
       "      <td>1</td>\n",
       "    </tr>\n",
       "    <tr>\n",
       "      <td>15895682</td>\n",
       "      <td>1249227</td>\n",
       "      <td>1024872</td>\n",
       "      <td>1</td>\n",
       "    </tr>\n",
       "    <tr>\n",
       "      <td>...</td>\n",
       "      <td>...</td>\n",
       "      <td>...</td>\n",
       "      <td>...</td>\n",
       "    </tr>\n",
       "    <tr>\n",
       "      <td>20957257</td>\n",
       "      <td>295156</td>\n",
       "      <td>4526614</td>\n",
       "      <td>1</td>\n",
       "    </tr>\n",
       "    <tr>\n",
       "      <td>20486120</td>\n",
       "      <td>593740</td>\n",
       "      <td>2864121</td>\n",
       "      <td>1</td>\n",
       "    </tr>\n",
       "    <tr>\n",
       "      <td>3556298</td>\n",
       "      <td>1580988</td>\n",
       "      <td>1955718</td>\n",
       "      <td>1</td>\n",
       "    </tr>\n",
       "    <tr>\n",
       "      <td>1988639</td>\n",
       "      <td>2727581</td>\n",
       "      <td>3905749</td>\n",
       "      <td>1</td>\n",
       "    </tr>\n",
       "    <tr>\n",
       "      <td>6896246</td>\n",
       "      <td>4492248</td>\n",
       "      <td>2811644</td>\n",
       "      <td>1</td>\n",
       "    </tr>\n",
       "  </tbody>\n",
       "</table>\n",
       "<p>2000 rows × 3 columns</p>\n",
       "</div>"
      ],
      "text/plain": [
       "             from       in  label\n",
       "21926351  2893327  4331696      1\n",
       "9861735    455376  4697286      1\n",
       "11137021   544230   521586      1\n",
       "22630848  4238001  1870577      1\n",
       "15895682  1249227  1024872      1\n",
       "...           ...      ...    ...\n",
       "20957257   295156  4526614      1\n",
       "20486120   593740  2864121      1\n",
       "3556298   1580988  1955718      1\n",
       "1988639   2727581  3905749      1\n",
       "6896246   4492248  2811644      1\n",
       "\n",
       "[2000 rows x 3 columns]"
      ]
     },
     "execution_count": 50,
     "metadata": {},
     "output_type": "execute_result"
    }
   ],
   "source": [
    "posi_sub"
   ]
  },
  {
   "cell_type": "code",
   "execution_count": 70,
   "metadata": {},
   "outputs": [
    {
     "data": {
      "text/html": [
       "<div>\n",
       "<style scoped>\n",
       "    .dataframe tbody tr th:only-of-type {\n",
       "        vertical-align: middle;\n",
       "    }\n",
       "\n",
       "    .dataframe tbody tr th {\n",
       "        vertical-align: top;\n",
       "    }\n",
       "\n",
       "    .dataframe thead th {\n",
       "        text-align: right;\n",
       "    }\n",
       "</style>\n",
       "<table border=\"1\" class=\"dataframe\">\n",
       "  <thead>\n",
       "    <tr style=\"text-align: right;\">\n",
       "      <th></th>\n",
       "      <th>from</th>\n",
       "      <th>in</th>\n",
       "      <th>label</th>\n",
       "    </tr>\n",
       "  </thead>\n",
       "  <tbody>\n",
       "    <tr>\n",
       "      <td>21926351</td>\n",
       "      <td>2893327</td>\n",
       "      <td>4331696</td>\n",
       "      <td>1</td>\n",
       "    </tr>\n",
       "    <tr>\n",
       "      <td>9861735</td>\n",
       "      <td>455376</td>\n",
       "      <td>4697286</td>\n",
       "      <td>1</td>\n",
       "    </tr>\n",
       "    <tr>\n",
       "      <td>11137021</td>\n",
       "      <td>544230</td>\n",
       "      <td>521586</td>\n",
       "      <td>1</td>\n",
       "    </tr>\n",
       "    <tr>\n",
       "      <td>22630848</td>\n",
       "      <td>4238001</td>\n",
       "      <td>1870577</td>\n",
       "      <td>1</td>\n",
       "    </tr>\n",
       "    <tr>\n",
       "      <td>15895682</td>\n",
       "      <td>1249227</td>\n",
       "      <td>1024872</td>\n",
       "      <td>1</td>\n",
       "    </tr>\n",
       "    <tr>\n",
       "      <td>...</td>\n",
       "      <td>...</td>\n",
       "      <td>...</td>\n",
       "      <td>...</td>\n",
       "    </tr>\n",
       "    <tr>\n",
       "      <td>52985</td>\n",
       "      <td>4086455</td>\n",
       "      <td>2011407</td>\n",
       "      <td>0</td>\n",
       "    </tr>\n",
       "    <tr>\n",
       "      <td>72825</td>\n",
       "      <td>3464362</td>\n",
       "      <td>3048234</td>\n",
       "      <td>0</td>\n",
       "    </tr>\n",
       "    <tr>\n",
       "      <td>35918</td>\n",
       "      <td>3795799</td>\n",
       "      <td>1714468</td>\n",
       "      <td>0</td>\n",
       "    </tr>\n",
       "    <tr>\n",
       "      <td>72818</td>\n",
       "      <td>3595427</td>\n",
       "      <td>3381548</td>\n",
       "      <td>0</td>\n",
       "    </tr>\n",
       "    <tr>\n",
       "      <td>95778</td>\n",
       "      <td>455376</td>\n",
       "      <td>4137646</td>\n",
       "      <td>0</td>\n",
       "    </tr>\n",
       "  </tbody>\n",
       "</table>\n",
       "<p>4500 rows × 3 columns</p>\n",
       "</div>"
      ],
      "text/plain": [
       "             from       in  label\n",
       "21926351  2893327  4331696      1\n",
       "9861735    455376  4697286      1\n",
       "11137021   544230   521586      1\n",
       "22630848  4238001  1870577      1\n",
       "15895682  1249227  1024872      1\n",
       "...           ...      ...    ...\n",
       "52985     4086455  2011407      0\n",
       "72825     3464362  3048234      0\n",
       "35918     3795799  1714468      0\n",
       "72818     3595427  3381548      0\n",
       "95778      455376  4137646      0\n",
       "\n",
       "[4500 rows x 3 columns]"
      ]
     },
     "execution_count": 70,
     "metadata": {},
     "output_type": "execute_result"
    }
   ],
   "source": [
    "sample = posi_sub.append(nage_sub)\n",
    "sample"
   ]
  },
  {
   "cell_type": "code",
   "execution_count": 71,
   "metadata": {},
   "outputs": [],
   "source": [
    "sample.to_csv('/Users/mac/Desktop/Project1/train_sample.csv', index = False, header = True)"
   ]
  },
  {
   "cell_type": "code",
   "execution_count": 53,
   "metadata": {},
   "outputs": [],
   "source": [
    "data_part.to_csv('/Users/mac/Desktop/Project1/partial.csv', index = False, header = True)"
   ]
  },
  {
   "cell_type": "code",
   "execution_count": null,
   "metadata": {},
   "outputs": [],
   "source": []
  }
 ],
 "metadata": {
  "kernelspec": {
   "display_name": "Python 3",
   "language": "python",
   "name": "python3"
  },
  "language_info": {
   "codemirror_mode": {
    "name": "ipython",
    "version": 3
   },
   "file_extension": ".py",
   "mimetype": "text/x-python",
   "name": "python",
   "nbconvert_exporter": "python",
   "pygments_lexer": "ipython3",
   "version": "3.7.4"
  }
 },
 "nbformat": 4,
 "nbformat_minor": 2
}
